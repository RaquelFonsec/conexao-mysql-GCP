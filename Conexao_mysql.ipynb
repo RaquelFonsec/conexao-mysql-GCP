{
  "nbformat": 4,
  "nbformat_minor": 0,
  "metadata": {
    "colab": {
      "provenance": [],
      "authorship_tag": "ABX9TyMfm9+4Zv3JpwsNOaxGyA2v",
      "include_colab_link": true
    },
    "kernelspec": {
      "name": "python3",
      "display_name": "Python 3"
    },
    "language_info": {
      "name": "python"
    }
  },
  "cells": [
    {
      "cell_type": "markdown",
      "metadata": {
        "id": "view-in-github",
        "colab_type": "text"
      },
      "source": [
        "<a href=\"https://colab.research.google.com/github/RaquelFonsec/conexao-mysql-GCP/blob/main/Conexao_mysql.ipynb\" target=\"_parent\"><img src=\"https://colab.research.google.com/assets/colab-badge.svg\" alt=\"Open In Colab\"/></a>"
      ]
    },
    {
      "cell_type": "code",
      "execution_count": 160,
      "metadata": {
        "colab": {
          "base_uri": "https://localhost:8080/"
        },
        "id": "TdARuATeJ4Hm",
        "outputId": "57c5c4f2-ab81-4dc2-c006-e5ac2d8574a8"
      },
      "outputs": [
        {
          "output_type": "stream",
          "name": "stdout",
          "text": [
            "34.148.137.209"
          ]
        }
      ],
      "source": [
        "### Esse é o identificador do colab e deve ser inserido no campo rede na gcp quando reinicial o colab ele muda e deverá ser atualizado na gcp\n",
        "!curl ipecho.net/plain"
      ]
    },
    {
      "cell_type": "code",
      "source": [
        "!pip install mysql-connector-python"
      ],
      "metadata": {
        "colab": {
          "base_uri": "https://localhost:8080/"
        },
        "id": "F1us6TZJPICe",
        "outputId": "8d34061b-3cf2-411f-fa0a-6704019096f9"
      },
      "execution_count": 161,
      "outputs": [
        {
          "output_type": "stream",
          "name": "stdout",
          "text": [
            "Requirement already satisfied: mysql-connector-python in /usr/local/lib/python3.11/dist-packages (9.2.0)\n"
          ]
        }
      ]
    },
    {
      "cell_type": "code",
      "source": [
        "import mysql.connector\n",
        "import pandas as pd"
      ],
      "metadata": {
        "id": "rU9CR4u3PSX3"
      },
      "execution_count": 162,
      "outputs": []
    },
    {
      "cell_type": "code",
      "source": [
        "host = '34.170.104.203'#esse vem da GCP ip da instancia\n",
        "user = 'root'\n",
        "password = ''"
      ],
      "metadata": {
        "id": "BzlgggD0P4Rf"
      },
      "execution_count": 163,
      "outputs": []
    },
    {
      "cell_type": "code",
      "source": [
        "# Criando a conexão com o banco de dados\n",
        "connection = mysql.connector.connect(\n",
        "    host=host,\n",
        "    user=user,\n",
        "    password=password\n",
        ")\n",
        "\n",
        "# Criando o cursor para executar comandos SQL\n",
        "cursor = connection.cursor()\n",
        "\n",
        "# Consulta SQL para listar os bancos de dados\n",
        "query = 'SHOW DATABASES;'\n",
        "cursor.execute(query)\n",
        "\n",
        "# Armazenando os resultados\n",
        "result = cursor.fetchall()\n",
        "\n",
        "# Convertendo os resultados para um DataFrame do Pandas\n",
        "bancos = pd.DataFrame(result, columns=[\"Databases\"])  # Nomeando a coluna corretamente\n",
        "\n",
        "# Exibindo a tabela Pandas\n",
        "display(bancos)\n",
        "\n",
        "# Fechando cursor e conexão\n",
        "cursor.close()\n",
        "connection.close()\n"
      ],
      "metadata": {
        "colab": {
          "base_uri": "https://localhost:8080/",
          "height": 206
        },
        "id": "kfO9oIfzMKnV",
        "outputId": "392c21fb-d967-4a95-d54b-c8ed90d7b84e"
      },
      "execution_count": 164,
      "outputs": [
        {
          "output_type": "display_data",
          "data": {
            "text/plain": [
              "            Databases\n",
              "0  information_schema\n",
              "1            locadora\n",
              "2               mysql\n",
              "3  performance_schema\n",
              "4                 sys"
            ],
            "text/html": [
              "\n",
              "  <div id=\"df-01584e7f-d7e7-458d-b581-e12d2a2f15e0\" class=\"colab-df-container\">\n",
              "    <div>\n",
              "<style scoped>\n",
              "    .dataframe tbody tr th:only-of-type {\n",
              "        vertical-align: middle;\n",
              "    }\n",
              "\n",
              "    .dataframe tbody tr th {\n",
              "        vertical-align: top;\n",
              "    }\n",
              "\n",
              "    .dataframe thead th {\n",
              "        text-align: right;\n",
              "    }\n",
              "</style>\n",
              "<table border=\"1\" class=\"dataframe\">\n",
              "  <thead>\n",
              "    <tr style=\"text-align: right;\">\n",
              "      <th></th>\n",
              "      <th>Databases</th>\n",
              "    </tr>\n",
              "  </thead>\n",
              "  <tbody>\n",
              "    <tr>\n",
              "      <th>0</th>\n",
              "      <td>information_schema</td>\n",
              "    </tr>\n",
              "    <tr>\n",
              "      <th>1</th>\n",
              "      <td>locadora</td>\n",
              "    </tr>\n",
              "    <tr>\n",
              "      <th>2</th>\n",
              "      <td>mysql</td>\n",
              "    </tr>\n",
              "    <tr>\n",
              "      <th>3</th>\n",
              "      <td>performance_schema</td>\n",
              "    </tr>\n",
              "    <tr>\n",
              "      <th>4</th>\n",
              "      <td>sys</td>\n",
              "    </tr>\n",
              "  </tbody>\n",
              "</table>\n",
              "</div>\n",
              "    <div class=\"colab-df-buttons\">\n",
              "\n",
              "  <div class=\"colab-df-container\">\n",
              "    <button class=\"colab-df-convert\" onclick=\"convertToInteractive('df-01584e7f-d7e7-458d-b581-e12d2a2f15e0')\"\n",
              "            title=\"Convert this dataframe to an interactive table.\"\n",
              "            style=\"display:none;\">\n",
              "\n",
              "  <svg xmlns=\"http://www.w3.org/2000/svg\" height=\"24px\" viewBox=\"0 -960 960 960\">\n",
              "    <path d=\"M120-120v-720h720v720H120Zm60-500h600v-160H180v160Zm220 220h160v-160H400v160Zm0 220h160v-160H400v160ZM180-400h160v-160H180v160Zm440 0h160v-160H620v160ZM180-180h160v-160H180v160Zm440 0h160v-160H620v160Z\"/>\n",
              "  </svg>\n",
              "    </button>\n",
              "\n",
              "  <style>\n",
              "    .colab-df-container {\n",
              "      display:flex;\n",
              "      gap: 12px;\n",
              "    }\n",
              "\n",
              "    .colab-df-convert {\n",
              "      background-color: #E8F0FE;\n",
              "      border: none;\n",
              "      border-radius: 50%;\n",
              "      cursor: pointer;\n",
              "      display: none;\n",
              "      fill: #1967D2;\n",
              "      height: 32px;\n",
              "      padding: 0 0 0 0;\n",
              "      width: 32px;\n",
              "    }\n",
              "\n",
              "    .colab-df-convert:hover {\n",
              "      background-color: #E2EBFA;\n",
              "      box-shadow: 0px 1px 2px rgba(60, 64, 67, 0.3), 0px 1px 3px 1px rgba(60, 64, 67, 0.15);\n",
              "      fill: #174EA6;\n",
              "    }\n",
              "\n",
              "    .colab-df-buttons div {\n",
              "      margin-bottom: 4px;\n",
              "    }\n",
              "\n",
              "    [theme=dark] .colab-df-convert {\n",
              "      background-color: #3B4455;\n",
              "      fill: #D2E3FC;\n",
              "    }\n",
              "\n",
              "    [theme=dark] .colab-df-convert:hover {\n",
              "      background-color: #434B5C;\n",
              "      box-shadow: 0px 1px 3px 1px rgba(0, 0, 0, 0.15);\n",
              "      filter: drop-shadow(0px 1px 2px rgba(0, 0, 0, 0.3));\n",
              "      fill: #FFFFFF;\n",
              "    }\n",
              "  </style>\n",
              "\n",
              "    <script>\n",
              "      const buttonEl =\n",
              "        document.querySelector('#df-01584e7f-d7e7-458d-b581-e12d2a2f15e0 button.colab-df-convert');\n",
              "      buttonEl.style.display =\n",
              "        google.colab.kernel.accessAllowed ? 'block' : 'none';\n",
              "\n",
              "      async function convertToInteractive(key) {\n",
              "        const element = document.querySelector('#df-01584e7f-d7e7-458d-b581-e12d2a2f15e0');\n",
              "        const dataTable =\n",
              "          await google.colab.kernel.invokeFunction('convertToInteractive',\n",
              "                                                    [key], {});\n",
              "        if (!dataTable) return;\n",
              "\n",
              "        const docLinkHtml = 'Like what you see? Visit the ' +\n",
              "          '<a target=\"_blank\" href=https://colab.research.google.com/notebooks/data_table.ipynb>data table notebook</a>'\n",
              "          + ' to learn more about interactive tables.';\n",
              "        element.innerHTML = '';\n",
              "        dataTable['output_type'] = 'display_data';\n",
              "        await google.colab.output.renderOutput(dataTable, element);\n",
              "        const docLink = document.createElement('div');\n",
              "        docLink.innerHTML = docLinkHtml;\n",
              "        element.appendChild(docLink);\n",
              "      }\n",
              "    </script>\n",
              "  </div>\n",
              "\n",
              "\n",
              "<div id=\"df-764cc221-5940-4ffb-803f-80cba6d941c2\">\n",
              "  <button class=\"colab-df-quickchart\" onclick=\"quickchart('df-764cc221-5940-4ffb-803f-80cba6d941c2')\"\n",
              "            title=\"Suggest charts\"\n",
              "            style=\"display:none;\">\n",
              "\n",
              "<svg xmlns=\"http://www.w3.org/2000/svg\" height=\"24px\"viewBox=\"0 0 24 24\"\n",
              "     width=\"24px\">\n",
              "    <g>\n",
              "        <path d=\"M19 3H5c-1.1 0-2 .9-2 2v14c0 1.1.9 2 2 2h14c1.1 0 2-.9 2-2V5c0-1.1-.9-2-2-2zM9 17H7v-7h2v7zm4 0h-2V7h2v10zm4 0h-2v-4h2v4z\"/>\n",
              "    </g>\n",
              "</svg>\n",
              "  </button>\n",
              "\n",
              "<style>\n",
              "  .colab-df-quickchart {\n",
              "      --bg-color: #E8F0FE;\n",
              "      --fill-color: #1967D2;\n",
              "      --hover-bg-color: #E2EBFA;\n",
              "      --hover-fill-color: #174EA6;\n",
              "      --disabled-fill-color: #AAA;\n",
              "      --disabled-bg-color: #DDD;\n",
              "  }\n",
              "\n",
              "  [theme=dark] .colab-df-quickchart {\n",
              "      --bg-color: #3B4455;\n",
              "      --fill-color: #D2E3FC;\n",
              "      --hover-bg-color: #434B5C;\n",
              "      --hover-fill-color: #FFFFFF;\n",
              "      --disabled-bg-color: #3B4455;\n",
              "      --disabled-fill-color: #666;\n",
              "  }\n",
              "\n",
              "  .colab-df-quickchart {\n",
              "    background-color: var(--bg-color);\n",
              "    border: none;\n",
              "    border-radius: 50%;\n",
              "    cursor: pointer;\n",
              "    display: none;\n",
              "    fill: var(--fill-color);\n",
              "    height: 32px;\n",
              "    padding: 0;\n",
              "    width: 32px;\n",
              "  }\n",
              "\n",
              "  .colab-df-quickchart:hover {\n",
              "    background-color: var(--hover-bg-color);\n",
              "    box-shadow: 0 1px 2px rgba(60, 64, 67, 0.3), 0 1px 3px 1px rgba(60, 64, 67, 0.15);\n",
              "    fill: var(--button-hover-fill-color);\n",
              "  }\n",
              "\n",
              "  .colab-df-quickchart-complete:disabled,\n",
              "  .colab-df-quickchart-complete:disabled:hover {\n",
              "    background-color: var(--disabled-bg-color);\n",
              "    fill: var(--disabled-fill-color);\n",
              "    box-shadow: none;\n",
              "  }\n",
              "\n",
              "  .colab-df-spinner {\n",
              "    border: 2px solid var(--fill-color);\n",
              "    border-color: transparent;\n",
              "    border-bottom-color: var(--fill-color);\n",
              "    animation:\n",
              "      spin 1s steps(1) infinite;\n",
              "  }\n",
              "\n",
              "  @keyframes spin {\n",
              "    0% {\n",
              "      border-color: transparent;\n",
              "      border-bottom-color: var(--fill-color);\n",
              "      border-left-color: var(--fill-color);\n",
              "    }\n",
              "    20% {\n",
              "      border-color: transparent;\n",
              "      border-left-color: var(--fill-color);\n",
              "      border-top-color: var(--fill-color);\n",
              "    }\n",
              "    30% {\n",
              "      border-color: transparent;\n",
              "      border-left-color: var(--fill-color);\n",
              "      border-top-color: var(--fill-color);\n",
              "      border-right-color: var(--fill-color);\n",
              "    }\n",
              "    40% {\n",
              "      border-color: transparent;\n",
              "      border-right-color: var(--fill-color);\n",
              "      border-top-color: var(--fill-color);\n",
              "    }\n",
              "    60% {\n",
              "      border-color: transparent;\n",
              "      border-right-color: var(--fill-color);\n",
              "    }\n",
              "    80% {\n",
              "      border-color: transparent;\n",
              "      border-right-color: var(--fill-color);\n",
              "      border-bottom-color: var(--fill-color);\n",
              "    }\n",
              "    90% {\n",
              "      border-color: transparent;\n",
              "      border-bottom-color: var(--fill-color);\n",
              "    }\n",
              "  }\n",
              "</style>\n",
              "\n",
              "  <script>\n",
              "    async function quickchart(key) {\n",
              "      const quickchartButtonEl =\n",
              "        document.querySelector('#' + key + ' button');\n",
              "      quickchartButtonEl.disabled = true;  // To prevent multiple clicks.\n",
              "      quickchartButtonEl.classList.add('colab-df-spinner');\n",
              "      try {\n",
              "        const charts = await google.colab.kernel.invokeFunction(\n",
              "            'suggestCharts', [key], {});\n",
              "      } catch (error) {\n",
              "        console.error('Error during call to suggestCharts:', error);\n",
              "      }\n",
              "      quickchartButtonEl.classList.remove('colab-df-spinner');\n",
              "      quickchartButtonEl.classList.add('colab-df-quickchart-complete');\n",
              "    }\n",
              "    (() => {\n",
              "      let quickchartButtonEl =\n",
              "        document.querySelector('#df-764cc221-5940-4ffb-803f-80cba6d941c2 button');\n",
              "      quickchartButtonEl.style.display =\n",
              "        google.colab.kernel.accessAllowed ? 'block' : 'none';\n",
              "    })();\n",
              "  </script>\n",
              "</div>\n",
              "\n",
              "  <div id=\"id_7405783f-be16-4947-af9e-b4ad224f42aa\">\n",
              "    <style>\n",
              "      .colab-df-generate {\n",
              "        background-color: #E8F0FE;\n",
              "        border: none;\n",
              "        border-radius: 50%;\n",
              "        cursor: pointer;\n",
              "        display: none;\n",
              "        fill: #1967D2;\n",
              "        height: 32px;\n",
              "        padding: 0 0 0 0;\n",
              "        width: 32px;\n",
              "      }\n",
              "\n",
              "      .colab-df-generate:hover {\n",
              "        background-color: #E2EBFA;\n",
              "        box-shadow: 0px 1px 2px rgba(60, 64, 67, 0.3), 0px 1px 3px 1px rgba(60, 64, 67, 0.15);\n",
              "        fill: #174EA6;\n",
              "      }\n",
              "\n",
              "      [theme=dark] .colab-df-generate {\n",
              "        background-color: #3B4455;\n",
              "        fill: #D2E3FC;\n",
              "      }\n",
              "\n",
              "      [theme=dark] .colab-df-generate:hover {\n",
              "        background-color: #434B5C;\n",
              "        box-shadow: 0px 1px 3px 1px rgba(0, 0, 0, 0.15);\n",
              "        filter: drop-shadow(0px 1px 2px rgba(0, 0, 0, 0.3));\n",
              "        fill: #FFFFFF;\n",
              "      }\n",
              "    </style>\n",
              "    <button class=\"colab-df-generate\" onclick=\"generateWithVariable('bancos')\"\n",
              "            title=\"Generate code using this dataframe.\"\n",
              "            style=\"display:none;\">\n",
              "\n",
              "  <svg xmlns=\"http://www.w3.org/2000/svg\" height=\"24px\"viewBox=\"0 0 24 24\"\n",
              "       width=\"24px\">\n",
              "    <path d=\"M7,19H8.4L18.45,9,17,7.55,7,17.6ZM5,21V16.75L18.45,3.32a2,2,0,0,1,2.83,0l1.4,1.43a1.91,1.91,0,0,1,.58,1.4,1.91,1.91,0,0,1-.58,1.4L9.25,21ZM18.45,9,17,7.55Zm-12,3A5.31,5.31,0,0,0,4.9,8.1,5.31,5.31,0,0,0,1,6.5,5.31,5.31,0,0,0,4.9,4.9,5.31,5.31,0,0,0,6.5,1,5.31,5.31,0,0,0,8.1,4.9,5.31,5.31,0,0,0,12,6.5,5.46,5.46,0,0,0,6.5,12Z\"/>\n",
              "  </svg>\n",
              "    </button>\n",
              "    <script>\n",
              "      (() => {\n",
              "      const buttonEl =\n",
              "        document.querySelector('#id_7405783f-be16-4947-af9e-b4ad224f42aa button.colab-df-generate');\n",
              "      buttonEl.style.display =\n",
              "        google.colab.kernel.accessAllowed ? 'block' : 'none';\n",
              "\n",
              "      buttonEl.onclick = () => {\n",
              "        google.colab.notebook.generateWithVariable('bancos');\n",
              "      }\n",
              "      })();\n",
              "    </script>\n",
              "  </div>\n",
              "\n",
              "    </div>\n",
              "  </div>\n"
            ],
            "application/vnd.google.colaboratory.intrinsic+json": {
              "type": "dataframe",
              "variable_name": "bancos",
              "summary": "{\n  \"name\": \"bancos\",\n  \"rows\": 5,\n  \"fields\": [\n    {\n      \"column\": \"Databases\",\n      \"properties\": {\n        \"dtype\": \"string\",\n        \"num_unique_values\": 5,\n        \"samples\": [\n          \"locadora\",\n          \"sys\",\n          \"mysql\"\n        ],\n        \"semantic_type\": \"\",\n        \"description\": \"\"\n      }\n    }\n  ]\n}"
            }
          },
          "metadata": {}
        }
      ]
    },
    {
      "cell_type": "code",
      "source": [
        "import mysql.connector\n",
        "\n",
        "# Definição dos parâmetros de conexão\n",
        "host = '34.170.104.203'  # IP da instância GCP\n",
        "user = 'root'\n",
        "password = ''  # Sua senha do MySQL\n",
        "\n",
        "# Criando a conexão com o MySQL\n",
        "connection = mysql.connector.connect(\n",
        "    host=host,\n",
        "    user=user,\n",
        "    password=password\n",
        ")\n",
        "\n",
        "cursor = connection.cursor()\n",
        "\n",
        "# Verifica se o banco de dados \"locadora\" já existe\n",
        "cursor.execute(\"SHOW DATABASES;\")\n",
        "bancos_existentes = [banco[0] for banco in cursor.fetchall()]\n",
        "\n",
        "if \"locadora\" not in bancos_existentes:\n",
        "    query = \"CREATE DATABASE locadora\"\n",
        "    cursor.execute(query)\n",
        "    print(\"Banco de dados 'locadora' criado com sucesso!\")\n",
        "else:\n",
        "    print(\"O banco de dados 'locadora' já existe.\")\n",
        "\n",
        "# Fechando cursor e conexão\n",
        "cursor.close()\n",
        "connection.close()\n"
      ],
      "metadata": {
        "colab": {
          "base_uri": "https://localhost:8080/"
        },
        "id": "Fxstew9KMgB6",
        "outputId": "40aac373-2a01-4694-ef8a-5c0b1bc17f1d"
      },
      "execution_count": null,
      "outputs": [
        {
          "output_type": "stream",
          "name": "stdout",
          "text": [
            "O banco de dados 'locadora' já existe.\n"
          ]
        }
      ]
    },
    {
      "cell_type": "code",
      "source": [
        "connection = mysql.connector.connect(\n",
        "    host=host,\n",
        "    user=user,\n",
        "    password=password,\n",
        ") # estas linhas servem para criar a conexão com o banco de dados\n",
        "cursor = connection.cursor() #criando o cursor para apontar para o banco de dados\n",
        "query = 'show databases;' # Query ou consulta desejada\n",
        "cursor.execute(query) # Execução da consulta\n",
        "result = cursor.fetchall() # armazenando os resultados na variável results\n",
        "bancos = pd.DataFrame(result,columns=cursor.column_names) # convertendo a variável result em um df pandas chamado tabelas\n",
        "display(bancos) # exibindo a tabela pandas\n",
        "cursor.close() # fechando o cursor\n",
        "connection.close() # fechando a conexão"
      ],
      "metadata": {
        "colab": {
          "base_uri": "https://localhost:8080/",
          "height": 206
        },
        "id": "dZFzig2rVpTc",
        "outputId": "94c0197e-947f-4f18-a28a-7a3d65f713f3"
      },
      "execution_count": null,
      "outputs": [
        {
          "output_type": "display_data",
          "data": {
            "text/plain": [
              "             Database\n",
              "0  information_schema\n",
              "1            locadora\n",
              "2               mysql\n",
              "3  performance_schema\n",
              "4                 sys"
            ],
            "text/html": [
              "\n",
              "  <div id=\"df-12f8dda6-ddbe-47ce-8ed0-4d94c8629875\" class=\"colab-df-container\">\n",
              "    <div>\n",
              "<style scoped>\n",
              "    .dataframe tbody tr th:only-of-type {\n",
              "        vertical-align: middle;\n",
              "    }\n",
              "\n",
              "    .dataframe tbody tr th {\n",
              "        vertical-align: top;\n",
              "    }\n",
              "\n",
              "    .dataframe thead th {\n",
              "        text-align: right;\n",
              "    }\n",
              "</style>\n",
              "<table border=\"1\" class=\"dataframe\">\n",
              "  <thead>\n",
              "    <tr style=\"text-align: right;\">\n",
              "      <th></th>\n",
              "      <th>Database</th>\n",
              "    </tr>\n",
              "  </thead>\n",
              "  <tbody>\n",
              "    <tr>\n",
              "      <th>0</th>\n",
              "      <td>information_schema</td>\n",
              "    </tr>\n",
              "    <tr>\n",
              "      <th>1</th>\n",
              "      <td>locadora</td>\n",
              "    </tr>\n",
              "    <tr>\n",
              "      <th>2</th>\n",
              "      <td>mysql</td>\n",
              "    </tr>\n",
              "    <tr>\n",
              "      <th>3</th>\n",
              "      <td>performance_schema</td>\n",
              "    </tr>\n",
              "    <tr>\n",
              "      <th>4</th>\n",
              "      <td>sys</td>\n",
              "    </tr>\n",
              "  </tbody>\n",
              "</table>\n",
              "</div>\n",
              "    <div class=\"colab-df-buttons\">\n",
              "\n",
              "  <div class=\"colab-df-container\">\n",
              "    <button class=\"colab-df-convert\" onclick=\"convertToInteractive('df-12f8dda6-ddbe-47ce-8ed0-4d94c8629875')\"\n",
              "            title=\"Convert this dataframe to an interactive table.\"\n",
              "            style=\"display:none;\">\n",
              "\n",
              "  <svg xmlns=\"http://www.w3.org/2000/svg\" height=\"24px\" viewBox=\"0 -960 960 960\">\n",
              "    <path d=\"M120-120v-720h720v720H120Zm60-500h600v-160H180v160Zm220 220h160v-160H400v160Zm0 220h160v-160H400v160ZM180-400h160v-160H180v160Zm440 0h160v-160H620v160ZM180-180h160v-160H180v160Zm440 0h160v-160H620v160Z\"/>\n",
              "  </svg>\n",
              "    </button>\n",
              "\n",
              "  <style>\n",
              "    .colab-df-container {\n",
              "      display:flex;\n",
              "      gap: 12px;\n",
              "    }\n",
              "\n",
              "    .colab-df-convert {\n",
              "      background-color: #E8F0FE;\n",
              "      border: none;\n",
              "      border-radius: 50%;\n",
              "      cursor: pointer;\n",
              "      display: none;\n",
              "      fill: #1967D2;\n",
              "      height: 32px;\n",
              "      padding: 0 0 0 0;\n",
              "      width: 32px;\n",
              "    }\n",
              "\n",
              "    .colab-df-convert:hover {\n",
              "      background-color: #E2EBFA;\n",
              "      box-shadow: 0px 1px 2px rgba(60, 64, 67, 0.3), 0px 1px 3px 1px rgba(60, 64, 67, 0.15);\n",
              "      fill: #174EA6;\n",
              "    }\n",
              "\n",
              "    .colab-df-buttons div {\n",
              "      margin-bottom: 4px;\n",
              "    }\n",
              "\n",
              "    [theme=dark] .colab-df-convert {\n",
              "      background-color: #3B4455;\n",
              "      fill: #D2E3FC;\n",
              "    }\n",
              "\n",
              "    [theme=dark] .colab-df-convert:hover {\n",
              "      background-color: #434B5C;\n",
              "      box-shadow: 0px 1px 3px 1px rgba(0, 0, 0, 0.15);\n",
              "      filter: drop-shadow(0px 1px 2px rgba(0, 0, 0, 0.3));\n",
              "      fill: #FFFFFF;\n",
              "    }\n",
              "  </style>\n",
              "\n",
              "    <script>\n",
              "      const buttonEl =\n",
              "        document.querySelector('#df-12f8dda6-ddbe-47ce-8ed0-4d94c8629875 button.colab-df-convert');\n",
              "      buttonEl.style.display =\n",
              "        google.colab.kernel.accessAllowed ? 'block' : 'none';\n",
              "\n",
              "      async function convertToInteractive(key) {\n",
              "        const element = document.querySelector('#df-12f8dda6-ddbe-47ce-8ed0-4d94c8629875');\n",
              "        const dataTable =\n",
              "          await google.colab.kernel.invokeFunction('convertToInteractive',\n",
              "                                                    [key], {});\n",
              "        if (!dataTable) return;\n",
              "\n",
              "        const docLinkHtml = 'Like what you see? Visit the ' +\n",
              "          '<a target=\"_blank\" href=https://colab.research.google.com/notebooks/data_table.ipynb>data table notebook</a>'\n",
              "          + ' to learn more about interactive tables.';\n",
              "        element.innerHTML = '';\n",
              "        dataTable['output_type'] = 'display_data';\n",
              "        await google.colab.output.renderOutput(dataTable, element);\n",
              "        const docLink = document.createElement('div');\n",
              "        docLink.innerHTML = docLinkHtml;\n",
              "        element.appendChild(docLink);\n",
              "      }\n",
              "    </script>\n",
              "  </div>\n",
              "\n",
              "\n",
              "<div id=\"df-8fc7c163-1184-423c-97bc-3fb4c95d8f09\">\n",
              "  <button class=\"colab-df-quickchart\" onclick=\"quickchart('df-8fc7c163-1184-423c-97bc-3fb4c95d8f09')\"\n",
              "            title=\"Suggest charts\"\n",
              "            style=\"display:none;\">\n",
              "\n",
              "<svg xmlns=\"http://www.w3.org/2000/svg\" height=\"24px\"viewBox=\"0 0 24 24\"\n",
              "     width=\"24px\">\n",
              "    <g>\n",
              "        <path d=\"M19 3H5c-1.1 0-2 .9-2 2v14c0 1.1.9 2 2 2h14c1.1 0 2-.9 2-2V5c0-1.1-.9-2-2-2zM9 17H7v-7h2v7zm4 0h-2V7h2v10zm4 0h-2v-4h2v4z\"/>\n",
              "    </g>\n",
              "</svg>\n",
              "  </button>\n",
              "\n",
              "<style>\n",
              "  .colab-df-quickchart {\n",
              "      --bg-color: #E8F0FE;\n",
              "      --fill-color: #1967D2;\n",
              "      --hover-bg-color: #E2EBFA;\n",
              "      --hover-fill-color: #174EA6;\n",
              "      --disabled-fill-color: #AAA;\n",
              "      --disabled-bg-color: #DDD;\n",
              "  }\n",
              "\n",
              "  [theme=dark] .colab-df-quickchart {\n",
              "      --bg-color: #3B4455;\n",
              "      --fill-color: #D2E3FC;\n",
              "      --hover-bg-color: #434B5C;\n",
              "      --hover-fill-color: #FFFFFF;\n",
              "      --disabled-bg-color: #3B4455;\n",
              "      --disabled-fill-color: #666;\n",
              "  }\n",
              "\n",
              "  .colab-df-quickchart {\n",
              "    background-color: var(--bg-color);\n",
              "    border: none;\n",
              "    border-radius: 50%;\n",
              "    cursor: pointer;\n",
              "    display: none;\n",
              "    fill: var(--fill-color);\n",
              "    height: 32px;\n",
              "    padding: 0;\n",
              "    width: 32px;\n",
              "  }\n",
              "\n",
              "  .colab-df-quickchart:hover {\n",
              "    background-color: var(--hover-bg-color);\n",
              "    box-shadow: 0 1px 2px rgba(60, 64, 67, 0.3), 0 1px 3px 1px rgba(60, 64, 67, 0.15);\n",
              "    fill: var(--button-hover-fill-color);\n",
              "  }\n",
              "\n",
              "  .colab-df-quickchart-complete:disabled,\n",
              "  .colab-df-quickchart-complete:disabled:hover {\n",
              "    background-color: var(--disabled-bg-color);\n",
              "    fill: var(--disabled-fill-color);\n",
              "    box-shadow: none;\n",
              "  }\n",
              "\n",
              "  .colab-df-spinner {\n",
              "    border: 2px solid var(--fill-color);\n",
              "    border-color: transparent;\n",
              "    border-bottom-color: var(--fill-color);\n",
              "    animation:\n",
              "      spin 1s steps(1) infinite;\n",
              "  }\n",
              "\n",
              "  @keyframes spin {\n",
              "    0% {\n",
              "      border-color: transparent;\n",
              "      border-bottom-color: var(--fill-color);\n",
              "      border-left-color: var(--fill-color);\n",
              "    }\n",
              "    20% {\n",
              "      border-color: transparent;\n",
              "      border-left-color: var(--fill-color);\n",
              "      border-top-color: var(--fill-color);\n",
              "    }\n",
              "    30% {\n",
              "      border-color: transparent;\n",
              "      border-left-color: var(--fill-color);\n",
              "      border-top-color: var(--fill-color);\n",
              "      border-right-color: var(--fill-color);\n",
              "    }\n",
              "    40% {\n",
              "      border-color: transparent;\n",
              "      border-right-color: var(--fill-color);\n",
              "      border-top-color: var(--fill-color);\n",
              "    }\n",
              "    60% {\n",
              "      border-color: transparent;\n",
              "      border-right-color: var(--fill-color);\n",
              "    }\n",
              "    80% {\n",
              "      border-color: transparent;\n",
              "      border-right-color: var(--fill-color);\n",
              "      border-bottom-color: var(--fill-color);\n",
              "    }\n",
              "    90% {\n",
              "      border-color: transparent;\n",
              "      border-bottom-color: var(--fill-color);\n",
              "    }\n",
              "  }\n",
              "</style>\n",
              "\n",
              "  <script>\n",
              "    async function quickchart(key) {\n",
              "      const quickchartButtonEl =\n",
              "        document.querySelector('#' + key + ' button');\n",
              "      quickchartButtonEl.disabled = true;  // To prevent multiple clicks.\n",
              "      quickchartButtonEl.classList.add('colab-df-spinner');\n",
              "      try {\n",
              "        const charts = await google.colab.kernel.invokeFunction(\n",
              "            'suggestCharts', [key], {});\n",
              "      } catch (error) {\n",
              "        console.error('Error during call to suggestCharts:', error);\n",
              "      }\n",
              "      quickchartButtonEl.classList.remove('colab-df-spinner');\n",
              "      quickchartButtonEl.classList.add('colab-df-quickchart-complete');\n",
              "    }\n",
              "    (() => {\n",
              "      let quickchartButtonEl =\n",
              "        document.querySelector('#df-8fc7c163-1184-423c-97bc-3fb4c95d8f09 button');\n",
              "      quickchartButtonEl.style.display =\n",
              "        google.colab.kernel.accessAllowed ? 'block' : 'none';\n",
              "    })();\n",
              "  </script>\n",
              "</div>\n",
              "\n",
              "  <div id=\"id_3857cd27-ef67-4691-9d8b-60a77b19f511\">\n",
              "    <style>\n",
              "      .colab-df-generate {\n",
              "        background-color: #E8F0FE;\n",
              "        border: none;\n",
              "        border-radius: 50%;\n",
              "        cursor: pointer;\n",
              "        display: none;\n",
              "        fill: #1967D2;\n",
              "        height: 32px;\n",
              "        padding: 0 0 0 0;\n",
              "        width: 32px;\n",
              "      }\n",
              "\n",
              "      .colab-df-generate:hover {\n",
              "        background-color: #E2EBFA;\n",
              "        box-shadow: 0px 1px 2px rgba(60, 64, 67, 0.3), 0px 1px 3px 1px rgba(60, 64, 67, 0.15);\n",
              "        fill: #174EA6;\n",
              "      }\n",
              "\n",
              "      [theme=dark] .colab-df-generate {\n",
              "        background-color: #3B4455;\n",
              "        fill: #D2E3FC;\n",
              "      }\n",
              "\n",
              "      [theme=dark] .colab-df-generate:hover {\n",
              "        background-color: #434B5C;\n",
              "        box-shadow: 0px 1px 3px 1px rgba(0, 0, 0, 0.15);\n",
              "        filter: drop-shadow(0px 1px 2px rgba(0, 0, 0, 0.3));\n",
              "        fill: #FFFFFF;\n",
              "      }\n",
              "    </style>\n",
              "    <button class=\"colab-df-generate\" onclick=\"generateWithVariable('bancos')\"\n",
              "            title=\"Generate code using this dataframe.\"\n",
              "            style=\"display:none;\">\n",
              "\n",
              "  <svg xmlns=\"http://www.w3.org/2000/svg\" height=\"24px\"viewBox=\"0 0 24 24\"\n",
              "       width=\"24px\">\n",
              "    <path d=\"M7,19H8.4L18.45,9,17,7.55,7,17.6ZM5,21V16.75L18.45,3.32a2,2,0,0,1,2.83,0l1.4,1.43a1.91,1.91,0,0,1,.58,1.4,1.91,1.91,0,0,1-.58,1.4L9.25,21ZM18.45,9,17,7.55Zm-12,3A5.31,5.31,0,0,0,4.9,8.1,5.31,5.31,0,0,0,1,6.5,5.31,5.31,0,0,0,4.9,4.9,5.31,5.31,0,0,0,6.5,1,5.31,5.31,0,0,0,8.1,4.9,5.31,5.31,0,0,0,12,6.5,5.46,5.46,0,0,0,6.5,12Z\"/>\n",
              "  </svg>\n",
              "    </button>\n",
              "    <script>\n",
              "      (() => {\n",
              "      const buttonEl =\n",
              "        document.querySelector('#id_3857cd27-ef67-4691-9d8b-60a77b19f511 button.colab-df-generate');\n",
              "      buttonEl.style.display =\n",
              "        google.colab.kernel.accessAllowed ? 'block' : 'none';\n",
              "\n",
              "      buttonEl.onclick = () => {\n",
              "        google.colab.notebook.generateWithVariable('bancos');\n",
              "      }\n",
              "      })();\n",
              "    </script>\n",
              "  </div>\n",
              "\n",
              "    </div>\n",
              "  </div>\n"
            ],
            "application/vnd.google.colaboratory.intrinsic+json": {
              "type": "dataframe",
              "variable_name": "bancos",
              "summary": "{\n  \"name\": \"bancos\",\n  \"rows\": 5,\n  \"fields\": [\n    {\n      \"column\": \"Database\",\n      \"properties\": {\n        \"dtype\": \"string\",\n        \"num_unique_values\": 5,\n        \"samples\": [\n          \"locadora\",\n          \"sys\",\n          \"mysql\"\n        ],\n        \"semantic_type\": \"\",\n        \"description\": \"\"\n      }\n    }\n  ]\n}"
            }
          },
          "metadata": {}
        }
      ]
    },
    {
      "cell_type": "code",
      "source": [
        " #Definindo os parâmetros para conexão com a instância SQL\n",
        "host = '34.170.104.203'\n",
        "user = 'root'\n",
        "password = ''\n",
        "database = 'locadora'"
      ],
      "metadata": {
        "id": "0aYi1OEbVuLN"
      },
      "execution_count": null,
      "outputs": []
    },
    {
      "cell_type": "code",
      "source": [
        "connection = mysql.connector.connect(\n",
        "    host=host,\n",
        "    user=user,\n",
        "    password=password,\n",
        "    database = database,\n",
        ") # estas linhas servem para criar a conexão com o banco de dados\n",
        "cursor = connection.cursor() #criando o cursor para apontar para o banco de dados\n",
        "query = 'show tables;' # Query ou consulta desejada\n",
        "cursor.execute(query) # Execução da consulta\n",
        "result = cursor.fetchall() # armazenando os resultados na variável results\n",
        "bancos = pd.DataFrame(result,columns=cursor.column_names) # convertendo a variável result em um df pandas chamado tabelas\n",
        "display(bancos) # exibindo a tabela pandas\n",
        "cursor.close() # fechando o cursor\n",
        "connection.close() # fechando a conexão"
      ],
      "metadata": {
        "colab": {
          "base_uri": "https://localhost:8080/",
          "height": 175
        },
        "id": "y8ZD-7ZpX8Rl",
        "outputId": "78390eca-915a-4eec-ff24-f83938541571"
      },
      "execution_count": null,
      "outputs": [
        {
          "output_type": "display_data",
          "data": {
            "text/plain": [
              "  Tables_in_locadora\n",
              "0            aluguel\n",
              "1              carro\n",
              "2            cliente\n",
              "3              marca"
            ],
            "text/html": [
              "\n",
              "  <div id=\"df-6ef7ce1a-cea8-4efc-a4f9-8029036eda0e\" class=\"colab-df-container\">\n",
              "    <div>\n",
              "<style scoped>\n",
              "    .dataframe tbody tr th:only-of-type {\n",
              "        vertical-align: middle;\n",
              "    }\n",
              "\n",
              "    .dataframe tbody tr th {\n",
              "        vertical-align: top;\n",
              "    }\n",
              "\n",
              "    .dataframe thead th {\n",
              "        text-align: right;\n",
              "    }\n",
              "</style>\n",
              "<table border=\"1\" class=\"dataframe\">\n",
              "  <thead>\n",
              "    <tr style=\"text-align: right;\">\n",
              "      <th></th>\n",
              "      <th>Tables_in_locadora</th>\n",
              "    </tr>\n",
              "  </thead>\n",
              "  <tbody>\n",
              "    <tr>\n",
              "      <th>0</th>\n",
              "      <td>aluguel</td>\n",
              "    </tr>\n",
              "    <tr>\n",
              "      <th>1</th>\n",
              "      <td>carro</td>\n",
              "    </tr>\n",
              "    <tr>\n",
              "      <th>2</th>\n",
              "      <td>cliente</td>\n",
              "    </tr>\n",
              "    <tr>\n",
              "      <th>3</th>\n",
              "      <td>marca</td>\n",
              "    </tr>\n",
              "  </tbody>\n",
              "</table>\n",
              "</div>\n",
              "    <div class=\"colab-df-buttons\">\n",
              "\n",
              "  <div class=\"colab-df-container\">\n",
              "    <button class=\"colab-df-convert\" onclick=\"convertToInteractive('df-6ef7ce1a-cea8-4efc-a4f9-8029036eda0e')\"\n",
              "            title=\"Convert this dataframe to an interactive table.\"\n",
              "            style=\"display:none;\">\n",
              "\n",
              "  <svg xmlns=\"http://www.w3.org/2000/svg\" height=\"24px\" viewBox=\"0 -960 960 960\">\n",
              "    <path d=\"M120-120v-720h720v720H120Zm60-500h600v-160H180v160Zm220 220h160v-160H400v160Zm0 220h160v-160H400v160ZM180-400h160v-160H180v160Zm440 0h160v-160H620v160ZM180-180h160v-160H180v160Zm440 0h160v-160H620v160Z\"/>\n",
              "  </svg>\n",
              "    </button>\n",
              "\n",
              "  <style>\n",
              "    .colab-df-container {\n",
              "      display:flex;\n",
              "      gap: 12px;\n",
              "    }\n",
              "\n",
              "    .colab-df-convert {\n",
              "      background-color: #E8F0FE;\n",
              "      border: none;\n",
              "      border-radius: 50%;\n",
              "      cursor: pointer;\n",
              "      display: none;\n",
              "      fill: #1967D2;\n",
              "      height: 32px;\n",
              "      padding: 0 0 0 0;\n",
              "      width: 32px;\n",
              "    }\n",
              "\n",
              "    .colab-df-convert:hover {\n",
              "      background-color: #E2EBFA;\n",
              "      box-shadow: 0px 1px 2px rgba(60, 64, 67, 0.3), 0px 1px 3px 1px rgba(60, 64, 67, 0.15);\n",
              "      fill: #174EA6;\n",
              "    }\n",
              "\n",
              "    .colab-df-buttons div {\n",
              "      margin-bottom: 4px;\n",
              "    }\n",
              "\n",
              "    [theme=dark] .colab-df-convert {\n",
              "      background-color: #3B4455;\n",
              "      fill: #D2E3FC;\n",
              "    }\n",
              "\n",
              "    [theme=dark] .colab-df-convert:hover {\n",
              "      background-color: #434B5C;\n",
              "      box-shadow: 0px 1px 3px 1px rgba(0, 0, 0, 0.15);\n",
              "      filter: drop-shadow(0px 1px 2px rgba(0, 0, 0, 0.3));\n",
              "      fill: #FFFFFF;\n",
              "    }\n",
              "  </style>\n",
              "\n",
              "    <script>\n",
              "      const buttonEl =\n",
              "        document.querySelector('#df-6ef7ce1a-cea8-4efc-a4f9-8029036eda0e button.colab-df-convert');\n",
              "      buttonEl.style.display =\n",
              "        google.colab.kernel.accessAllowed ? 'block' : 'none';\n",
              "\n",
              "      async function convertToInteractive(key) {\n",
              "        const element = document.querySelector('#df-6ef7ce1a-cea8-4efc-a4f9-8029036eda0e');\n",
              "        const dataTable =\n",
              "          await google.colab.kernel.invokeFunction('convertToInteractive',\n",
              "                                                    [key], {});\n",
              "        if (!dataTable) return;\n",
              "\n",
              "        const docLinkHtml = 'Like what you see? Visit the ' +\n",
              "          '<a target=\"_blank\" href=https://colab.research.google.com/notebooks/data_table.ipynb>data table notebook</a>'\n",
              "          + ' to learn more about interactive tables.';\n",
              "        element.innerHTML = '';\n",
              "        dataTable['output_type'] = 'display_data';\n",
              "        await google.colab.output.renderOutput(dataTable, element);\n",
              "        const docLink = document.createElement('div');\n",
              "        docLink.innerHTML = docLinkHtml;\n",
              "        element.appendChild(docLink);\n",
              "      }\n",
              "    </script>\n",
              "  </div>\n",
              "\n",
              "\n",
              "<div id=\"df-22c90af1-ad82-475e-9bb3-5664db3ee180\">\n",
              "  <button class=\"colab-df-quickchart\" onclick=\"quickchart('df-22c90af1-ad82-475e-9bb3-5664db3ee180')\"\n",
              "            title=\"Suggest charts\"\n",
              "            style=\"display:none;\">\n",
              "\n",
              "<svg xmlns=\"http://www.w3.org/2000/svg\" height=\"24px\"viewBox=\"0 0 24 24\"\n",
              "     width=\"24px\">\n",
              "    <g>\n",
              "        <path d=\"M19 3H5c-1.1 0-2 .9-2 2v14c0 1.1.9 2 2 2h14c1.1 0 2-.9 2-2V5c0-1.1-.9-2-2-2zM9 17H7v-7h2v7zm4 0h-2V7h2v10zm4 0h-2v-4h2v4z\"/>\n",
              "    </g>\n",
              "</svg>\n",
              "  </button>\n",
              "\n",
              "<style>\n",
              "  .colab-df-quickchart {\n",
              "      --bg-color: #E8F0FE;\n",
              "      --fill-color: #1967D2;\n",
              "      --hover-bg-color: #E2EBFA;\n",
              "      --hover-fill-color: #174EA6;\n",
              "      --disabled-fill-color: #AAA;\n",
              "      --disabled-bg-color: #DDD;\n",
              "  }\n",
              "\n",
              "  [theme=dark] .colab-df-quickchart {\n",
              "      --bg-color: #3B4455;\n",
              "      --fill-color: #D2E3FC;\n",
              "      --hover-bg-color: #434B5C;\n",
              "      --hover-fill-color: #FFFFFF;\n",
              "      --disabled-bg-color: #3B4455;\n",
              "      --disabled-fill-color: #666;\n",
              "  }\n",
              "\n",
              "  .colab-df-quickchart {\n",
              "    background-color: var(--bg-color);\n",
              "    border: none;\n",
              "    border-radius: 50%;\n",
              "    cursor: pointer;\n",
              "    display: none;\n",
              "    fill: var(--fill-color);\n",
              "    height: 32px;\n",
              "    padding: 0;\n",
              "    width: 32px;\n",
              "  }\n",
              "\n",
              "  .colab-df-quickchart:hover {\n",
              "    background-color: var(--hover-bg-color);\n",
              "    box-shadow: 0 1px 2px rgba(60, 64, 67, 0.3), 0 1px 3px 1px rgba(60, 64, 67, 0.15);\n",
              "    fill: var(--button-hover-fill-color);\n",
              "  }\n",
              "\n",
              "  .colab-df-quickchart-complete:disabled,\n",
              "  .colab-df-quickchart-complete:disabled:hover {\n",
              "    background-color: var(--disabled-bg-color);\n",
              "    fill: var(--disabled-fill-color);\n",
              "    box-shadow: none;\n",
              "  }\n",
              "\n",
              "  .colab-df-spinner {\n",
              "    border: 2px solid var(--fill-color);\n",
              "    border-color: transparent;\n",
              "    border-bottom-color: var(--fill-color);\n",
              "    animation:\n",
              "      spin 1s steps(1) infinite;\n",
              "  }\n",
              "\n",
              "  @keyframes spin {\n",
              "    0% {\n",
              "      border-color: transparent;\n",
              "      border-bottom-color: var(--fill-color);\n",
              "      border-left-color: var(--fill-color);\n",
              "    }\n",
              "    20% {\n",
              "      border-color: transparent;\n",
              "      border-left-color: var(--fill-color);\n",
              "      border-top-color: var(--fill-color);\n",
              "    }\n",
              "    30% {\n",
              "      border-color: transparent;\n",
              "      border-left-color: var(--fill-color);\n",
              "      border-top-color: var(--fill-color);\n",
              "      border-right-color: var(--fill-color);\n",
              "    }\n",
              "    40% {\n",
              "      border-color: transparent;\n",
              "      border-right-color: var(--fill-color);\n",
              "      border-top-color: var(--fill-color);\n",
              "    }\n",
              "    60% {\n",
              "      border-color: transparent;\n",
              "      border-right-color: var(--fill-color);\n",
              "    }\n",
              "    80% {\n",
              "      border-color: transparent;\n",
              "      border-right-color: var(--fill-color);\n",
              "      border-bottom-color: var(--fill-color);\n",
              "    }\n",
              "    90% {\n",
              "      border-color: transparent;\n",
              "      border-bottom-color: var(--fill-color);\n",
              "    }\n",
              "  }\n",
              "</style>\n",
              "\n",
              "  <script>\n",
              "    async function quickchart(key) {\n",
              "      const quickchartButtonEl =\n",
              "        document.querySelector('#' + key + ' button');\n",
              "      quickchartButtonEl.disabled = true;  // To prevent multiple clicks.\n",
              "      quickchartButtonEl.classList.add('colab-df-spinner');\n",
              "      try {\n",
              "        const charts = await google.colab.kernel.invokeFunction(\n",
              "            'suggestCharts', [key], {});\n",
              "      } catch (error) {\n",
              "        console.error('Error during call to suggestCharts:', error);\n",
              "      }\n",
              "      quickchartButtonEl.classList.remove('colab-df-spinner');\n",
              "      quickchartButtonEl.classList.add('colab-df-quickchart-complete');\n",
              "    }\n",
              "    (() => {\n",
              "      let quickchartButtonEl =\n",
              "        document.querySelector('#df-22c90af1-ad82-475e-9bb3-5664db3ee180 button');\n",
              "      quickchartButtonEl.style.display =\n",
              "        google.colab.kernel.accessAllowed ? 'block' : 'none';\n",
              "    })();\n",
              "  </script>\n",
              "</div>\n",
              "\n",
              "  <div id=\"id_2c9a29ea-d168-4beb-b56c-43860bf0ad2d\">\n",
              "    <style>\n",
              "      .colab-df-generate {\n",
              "        background-color: #E8F0FE;\n",
              "        border: none;\n",
              "        border-radius: 50%;\n",
              "        cursor: pointer;\n",
              "        display: none;\n",
              "        fill: #1967D2;\n",
              "        height: 32px;\n",
              "        padding: 0 0 0 0;\n",
              "        width: 32px;\n",
              "      }\n",
              "\n",
              "      .colab-df-generate:hover {\n",
              "        background-color: #E2EBFA;\n",
              "        box-shadow: 0px 1px 2px rgba(60, 64, 67, 0.3), 0px 1px 3px 1px rgba(60, 64, 67, 0.15);\n",
              "        fill: #174EA6;\n",
              "      }\n",
              "\n",
              "      [theme=dark] .colab-df-generate {\n",
              "        background-color: #3B4455;\n",
              "        fill: #D2E3FC;\n",
              "      }\n",
              "\n",
              "      [theme=dark] .colab-df-generate:hover {\n",
              "        background-color: #434B5C;\n",
              "        box-shadow: 0px 1px 3px 1px rgba(0, 0, 0, 0.15);\n",
              "        filter: drop-shadow(0px 1px 2px rgba(0, 0, 0, 0.3));\n",
              "        fill: #FFFFFF;\n",
              "      }\n",
              "    </style>\n",
              "    <button class=\"colab-df-generate\" onclick=\"generateWithVariable('bancos')\"\n",
              "            title=\"Generate code using this dataframe.\"\n",
              "            style=\"display:none;\">\n",
              "\n",
              "  <svg xmlns=\"http://www.w3.org/2000/svg\" height=\"24px\"viewBox=\"0 0 24 24\"\n",
              "       width=\"24px\">\n",
              "    <path d=\"M7,19H8.4L18.45,9,17,7.55,7,17.6ZM5,21V16.75L18.45,3.32a2,2,0,0,1,2.83,0l1.4,1.43a1.91,1.91,0,0,1,.58,1.4,1.91,1.91,0,0,1-.58,1.4L9.25,21ZM18.45,9,17,7.55Zm-12,3A5.31,5.31,0,0,0,4.9,8.1,5.31,5.31,0,0,0,1,6.5,5.31,5.31,0,0,0,4.9,4.9,5.31,5.31,0,0,0,6.5,1,5.31,5.31,0,0,0,8.1,4.9,5.31,5.31,0,0,0,12,6.5,5.46,5.46,0,0,0,6.5,12Z\"/>\n",
              "  </svg>\n",
              "    </button>\n",
              "    <script>\n",
              "      (() => {\n",
              "      const buttonEl =\n",
              "        document.querySelector('#id_2c9a29ea-d168-4beb-b56c-43860bf0ad2d button.colab-df-generate');\n",
              "      buttonEl.style.display =\n",
              "        google.colab.kernel.accessAllowed ? 'block' : 'none';\n",
              "\n",
              "      buttonEl.onclick = () => {\n",
              "        google.colab.notebook.generateWithVariable('bancos');\n",
              "      }\n",
              "      })();\n",
              "    </script>\n",
              "  </div>\n",
              "\n",
              "    </div>\n",
              "  </div>\n"
            ],
            "application/vnd.google.colaboratory.intrinsic+json": {
              "type": "dataframe",
              "variable_name": "bancos",
              "summary": "{\n  \"name\": \"bancos\",\n  \"rows\": 4,\n  \"fields\": [\n    {\n      \"column\": \"Tables_in_locadora\",\n      \"properties\": {\n        \"dtype\": \"string\",\n        \"num_unique_values\": 4,\n        \"samples\": [\n          \"carro\",\n          \"marca\",\n          \"aluguel\"\n        ],\n        \"semantic_type\": \"\",\n        \"description\": \"\"\n      }\n    }\n  ]\n}"
            }
          },
          "metadata": {}
        }
      ]
    },
    {
      "cell_type": "code",
      "source": [
        "import mysql.connector\n",
        "\n",
        "# Definição dos parâmetros de conexão\n",
        "host = '34.170.104.203'  # IP da instância GCP\n",
        "user = 'root'\n",
        "password = ''  # Sua senha do MySQL\n",
        "database = 'locadora'  # Nome do banco de dados\n",
        "\n",
        "# Criando a conexão com o banco de dados\n",
        "connection = mysql.connector.connect(\n",
        "    host=host,\n",
        "    user=user,\n",
        "    password=password,\n",
        "    database=database\n",
        ")\n",
        "\n",
        "cursor = connection.cursor()\n",
        "\n",
        "# Verifica se a tabela \"cliente\" já existe antes de tentar criar\n",
        "cursor.execute(\"SHOW TABLES LIKE 'cliente';\")\n",
        "tabela_existe = cursor.fetchone()\n",
        "\n",
        "if not tabela_existe:\n",
        "    query = '''\n",
        "    CREATE TABLE cliente(\n",
        "        codcliente INT PRIMARY KEY,\n",
        "        nome VARCHAR(50),\n",
        "        cidade VARCHAR(50),\n",
        "        sexo CHAR(1),\n",
        "        estado CHAR(2),\n",
        "        estadocivil CHAR(1)\n",
        "    );\n",
        "    '''\n",
        "    cursor.execute(query)\n",
        "    print(\"Tabela 'cliente' criada com sucesso!\")\n",
        "else:\n",
        "    print(\"A tabela 'cliente' já existe.\")\n",
        "\n",
        "# Fechando cursor e conexão\n",
        "cursor.close()\n",
        "connection.close()\n"
      ],
      "metadata": {
        "colab": {
          "base_uri": "https://localhost:8080/"
        },
        "id": "dQocmVAZM5aX",
        "outputId": "b88fc823-933d-483a-e2fa-b1b1d1c8e42c"
      },
      "execution_count": null,
      "outputs": [
        {
          "output_type": "stream",
          "name": "stdout",
          "text": [
            "A tabela 'cliente' já existe.\n"
          ]
        }
      ]
    },
    {
      "cell_type": "code",
      "source": [
        "import mysql.connector\n",
        "\n",
        "# Definição dos parâmetros de conexão\n",
        "host = '34.170.104.203'  # IP da instância GCP\n",
        "user = 'root'\n",
        "password = ''  # Sua senha do MySQL\n",
        "database = 'locadora'  # Nome do banco de dados\n",
        "\n",
        "# Criando a conexão com o banco de dados\n",
        "connection = mysql.connector.connect(\n",
        "    host=host,\n",
        "    user=user,\n",
        "    password=password,\n",
        "    database=database\n",
        ")\n",
        "\n",
        "cursor = connection.cursor()\n",
        "\n",
        "# Verifica se a tabela \"marca\" já existe antes de criar\n",
        "cursor.execute(\"SHOW TABLES LIKE 'marca';\")\n",
        "tabela_existe = cursor.fetchone()\n",
        "\n",
        "if not tabela_existe:\n",
        "    query = '''\n",
        "    CREATE TABLE marca(\n",
        "        codmarca INT PRIMARY KEY,\n",
        "        marca VARCHAR(30)\n",
        "    );\n",
        "    '''\n",
        "    cursor.execute(query)\n",
        "    print(\"Tabela 'marca' criada com sucesso!\")\n",
        "else:\n",
        "    print(\"A tabela 'marca' já existe.\")\n",
        "\n",
        "# Fechando cursor e conexão\n",
        "cursor.close()\n",
        "connection.close()\n"
      ],
      "metadata": {
        "colab": {
          "base_uri": "https://localhost:8080/"
        },
        "id": "jXUTTcZDNJb1",
        "outputId": "9d514a07-6148-4b08-8221-da2b1bda541d"
      },
      "execution_count": null,
      "outputs": [
        {
          "output_type": "stream",
          "name": "stdout",
          "text": [
            "A tabela 'marca' já existe.\n"
          ]
        }
      ]
    },
    {
      "cell_type": "code",
      "source": [
        "connection = mysql.connector.connect(\n",
        "    host=host,\n",
        "    user=user,\n",
        "    password=password,\n",
        "    database=database,\n",
        ") # estas linhas servem para criar a conexão com a instância\n",
        "cursor = connection.cursor() #criando o cursor para apontar para a instância\n",
        "query = '''\n",
        "CREATE TABLE carro(\n",
        "codcarro INT PRIMARY KEY,\n",
        "codmarca INT,\n",
        "modelo VARCHAR(30) NOT NULL,\n",
        "valor FLOAT,\n",
        "FOREIGN KEY (codmarca) REFERENCES marca (codmarca)\n",
        ");\n",
        "''' # Query ou consulta desejada\n",
        "cursor.execute(query) # Execução da consulta\n",
        "connection.commit()\n",
        "cursor.close() # fechando o cursor\n",
        "connection.close() # fechando a conexão"
      ],
      "metadata": {
        "id": "SzojpQ9MYxtK"
      },
      "execution_count": null,
      "outputs": []
    },
    {
      "cell_type": "code",
      "source": [
        "connection = mysql.connector.connect(\n",
        "    host=host,\n",
        "    user=user,\n",
        "    password=password,\n",
        "    database=database,\n",
        ") # estas linhas servem para criar a conexão com a instância\n",
        "cursor = connection.cursor() #criando o cursor para apontar para a instância\n",
        "query = '''\n",
        "CREATE TABLE aluguel(\n",
        "codaluguel INT PRIMARY KEY,\n",
        "codcliente INT,\n",
        "codcarro INT,\n",
        "data_aluguel DATE,\n",
        "FOREIGN KEY (codcliente) REFERENCES cliente (codcliente),\n",
        "FOREIGN KEY (codcarro) REFERENCES carro (codcarro)\n",
        ");\n",
        "''' # Query ou consulta desejada\n",
        "cursor.execute(query) # Execução da consulta\n",
        "connection.commit()\n",
        "cursor.close() # fechando o cursor\n",
        "connection.close() # fechando a conexão"
      ],
      "metadata": {
        "id": "i_bq6KymZKXj"
      },
      "execution_count": null,
      "outputs": []
    },
    {
      "cell_type": "code",
      "source": [
        "connection = mysql.connector.connect(\n",
        "    host=host,\n",
        "    user=user,\n",
        "    password=password,\n",
        "    database = database,\n",
        ") # estas linhas servem para criar a conexão com o banco de dados\n",
        "cursor = connection.cursor() #criando o cursor para apontar para o banco de dados\n",
        "query = 'show tables;' # Query ou consulta desejada\n",
        "cursor.execute(query) # Execução da consulta\n",
        "result = cursor.fetchall() # armazenando os resultados na variável results\n",
        "bancos = pd.DataFrame(result,columns=cursor.column_names) # convertendo a variável result em um df pandas chamado tabelas\n",
        "display(bancos) # exibindo a tabela pandas\n",
        "cursor.close() # fechando o cursor\n",
        "connection.close() # fechando a conexão"
      ],
      "metadata": {
        "colab": {
          "base_uri": "https://localhost:8080/",
          "height": 175
        },
        "id": "kh7uv-FlZLzD",
        "outputId": "fa20f94f-afd6-4a05-ab20-3e4f49db67c2"
      },
      "execution_count": null,
      "outputs": [
        {
          "output_type": "display_data",
          "data": {
            "text/plain": [
              "  Tables_in_locadora\n",
              "0            aluguel\n",
              "1              carro\n",
              "2            cliente\n",
              "3              marca"
            ],
            "text/html": [
              "\n",
              "  <div id=\"df-5b3012f7-50e1-4d20-849c-ba0cb58611aa\" class=\"colab-df-container\">\n",
              "    <div>\n",
              "<style scoped>\n",
              "    .dataframe tbody tr th:only-of-type {\n",
              "        vertical-align: middle;\n",
              "    }\n",
              "\n",
              "    .dataframe tbody tr th {\n",
              "        vertical-align: top;\n",
              "    }\n",
              "\n",
              "    .dataframe thead th {\n",
              "        text-align: right;\n",
              "    }\n",
              "</style>\n",
              "<table border=\"1\" class=\"dataframe\">\n",
              "  <thead>\n",
              "    <tr style=\"text-align: right;\">\n",
              "      <th></th>\n",
              "      <th>Tables_in_locadora</th>\n",
              "    </tr>\n",
              "  </thead>\n",
              "  <tbody>\n",
              "    <tr>\n",
              "      <th>0</th>\n",
              "      <td>aluguel</td>\n",
              "    </tr>\n",
              "    <tr>\n",
              "      <th>1</th>\n",
              "      <td>carro</td>\n",
              "    </tr>\n",
              "    <tr>\n",
              "      <th>2</th>\n",
              "      <td>cliente</td>\n",
              "    </tr>\n",
              "    <tr>\n",
              "      <th>3</th>\n",
              "      <td>marca</td>\n",
              "    </tr>\n",
              "  </tbody>\n",
              "</table>\n",
              "</div>\n",
              "    <div class=\"colab-df-buttons\">\n",
              "\n",
              "  <div class=\"colab-df-container\">\n",
              "    <button class=\"colab-df-convert\" onclick=\"convertToInteractive('df-5b3012f7-50e1-4d20-849c-ba0cb58611aa')\"\n",
              "            title=\"Convert this dataframe to an interactive table.\"\n",
              "            style=\"display:none;\">\n",
              "\n",
              "  <svg xmlns=\"http://www.w3.org/2000/svg\" height=\"24px\" viewBox=\"0 -960 960 960\">\n",
              "    <path d=\"M120-120v-720h720v720H120Zm60-500h600v-160H180v160Zm220 220h160v-160H400v160Zm0 220h160v-160H400v160ZM180-400h160v-160H180v160Zm440 0h160v-160H620v160ZM180-180h160v-160H180v160Zm440 0h160v-160H620v160Z\"/>\n",
              "  </svg>\n",
              "    </button>\n",
              "\n",
              "  <style>\n",
              "    .colab-df-container {\n",
              "      display:flex;\n",
              "      gap: 12px;\n",
              "    }\n",
              "\n",
              "    .colab-df-convert {\n",
              "      background-color: #E8F0FE;\n",
              "      border: none;\n",
              "      border-radius: 50%;\n",
              "      cursor: pointer;\n",
              "      display: none;\n",
              "      fill: #1967D2;\n",
              "      height: 32px;\n",
              "      padding: 0 0 0 0;\n",
              "      width: 32px;\n",
              "    }\n",
              "\n",
              "    .colab-df-convert:hover {\n",
              "      background-color: #E2EBFA;\n",
              "      box-shadow: 0px 1px 2px rgba(60, 64, 67, 0.3), 0px 1px 3px 1px rgba(60, 64, 67, 0.15);\n",
              "      fill: #174EA6;\n",
              "    }\n",
              "\n",
              "    .colab-df-buttons div {\n",
              "      margin-bottom: 4px;\n",
              "    }\n",
              "\n",
              "    [theme=dark] .colab-df-convert {\n",
              "      background-color: #3B4455;\n",
              "      fill: #D2E3FC;\n",
              "    }\n",
              "\n",
              "    [theme=dark] .colab-df-convert:hover {\n",
              "      background-color: #434B5C;\n",
              "      box-shadow: 0px 1px 3px 1px rgba(0, 0, 0, 0.15);\n",
              "      filter: drop-shadow(0px 1px 2px rgba(0, 0, 0, 0.3));\n",
              "      fill: #FFFFFF;\n",
              "    }\n",
              "  </style>\n",
              "\n",
              "    <script>\n",
              "      const buttonEl =\n",
              "        document.querySelector('#df-5b3012f7-50e1-4d20-849c-ba0cb58611aa button.colab-df-convert');\n",
              "      buttonEl.style.display =\n",
              "        google.colab.kernel.accessAllowed ? 'block' : 'none';\n",
              "\n",
              "      async function convertToInteractive(key) {\n",
              "        const element = document.querySelector('#df-5b3012f7-50e1-4d20-849c-ba0cb58611aa');\n",
              "        const dataTable =\n",
              "          await google.colab.kernel.invokeFunction('convertToInteractive',\n",
              "                                                    [key], {});\n",
              "        if (!dataTable) return;\n",
              "\n",
              "        const docLinkHtml = 'Like what you see? Visit the ' +\n",
              "          '<a target=\"_blank\" href=https://colab.research.google.com/notebooks/data_table.ipynb>data table notebook</a>'\n",
              "          + ' to learn more about interactive tables.';\n",
              "        element.innerHTML = '';\n",
              "        dataTable['output_type'] = 'display_data';\n",
              "        await google.colab.output.renderOutput(dataTable, element);\n",
              "        const docLink = document.createElement('div');\n",
              "        docLink.innerHTML = docLinkHtml;\n",
              "        element.appendChild(docLink);\n",
              "      }\n",
              "    </script>\n",
              "  </div>\n",
              "\n",
              "\n",
              "<div id=\"df-e2459148-7c24-41e6-ae31-9508772c523a\">\n",
              "  <button class=\"colab-df-quickchart\" onclick=\"quickchart('df-e2459148-7c24-41e6-ae31-9508772c523a')\"\n",
              "            title=\"Suggest charts\"\n",
              "            style=\"display:none;\">\n",
              "\n",
              "<svg xmlns=\"http://www.w3.org/2000/svg\" height=\"24px\"viewBox=\"0 0 24 24\"\n",
              "     width=\"24px\">\n",
              "    <g>\n",
              "        <path d=\"M19 3H5c-1.1 0-2 .9-2 2v14c0 1.1.9 2 2 2h14c1.1 0 2-.9 2-2V5c0-1.1-.9-2-2-2zM9 17H7v-7h2v7zm4 0h-2V7h2v10zm4 0h-2v-4h2v4z\"/>\n",
              "    </g>\n",
              "</svg>\n",
              "  </button>\n",
              "\n",
              "<style>\n",
              "  .colab-df-quickchart {\n",
              "      --bg-color: #E8F0FE;\n",
              "      --fill-color: #1967D2;\n",
              "      --hover-bg-color: #E2EBFA;\n",
              "      --hover-fill-color: #174EA6;\n",
              "      --disabled-fill-color: #AAA;\n",
              "      --disabled-bg-color: #DDD;\n",
              "  }\n",
              "\n",
              "  [theme=dark] .colab-df-quickchart {\n",
              "      --bg-color: #3B4455;\n",
              "      --fill-color: #D2E3FC;\n",
              "      --hover-bg-color: #434B5C;\n",
              "      --hover-fill-color: #FFFFFF;\n",
              "      --disabled-bg-color: #3B4455;\n",
              "      --disabled-fill-color: #666;\n",
              "  }\n",
              "\n",
              "  .colab-df-quickchart {\n",
              "    background-color: var(--bg-color);\n",
              "    border: none;\n",
              "    border-radius: 50%;\n",
              "    cursor: pointer;\n",
              "    display: none;\n",
              "    fill: var(--fill-color);\n",
              "    height: 32px;\n",
              "    padding: 0;\n",
              "    width: 32px;\n",
              "  }\n",
              "\n",
              "  .colab-df-quickchart:hover {\n",
              "    background-color: var(--hover-bg-color);\n",
              "    box-shadow: 0 1px 2px rgba(60, 64, 67, 0.3), 0 1px 3px 1px rgba(60, 64, 67, 0.15);\n",
              "    fill: var(--button-hover-fill-color);\n",
              "  }\n",
              "\n",
              "  .colab-df-quickchart-complete:disabled,\n",
              "  .colab-df-quickchart-complete:disabled:hover {\n",
              "    background-color: var(--disabled-bg-color);\n",
              "    fill: var(--disabled-fill-color);\n",
              "    box-shadow: none;\n",
              "  }\n",
              "\n",
              "  .colab-df-spinner {\n",
              "    border: 2px solid var(--fill-color);\n",
              "    border-color: transparent;\n",
              "    border-bottom-color: var(--fill-color);\n",
              "    animation:\n",
              "      spin 1s steps(1) infinite;\n",
              "  }\n",
              "\n",
              "  @keyframes spin {\n",
              "    0% {\n",
              "      border-color: transparent;\n",
              "      border-bottom-color: var(--fill-color);\n",
              "      border-left-color: var(--fill-color);\n",
              "    }\n",
              "    20% {\n",
              "      border-color: transparent;\n",
              "      border-left-color: var(--fill-color);\n",
              "      border-top-color: var(--fill-color);\n",
              "    }\n",
              "    30% {\n",
              "      border-color: transparent;\n",
              "      border-left-color: var(--fill-color);\n",
              "      border-top-color: var(--fill-color);\n",
              "      border-right-color: var(--fill-color);\n",
              "    }\n",
              "    40% {\n",
              "      border-color: transparent;\n",
              "      border-right-color: var(--fill-color);\n",
              "      border-top-color: var(--fill-color);\n",
              "    }\n",
              "    60% {\n",
              "      border-color: transparent;\n",
              "      border-right-color: var(--fill-color);\n",
              "    }\n",
              "    80% {\n",
              "      border-color: transparent;\n",
              "      border-right-color: var(--fill-color);\n",
              "      border-bottom-color: var(--fill-color);\n",
              "    }\n",
              "    90% {\n",
              "      border-color: transparent;\n",
              "      border-bottom-color: var(--fill-color);\n",
              "    }\n",
              "  }\n",
              "</style>\n",
              "\n",
              "  <script>\n",
              "    async function quickchart(key) {\n",
              "      const quickchartButtonEl =\n",
              "        document.querySelector('#' + key + ' button');\n",
              "      quickchartButtonEl.disabled = true;  // To prevent multiple clicks.\n",
              "      quickchartButtonEl.classList.add('colab-df-spinner');\n",
              "      try {\n",
              "        const charts = await google.colab.kernel.invokeFunction(\n",
              "            'suggestCharts', [key], {});\n",
              "      } catch (error) {\n",
              "        console.error('Error during call to suggestCharts:', error);\n",
              "      }\n",
              "      quickchartButtonEl.classList.remove('colab-df-spinner');\n",
              "      quickchartButtonEl.classList.add('colab-df-quickchart-complete');\n",
              "    }\n",
              "    (() => {\n",
              "      let quickchartButtonEl =\n",
              "        document.querySelector('#df-e2459148-7c24-41e6-ae31-9508772c523a button');\n",
              "      quickchartButtonEl.style.display =\n",
              "        google.colab.kernel.accessAllowed ? 'block' : 'none';\n",
              "    })();\n",
              "  </script>\n",
              "</div>\n",
              "\n",
              "  <div id=\"id_5f5a3e02-359b-4df8-a949-bc04f8e6de31\">\n",
              "    <style>\n",
              "      .colab-df-generate {\n",
              "        background-color: #E8F0FE;\n",
              "        border: none;\n",
              "        border-radius: 50%;\n",
              "        cursor: pointer;\n",
              "        display: none;\n",
              "        fill: #1967D2;\n",
              "        height: 32px;\n",
              "        padding: 0 0 0 0;\n",
              "        width: 32px;\n",
              "      }\n",
              "\n",
              "      .colab-df-generate:hover {\n",
              "        background-color: #E2EBFA;\n",
              "        box-shadow: 0px 1px 2px rgba(60, 64, 67, 0.3), 0px 1px 3px 1px rgba(60, 64, 67, 0.15);\n",
              "        fill: #174EA6;\n",
              "      }\n",
              "\n",
              "      [theme=dark] .colab-df-generate {\n",
              "        background-color: #3B4455;\n",
              "        fill: #D2E3FC;\n",
              "      }\n",
              "\n",
              "      [theme=dark] .colab-df-generate:hover {\n",
              "        background-color: #434B5C;\n",
              "        box-shadow: 0px 1px 3px 1px rgba(0, 0, 0, 0.15);\n",
              "        filter: drop-shadow(0px 1px 2px rgba(0, 0, 0, 0.3));\n",
              "        fill: #FFFFFF;\n",
              "      }\n",
              "    </style>\n",
              "    <button class=\"colab-df-generate\" onclick=\"generateWithVariable('bancos')\"\n",
              "            title=\"Generate code using this dataframe.\"\n",
              "            style=\"display:none;\">\n",
              "\n",
              "  <svg xmlns=\"http://www.w3.org/2000/svg\" height=\"24px\"viewBox=\"0 0 24 24\"\n",
              "       width=\"24px\">\n",
              "    <path d=\"M7,19H8.4L18.45,9,17,7.55,7,17.6ZM5,21V16.75L18.45,3.32a2,2,0,0,1,2.83,0l1.4,1.43a1.91,1.91,0,0,1,.58,1.4,1.91,1.91,0,0,1-.58,1.4L9.25,21ZM18.45,9,17,7.55Zm-12,3A5.31,5.31,0,0,0,4.9,8.1,5.31,5.31,0,0,0,1,6.5,5.31,5.31,0,0,0,4.9,4.9,5.31,5.31,0,0,0,6.5,1,5.31,5.31,0,0,0,8.1,4.9,5.31,5.31,0,0,0,12,6.5,5.46,5.46,0,0,0,6.5,12Z\"/>\n",
              "  </svg>\n",
              "    </button>\n",
              "    <script>\n",
              "      (() => {\n",
              "      const buttonEl =\n",
              "        document.querySelector('#id_5f5a3e02-359b-4df8-a949-bc04f8e6de31 button.colab-df-generate');\n",
              "      buttonEl.style.display =\n",
              "        google.colab.kernel.accessAllowed ? 'block' : 'none';\n",
              "\n",
              "      buttonEl.onclick = () => {\n",
              "        google.colab.notebook.generateWithVariable('bancos');\n",
              "      }\n",
              "      })();\n",
              "    </script>\n",
              "  </div>\n",
              "\n",
              "    </div>\n",
              "  </div>\n"
            ],
            "application/vnd.google.colaboratory.intrinsic+json": {
              "type": "dataframe",
              "variable_name": "bancos",
              "summary": "{\n  \"name\": \"bancos\",\n  \"rows\": 4,\n  \"fields\": [\n    {\n      \"column\": \"Tables_in_locadora\",\n      \"properties\": {\n        \"dtype\": \"string\",\n        \"num_unique_values\": 4,\n        \"samples\": [\n          \"carro\",\n          \"marca\",\n          \"aluguel\"\n        ],\n        \"semantic_type\": \"\",\n        \"description\": \"\"\n      }\n    }\n  ]\n}"
            }
          },
          "metadata": {}
        }
      ]
    },
    {
      "cell_type": "code",
      "source": [
        "connection = mysql.connector.connect(\n",
        "    host=host,\n",
        "    user=user,\n",
        "    password=password,\n",
        "    database=database,\n",
        ") # estas linhas servem para criar a conexão com a instância\n",
        "cursor = connection.cursor() #criando o cursor para apontar para a instância\n",
        "query = '''\n",
        "INSERT INTO cliente (codcliente, nome, cidade, sexo, estado, estadocivil)\n",
        "VALUES\n",
        "(1, 'Ana Silva', 'Duque de Caxias', 'F', 'RJ', 'C'),\n",
        "(2, 'Bruna Pereira', 'Niterói', 'F', 'RJ', 'C'),\n",
        "(3, 'Túlio Nascimento', 'Duque de Caxias', 'M', 'RJ', 'S'),\n",
        "(4, 'Fernando Souza', 'Campinas', 'M', 'SP', 'S'),\n",
        "(5, 'Lúcia Andrade', 'São Paulo', 'F', 'SP', 'C');\n",
        "''' # Query ou consulta desejada\n",
        "cursor.execute(query) # Execução da consulta\n",
        "connection.commit()\n",
        "cursor.close() # fechando o cursor\n",
        "connection.close() # fechando a conexão"
      ],
      "metadata": {
        "id": "R3OnB7iiZQD9"
      },
      "execution_count": null,
      "outputs": []
    },
    {
      "cell_type": "code",
      "source": [
        "connection = mysql.connector.connect(\n",
        "    host=host,\n",
        "    user=user,\n",
        "    password=password,\n",
        "    database=database,\n",
        ") # estas linhas servem para criar a conexão com a instância\n",
        "cursor = connection.cursor() #criando o cursor para apontar para a instância\n",
        "query = '''\n",
        "INSERT INTO marca (codmarca, marca) VALUES\n",
        "(1, 'Ford'),\n",
        "(2, 'Fiat'),\n",
        "(3, 'Chevrolet'),\n",
        "(4, 'Volkswagen'),\n",
        "(5, 'Renault');\n",
        "''' # Query ou consulta desejada\n",
        "cursor.execute(query) # Execução da consulta\n",
        "connection.commit()\n",
        "cursor.close() # fechando o cursor\n",
        "connection.close() # fechando a conexão"
      ],
      "metadata": {
        "id": "Y5gYtC5lc8c_"
      },
      "execution_count": null,
      "outputs": []
    },
    {
      "cell_type": "code",
      "source": [
        "connection = mysql.connector.connect(\n",
        "    host=host,\n",
        "    user=user,\n",
        "    password=password,\n",
        "    database=database,\n",
        ") # estas linhas servem para criar a conexão com a instância\n",
        "cursor = connection.cursor() #criando o cursor para apontar para a instância\n",
        "query = '''\n",
        "INSERT INTO carro (codcarro, modelo, codmarca, valor) VALUES\n",
        "(1, 'Ka', 1, 100.00),\n",
        "(2, 'Argo', 2, 150.00),\n",
        "(3, 'Onix', 3, 170.00),\n",
        "(4, 'Polo', 4, 150.00),\n",
        "(5, 'Kwid', 5, 120.00);\n",
        "''' # Query ou consulta desejada\n",
        "cursor.execute(query) # Execução da consulta\n",
        "connection.commit()\n",
        "cursor.close() # fechando o cursor\n",
        "connection.close() # fechando a conexão"
      ],
      "metadata": {
        "id": "ge7Am7dbdAWy"
      },
      "execution_count": null,
      "outputs": []
    },
    {
      "cell_type": "code",
      "source": [
        "connection = mysql.connector.connect(\n",
        "    host=host,\n",
        "    user=user,\n",
        "    password=password,\n",
        "    database=database,\n",
        ") # estas linhas servem para criar a conexão com a instância\n",
        "cursor = connection.cursor() #criando o cursor para apontar para a instância\n",
        "query = '''\n",
        "INSERT INTO aluguel (codaluguel, codcliente, codcarro, data_aluguel)VALUES\n",
        "(1, 3, 2, '2023-04-01'),\n",
        "(2, 2, 1, '2023-04-02'),\n",
        "(3, 2, 1, '2023-04-03'),\n",
        "(4, 2, 3, '2023-04-04'),\n",
        "(5, 1, 4, '2023-04-05'),\n",
        "(6, 1, 4, '2023-04-13'),\n",
        "(7, 1, 1, '2023-04-15'),\n",
        "(8, 5, 2, '2023-04-19'),\n",
        "(9, 5, 2, '2023-04-21'),\n",
        "(10,3, 1, '2023-04-25');\n",
        "''' # Query ou consulta desejada\n",
        "cursor.execute(query) # Execução da consulta\n",
        "connection.commit()\n",
        "cursor.close() # fechando o cursor\n",
        "connection.close() # fechando a conexão"
      ],
      "metadata": {
        "id": "EcRakao2dD8o"
      },
      "execution_count": null,
      "outputs": []
    },
    {
      "cell_type": "code",
      "source": [
        "# Recuperando os valores da tabela cliente\n",
        "connection = mysql.connector.connect(\n",
        "    host=host,\n",
        "    user=user,\n",
        "    password=password,\n",
        "    database = database,\n",
        ") # estas linhas servem para criar a conexão com o banco de dados\n",
        "cursor = connection.cursor() #criando o cursor para apontar para o banco de dados\n",
        "query = 'select * from cliente;' # Query ou consulta desejada\n",
        "cursor.execute(query) # Execução da consulta\n",
        "result = cursor.fetchall() # armazenando os resultados na variável results\n",
        "clientes = pd.DataFrame(result,columns=cursor.column_names) # convertendo a variável result em um df pandas chamado tabelas\n",
        "display(clientes) # exibindo a tabela pandas\n",
        "cursor.close() # fechando o cursor\n",
        "connection.close() # fechando a conexão"
      ],
      "metadata": {
        "colab": {
          "base_uri": "https://localhost:8080/",
          "height": 206
        },
        "id": "E-CkcYrqdIfK",
        "outputId": "ca17c042-e9bb-4b81-874a-78f271131b3b"
      },
      "execution_count": null,
      "outputs": [
        {
          "output_type": "display_data",
          "data": {
            "text/plain": [
              "   codcliente              nome           cidade sexo estado estadocivil\n",
              "0           1         Ana Silva  Duque de Caxias    F     RJ           C\n",
              "1           2     Bruna Pereira          Niterói    F     RJ           C\n",
              "2           3  Túlio Nascimento  Duque de Caxias    M     RJ           S\n",
              "3           4    Fernando Souza         Campinas    M     SP           S\n",
              "4           5     Lúcia Andrade        São Paulo    F     SP           C"
            ],
            "text/html": [
              "\n",
              "  <div id=\"df-1d5328f4-70f3-4331-9eec-7dbc08d3e647\" class=\"colab-df-container\">\n",
              "    <div>\n",
              "<style scoped>\n",
              "    .dataframe tbody tr th:only-of-type {\n",
              "        vertical-align: middle;\n",
              "    }\n",
              "\n",
              "    .dataframe tbody tr th {\n",
              "        vertical-align: top;\n",
              "    }\n",
              "\n",
              "    .dataframe thead th {\n",
              "        text-align: right;\n",
              "    }\n",
              "</style>\n",
              "<table border=\"1\" class=\"dataframe\">\n",
              "  <thead>\n",
              "    <tr style=\"text-align: right;\">\n",
              "      <th></th>\n",
              "      <th>codcliente</th>\n",
              "      <th>nome</th>\n",
              "      <th>cidade</th>\n",
              "      <th>sexo</th>\n",
              "      <th>estado</th>\n",
              "      <th>estadocivil</th>\n",
              "    </tr>\n",
              "  </thead>\n",
              "  <tbody>\n",
              "    <tr>\n",
              "      <th>0</th>\n",
              "      <td>1</td>\n",
              "      <td>Ana Silva</td>\n",
              "      <td>Duque de Caxias</td>\n",
              "      <td>F</td>\n",
              "      <td>RJ</td>\n",
              "      <td>C</td>\n",
              "    </tr>\n",
              "    <tr>\n",
              "      <th>1</th>\n",
              "      <td>2</td>\n",
              "      <td>Bruna Pereira</td>\n",
              "      <td>Niterói</td>\n",
              "      <td>F</td>\n",
              "      <td>RJ</td>\n",
              "      <td>C</td>\n",
              "    </tr>\n",
              "    <tr>\n",
              "      <th>2</th>\n",
              "      <td>3</td>\n",
              "      <td>Túlio Nascimento</td>\n",
              "      <td>Duque de Caxias</td>\n",
              "      <td>M</td>\n",
              "      <td>RJ</td>\n",
              "      <td>S</td>\n",
              "    </tr>\n",
              "    <tr>\n",
              "      <th>3</th>\n",
              "      <td>4</td>\n",
              "      <td>Fernando Souza</td>\n",
              "      <td>Campinas</td>\n",
              "      <td>M</td>\n",
              "      <td>SP</td>\n",
              "      <td>S</td>\n",
              "    </tr>\n",
              "    <tr>\n",
              "      <th>4</th>\n",
              "      <td>5</td>\n",
              "      <td>Lúcia Andrade</td>\n",
              "      <td>São Paulo</td>\n",
              "      <td>F</td>\n",
              "      <td>SP</td>\n",
              "      <td>C</td>\n",
              "    </tr>\n",
              "  </tbody>\n",
              "</table>\n",
              "</div>\n",
              "    <div class=\"colab-df-buttons\">\n",
              "\n",
              "  <div class=\"colab-df-container\">\n",
              "    <button class=\"colab-df-convert\" onclick=\"convertToInteractive('df-1d5328f4-70f3-4331-9eec-7dbc08d3e647')\"\n",
              "            title=\"Convert this dataframe to an interactive table.\"\n",
              "            style=\"display:none;\">\n",
              "\n",
              "  <svg xmlns=\"http://www.w3.org/2000/svg\" height=\"24px\" viewBox=\"0 -960 960 960\">\n",
              "    <path d=\"M120-120v-720h720v720H120Zm60-500h600v-160H180v160Zm220 220h160v-160H400v160Zm0 220h160v-160H400v160ZM180-400h160v-160H180v160Zm440 0h160v-160H620v160ZM180-180h160v-160H180v160Zm440 0h160v-160H620v160Z\"/>\n",
              "  </svg>\n",
              "    </button>\n",
              "\n",
              "  <style>\n",
              "    .colab-df-container {\n",
              "      display:flex;\n",
              "      gap: 12px;\n",
              "    }\n",
              "\n",
              "    .colab-df-convert {\n",
              "      background-color: #E8F0FE;\n",
              "      border: none;\n",
              "      border-radius: 50%;\n",
              "      cursor: pointer;\n",
              "      display: none;\n",
              "      fill: #1967D2;\n",
              "      height: 32px;\n",
              "      padding: 0 0 0 0;\n",
              "      width: 32px;\n",
              "    }\n",
              "\n",
              "    .colab-df-convert:hover {\n",
              "      background-color: #E2EBFA;\n",
              "      box-shadow: 0px 1px 2px rgba(60, 64, 67, 0.3), 0px 1px 3px 1px rgba(60, 64, 67, 0.15);\n",
              "      fill: #174EA6;\n",
              "    }\n",
              "\n",
              "    .colab-df-buttons div {\n",
              "      margin-bottom: 4px;\n",
              "    }\n",
              "\n",
              "    [theme=dark] .colab-df-convert {\n",
              "      background-color: #3B4455;\n",
              "      fill: #D2E3FC;\n",
              "    }\n",
              "\n",
              "    [theme=dark] .colab-df-convert:hover {\n",
              "      background-color: #434B5C;\n",
              "      box-shadow: 0px 1px 3px 1px rgba(0, 0, 0, 0.15);\n",
              "      filter: drop-shadow(0px 1px 2px rgba(0, 0, 0, 0.3));\n",
              "      fill: #FFFFFF;\n",
              "    }\n",
              "  </style>\n",
              "\n",
              "    <script>\n",
              "      const buttonEl =\n",
              "        document.querySelector('#df-1d5328f4-70f3-4331-9eec-7dbc08d3e647 button.colab-df-convert');\n",
              "      buttonEl.style.display =\n",
              "        google.colab.kernel.accessAllowed ? 'block' : 'none';\n",
              "\n",
              "      async function convertToInteractive(key) {\n",
              "        const element = document.querySelector('#df-1d5328f4-70f3-4331-9eec-7dbc08d3e647');\n",
              "        const dataTable =\n",
              "          await google.colab.kernel.invokeFunction('convertToInteractive',\n",
              "                                                    [key], {});\n",
              "        if (!dataTable) return;\n",
              "\n",
              "        const docLinkHtml = 'Like what you see? Visit the ' +\n",
              "          '<a target=\"_blank\" href=https://colab.research.google.com/notebooks/data_table.ipynb>data table notebook</a>'\n",
              "          + ' to learn more about interactive tables.';\n",
              "        element.innerHTML = '';\n",
              "        dataTable['output_type'] = 'display_data';\n",
              "        await google.colab.output.renderOutput(dataTable, element);\n",
              "        const docLink = document.createElement('div');\n",
              "        docLink.innerHTML = docLinkHtml;\n",
              "        element.appendChild(docLink);\n",
              "      }\n",
              "    </script>\n",
              "  </div>\n",
              "\n",
              "\n",
              "<div id=\"df-4579fc45-c944-4972-85ee-7de8ac2c8ad1\">\n",
              "  <button class=\"colab-df-quickchart\" onclick=\"quickchart('df-4579fc45-c944-4972-85ee-7de8ac2c8ad1')\"\n",
              "            title=\"Suggest charts\"\n",
              "            style=\"display:none;\">\n",
              "\n",
              "<svg xmlns=\"http://www.w3.org/2000/svg\" height=\"24px\"viewBox=\"0 0 24 24\"\n",
              "     width=\"24px\">\n",
              "    <g>\n",
              "        <path d=\"M19 3H5c-1.1 0-2 .9-2 2v14c0 1.1.9 2 2 2h14c1.1 0 2-.9 2-2V5c0-1.1-.9-2-2-2zM9 17H7v-7h2v7zm4 0h-2V7h2v10zm4 0h-2v-4h2v4z\"/>\n",
              "    </g>\n",
              "</svg>\n",
              "  </button>\n",
              "\n",
              "<style>\n",
              "  .colab-df-quickchart {\n",
              "      --bg-color: #E8F0FE;\n",
              "      --fill-color: #1967D2;\n",
              "      --hover-bg-color: #E2EBFA;\n",
              "      --hover-fill-color: #174EA6;\n",
              "      --disabled-fill-color: #AAA;\n",
              "      --disabled-bg-color: #DDD;\n",
              "  }\n",
              "\n",
              "  [theme=dark] .colab-df-quickchart {\n",
              "      --bg-color: #3B4455;\n",
              "      --fill-color: #D2E3FC;\n",
              "      --hover-bg-color: #434B5C;\n",
              "      --hover-fill-color: #FFFFFF;\n",
              "      --disabled-bg-color: #3B4455;\n",
              "      --disabled-fill-color: #666;\n",
              "  }\n",
              "\n",
              "  .colab-df-quickchart {\n",
              "    background-color: var(--bg-color);\n",
              "    border: none;\n",
              "    border-radius: 50%;\n",
              "    cursor: pointer;\n",
              "    display: none;\n",
              "    fill: var(--fill-color);\n",
              "    height: 32px;\n",
              "    padding: 0;\n",
              "    width: 32px;\n",
              "  }\n",
              "\n",
              "  .colab-df-quickchart:hover {\n",
              "    background-color: var(--hover-bg-color);\n",
              "    box-shadow: 0 1px 2px rgba(60, 64, 67, 0.3), 0 1px 3px 1px rgba(60, 64, 67, 0.15);\n",
              "    fill: var(--button-hover-fill-color);\n",
              "  }\n",
              "\n",
              "  .colab-df-quickchart-complete:disabled,\n",
              "  .colab-df-quickchart-complete:disabled:hover {\n",
              "    background-color: var(--disabled-bg-color);\n",
              "    fill: var(--disabled-fill-color);\n",
              "    box-shadow: none;\n",
              "  }\n",
              "\n",
              "  .colab-df-spinner {\n",
              "    border: 2px solid var(--fill-color);\n",
              "    border-color: transparent;\n",
              "    border-bottom-color: var(--fill-color);\n",
              "    animation:\n",
              "      spin 1s steps(1) infinite;\n",
              "  }\n",
              "\n",
              "  @keyframes spin {\n",
              "    0% {\n",
              "      border-color: transparent;\n",
              "      border-bottom-color: var(--fill-color);\n",
              "      border-left-color: var(--fill-color);\n",
              "    }\n",
              "    20% {\n",
              "      border-color: transparent;\n",
              "      border-left-color: var(--fill-color);\n",
              "      border-top-color: var(--fill-color);\n",
              "    }\n",
              "    30% {\n",
              "      border-color: transparent;\n",
              "      border-left-color: var(--fill-color);\n",
              "      border-top-color: var(--fill-color);\n",
              "      border-right-color: var(--fill-color);\n",
              "    }\n",
              "    40% {\n",
              "      border-color: transparent;\n",
              "      border-right-color: var(--fill-color);\n",
              "      border-top-color: var(--fill-color);\n",
              "    }\n",
              "    60% {\n",
              "      border-color: transparent;\n",
              "      border-right-color: var(--fill-color);\n",
              "    }\n",
              "    80% {\n",
              "      border-color: transparent;\n",
              "      border-right-color: var(--fill-color);\n",
              "      border-bottom-color: var(--fill-color);\n",
              "    }\n",
              "    90% {\n",
              "      border-color: transparent;\n",
              "      border-bottom-color: var(--fill-color);\n",
              "    }\n",
              "  }\n",
              "</style>\n",
              "\n",
              "  <script>\n",
              "    async function quickchart(key) {\n",
              "      const quickchartButtonEl =\n",
              "        document.querySelector('#' + key + ' button');\n",
              "      quickchartButtonEl.disabled = true;  // To prevent multiple clicks.\n",
              "      quickchartButtonEl.classList.add('colab-df-spinner');\n",
              "      try {\n",
              "        const charts = await google.colab.kernel.invokeFunction(\n",
              "            'suggestCharts', [key], {});\n",
              "      } catch (error) {\n",
              "        console.error('Error during call to suggestCharts:', error);\n",
              "      }\n",
              "      quickchartButtonEl.classList.remove('colab-df-spinner');\n",
              "      quickchartButtonEl.classList.add('colab-df-quickchart-complete');\n",
              "    }\n",
              "    (() => {\n",
              "      let quickchartButtonEl =\n",
              "        document.querySelector('#df-4579fc45-c944-4972-85ee-7de8ac2c8ad1 button');\n",
              "      quickchartButtonEl.style.display =\n",
              "        google.colab.kernel.accessAllowed ? 'block' : 'none';\n",
              "    })();\n",
              "  </script>\n",
              "</div>\n",
              "\n",
              "  <div id=\"id_c544ce5a-05a3-4687-839a-897b612ea5c4\">\n",
              "    <style>\n",
              "      .colab-df-generate {\n",
              "        background-color: #E8F0FE;\n",
              "        border: none;\n",
              "        border-radius: 50%;\n",
              "        cursor: pointer;\n",
              "        display: none;\n",
              "        fill: #1967D2;\n",
              "        height: 32px;\n",
              "        padding: 0 0 0 0;\n",
              "        width: 32px;\n",
              "      }\n",
              "\n",
              "      .colab-df-generate:hover {\n",
              "        background-color: #E2EBFA;\n",
              "        box-shadow: 0px 1px 2px rgba(60, 64, 67, 0.3), 0px 1px 3px 1px rgba(60, 64, 67, 0.15);\n",
              "        fill: #174EA6;\n",
              "      }\n",
              "\n",
              "      [theme=dark] .colab-df-generate {\n",
              "        background-color: #3B4455;\n",
              "        fill: #D2E3FC;\n",
              "      }\n",
              "\n",
              "      [theme=dark] .colab-df-generate:hover {\n",
              "        background-color: #434B5C;\n",
              "        box-shadow: 0px 1px 3px 1px rgba(0, 0, 0, 0.15);\n",
              "        filter: drop-shadow(0px 1px 2px rgba(0, 0, 0, 0.3));\n",
              "        fill: #FFFFFF;\n",
              "      }\n",
              "    </style>\n",
              "    <button class=\"colab-df-generate\" onclick=\"generateWithVariable('clientes')\"\n",
              "            title=\"Generate code using this dataframe.\"\n",
              "            style=\"display:none;\">\n",
              "\n",
              "  <svg xmlns=\"http://www.w3.org/2000/svg\" height=\"24px\"viewBox=\"0 0 24 24\"\n",
              "       width=\"24px\">\n",
              "    <path d=\"M7,19H8.4L18.45,9,17,7.55,7,17.6ZM5,21V16.75L18.45,3.32a2,2,0,0,1,2.83,0l1.4,1.43a1.91,1.91,0,0,1,.58,1.4,1.91,1.91,0,0,1-.58,1.4L9.25,21ZM18.45,9,17,7.55Zm-12,3A5.31,5.31,0,0,0,4.9,8.1,5.31,5.31,0,0,0,1,6.5,5.31,5.31,0,0,0,4.9,4.9,5.31,5.31,0,0,0,6.5,1,5.31,5.31,0,0,0,8.1,4.9,5.31,5.31,0,0,0,12,6.5,5.46,5.46,0,0,0,6.5,12Z\"/>\n",
              "  </svg>\n",
              "    </button>\n",
              "    <script>\n",
              "      (() => {\n",
              "      const buttonEl =\n",
              "        document.querySelector('#id_c544ce5a-05a3-4687-839a-897b612ea5c4 button.colab-df-generate');\n",
              "      buttonEl.style.display =\n",
              "        google.colab.kernel.accessAllowed ? 'block' : 'none';\n",
              "\n",
              "      buttonEl.onclick = () => {\n",
              "        google.colab.notebook.generateWithVariable('clientes');\n",
              "      }\n",
              "      })();\n",
              "    </script>\n",
              "  </div>\n",
              "\n",
              "    </div>\n",
              "  </div>\n"
            ],
            "application/vnd.google.colaboratory.intrinsic+json": {
              "type": "dataframe",
              "variable_name": "clientes",
              "summary": "{\n  \"name\": \"clientes\",\n  \"rows\": 5,\n  \"fields\": [\n    {\n      \"column\": \"codcliente\",\n      \"properties\": {\n        \"dtype\": \"number\",\n        \"std\": 1,\n        \"min\": 1,\n        \"max\": 5,\n        \"num_unique_values\": 5,\n        \"samples\": [\n          2,\n          5,\n          3\n        ],\n        \"semantic_type\": \"\",\n        \"description\": \"\"\n      }\n    },\n    {\n      \"column\": \"nome\",\n      \"properties\": {\n        \"dtype\": \"string\",\n        \"num_unique_values\": 5,\n        \"samples\": [\n          \"Bruna Pereira\",\n          \"L\\u00facia Andrade\",\n          \"T\\u00falio Nascimento\"\n        ],\n        \"semantic_type\": \"\",\n        \"description\": \"\"\n      }\n    },\n    {\n      \"column\": \"cidade\",\n      \"properties\": {\n        \"dtype\": \"string\",\n        \"num_unique_values\": 4,\n        \"samples\": [\n          \"Niter\\u00f3i\",\n          \"S\\u00e3o Paulo\",\n          \"Duque de Caxias\"\n        ],\n        \"semantic_type\": \"\",\n        \"description\": \"\"\n      }\n    },\n    {\n      \"column\": \"sexo\",\n      \"properties\": {\n        \"dtype\": \"category\",\n        \"num_unique_values\": 2,\n        \"samples\": [\n          \"M\",\n          \"F\"\n        ],\n        \"semantic_type\": \"\",\n        \"description\": \"\"\n      }\n    },\n    {\n      \"column\": \"estado\",\n      \"properties\": {\n        \"dtype\": \"category\",\n        \"num_unique_values\": 2,\n        \"samples\": [\n          \"SP\",\n          \"RJ\"\n        ],\n        \"semantic_type\": \"\",\n        \"description\": \"\"\n      }\n    },\n    {\n      \"column\": \"estadocivil\",\n      \"properties\": {\n        \"dtype\": \"category\",\n        \"num_unique_values\": 2,\n        \"samples\": [\n          \"S\",\n          \"C\"\n        ],\n        \"semantic_type\": \"\",\n        \"description\": \"\"\n      }\n    }\n  ]\n}"
            }
          },
          "metadata": {}
        }
      ]
    },
    {
      "cell_type": "code",
      "source": [
        "# Recuperando os valores da tabela carro\n",
        "connection = mysql.connector.connect(\n",
        "    host=host,\n",
        "    user=user,\n",
        "    password=password,\n",
        "    database = database,\n",
        ") # estas linhas servem para criar a conexão com o banco de dados\n",
        "cursor = connection.cursor() #criando o cursor para apontar para o banco de dados\n",
        "query = 'select * from carro;' # Query ou consulta desejada\n",
        "cursor.execute(query) # Execução da consulta\n",
        "result = cursor.fetchall() # armazenando os resultados na variável results\n",
        "carro = pd.DataFrame(result,columns=cursor.column_names) # convertendo a variável result em um df pandas chamado tabelas\n",
        "display(carro) # exibindo a tabela pandas\n",
        "cursor.close() # fechando o cursor\n",
        "connection.close() # fechando a conexão"
      ],
      "metadata": {
        "colab": {
          "base_uri": "https://localhost:8080/",
          "height": 206
        },
        "id": "woNDJhJadOpf",
        "outputId": "506fae8b-be48-41eb-bd34-bc8371ad906a"
      },
      "execution_count": null,
      "outputs": [
        {
          "output_type": "display_data",
          "data": {
            "text/plain": [
              "   codcarro  codmarca modelo  valor\n",
              "0         1         1     Ka  100.0\n",
              "1         2         2   Argo  150.0\n",
              "2         3         3   Onix  170.0\n",
              "3         4         4   Polo  150.0\n",
              "4         5         5   Kwid  120.0"
            ],
            "text/html": [
              "\n",
              "  <div id=\"df-e2203af6-3e34-4bf8-a85a-21de06e4c8bb\" class=\"colab-df-container\">\n",
              "    <div>\n",
              "<style scoped>\n",
              "    .dataframe tbody tr th:only-of-type {\n",
              "        vertical-align: middle;\n",
              "    }\n",
              "\n",
              "    .dataframe tbody tr th {\n",
              "        vertical-align: top;\n",
              "    }\n",
              "\n",
              "    .dataframe thead th {\n",
              "        text-align: right;\n",
              "    }\n",
              "</style>\n",
              "<table border=\"1\" class=\"dataframe\">\n",
              "  <thead>\n",
              "    <tr style=\"text-align: right;\">\n",
              "      <th></th>\n",
              "      <th>codcarro</th>\n",
              "      <th>codmarca</th>\n",
              "      <th>modelo</th>\n",
              "      <th>valor</th>\n",
              "    </tr>\n",
              "  </thead>\n",
              "  <tbody>\n",
              "    <tr>\n",
              "      <th>0</th>\n",
              "      <td>1</td>\n",
              "      <td>1</td>\n",
              "      <td>Ka</td>\n",
              "      <td>100.0</td>\n",
              "    </tr>\n",
              "    <tr>\n",
              "      <th>1</th>\n",
              "      <td>2</td>\n",
              "      <td>2</td>\n",
              "      <td>Argo</td>\n",
              "      <td>150.0</td>\n",
              "    </tr>\n",
              "    <tr>\n",
              "      <th>2</th>\n",
              "      <td>3</td>\n",
              "      <td>3</td>\n",
              "      <td>Onix</td>\n",
              "      <td>170.0</td>\n",
              "    </tr>\n",
              "    <tr>\n",
              "      <th>3</th>\n",
              "      <td>4</td>\n",
              "      <td>4</td>\n",
              "      <td>Polo</td>\n",
              "      <td>150.0</td>\n",
              "    </tr>\n",
              "    <tr>\n",
              "      <th>4</th>\n",
              "      <td>5</td>\n",
              "      <td>5</td>\n",
              "      <td>Kwid</td>\n",
              "      <td>120.0</td>\n",
              "    </tr>\n",
              "  </tbody>\n",
              "</table>\n",
              "</div>\n",
              "    <div class=\"colab-df-buttons\">\n",
              "\n",
              "  <div class=\"colab-df-container\">\n",
              "    <button class=\"colab-df-convert\" onclick=\"convertToInteractive('df-e2203af6-3e34-4bf8-a85a-21de06e4c8bb')\"\n",
              "            title=\"Convert this dataframe to an interactive table.\"\n",
              "            style=\"display:none;\">\n",
              "\n",
              "  <svg xmlns=\"http://www.w3.org/2000/svg\" height=\"24px\" viewBox=\"0 -960 960 960\">\n",
              "    <path d=\"M120-120v-720h720v720H120Zm60-500h600v-160H180v160Zm220 220h160v-160H400v160Zm0 220h160v-160H400v160ZM180-400h160v-160H180v160Zm440 0h160v-160H620v160ZM180-180h160v-160H180v160Zm440 0h160v-160H620v160Z\"/>\n",
              "  </svg>\n",
              "    </button>\n",
              "\n",
              "  <style>\n",
              "    .colab-df-container {\n",
              "      display:flex;\n",
              "      gap: 12px;\n",
              "    }\n",
              "\n",
              "    .colab-df-convert {\n",
              "      background-color: #E8F0FE;\n",
              "      border: none;\n",
              "      border-radius: 50%;\n",
              "      cursor: pointer;\n",
              "      display: none;\n",
              "      fill: #1967D2;\n",
              "      height: 32px;\n",
              "      padding: 0 0 0 0;\n",
              "      width: 32px;\n",
              "    }\n",
              "\n",
              "    .colab-df-convert:hover {\n",
              "      background-color: #E2EBFA;\n",
              "      box-shadow: 0px 1px 2px rgba(60, 64, 67, 0.3), 0px 1px 3px 1px rgba(60, 64, 67, 0.15);\n",
              "      fill: #174EA6;\n",
              "    }\n",
              "\n",
              "    .colab-df-buttons div {\n",
              "      margin-bottom: 4px;\n",
              "    }\n",
              "\n",
              "    [theme=dark] .colab-df-convert {\n",
              "      background-color: #3B4455;\n",
              "      fill: #D2E3FC;\n",
              "    }\n",
              "\n",
              "    [theme=dark] .colab-df-convert:hover {\n",
              "      background-color: #434B5C;\n",
              "      box-shadow: 0px 1px 3px 1px rgba(0, 0, 0, 0.15);\n",
              "      filter: drop-shadow(0px 1px 2px rgba(0, 0, 0, 0.3));\n",
              "      fill: #FFFFFF;\n",
              "    }\n",
              "  </style>\n",
              "\n",
              "    <script>\n",
              "      const buttonEl =\n",
              "        document.querySelector('#df-e2203af6-3e34-4bf8-a85a-21de06e4c8bb button.colab-df-convert');\n",
              "      buttonEl.style.display =\n",
              "        google.colab.kernel.accessAllowed ? 'block' : 'none';\n",
              "\n",
              "      async function convertToInteractive(key) {\n",
              "        const element = document.querySelector('#df-e2203af6-3e34-4bf8-a85a-21de06e4c8bb');\n",
              "        const dataTable =\n",
              "          await google.colab.kernel.invokeFunction('convertToInteractive',\n",
              "                                                    [key], {});\n",
              "        if (!dataTable) return;\n",
              "\n",
              "        const docLinkHtml = 'Like what you see? Visit the ' +\n",
              "          '<a target=\"_blank\" href=https://colab.research.google.com/notebooks/data_table.ipynb>data table notebook</a>'\n",
              "          + ' to learn more about interactive tables.';\n",
              "        element.innerHTML = '';\n",
              "        dataTable['output_type'] = 'display_data';\n",
              "        await google.colab.output.renderOutput(dataTable, element);\n",
              "        const docLink = document.createElement('div');\n",
              "        docLink.innerHTML = docLinkHtml;\n",
              "        element.appendChild(docLink);\n",
              "      }\n",
              "    </script>\n",
              "  </div>\n",
              "\n",
              "\n",
              "<div id=\"df-811831c0-0854-46f4-8ae9-685be56fe63a\">\n",
              "  <button class=\"colab-df-quickchart\" onclick=\"quickchart('df-811831c0-0854-46f4-8ae9-685be56fe63a')\"\n",
              "            title=\"Suggest charts\"\n",
              "            style=\"display:none;\">\n",
              "\n",
              "<svg xmlns=\"http://www.w3.org/2000/svg\" height=\"24px\"viewBox=\"0 0 24 24\"\n",
              "     width=\"24px\">\n",
              "    <g>\n",
              "        <path d=\"M19 3H5c-1.1 0-2 .9-2 2v14c0 1.1.9 2 2 2h14c1.1 0 2-.9 2-2V5c0-1.1-.9-2-2-2zM9 17H7v-7h2v7zm4 0h-2V7h2v10zm4 0h-2v-4h2v4z\"/>\n",
              "    </g>\n",
              "</svg>\n",
              "  </button>\n",
              "\n",
              "<style>\n",
              "  .colab-df-quickchart {\n",
              "      --bg-color: #E8F0FE;\n",
              "      --fill-color: #1967D2;\n",
              "      --hover-bg-color: #E2EBFA;\n",
              "      --hover-fill-color: #174EA6;\n",
              "      --disabled-fill-color: #AAA;\n",
              "      --disabled-bg-color: #DDD;\n",
              "  }\n",
              "\n",
              "  [theme=dark] .colab-df-quickchart {\n",
              "      --bg-color: #3B4455;\n",
              "      --fill-color: #D2E3FC;\n",
              "      --hover-bg-color: #434B5C;\n",
              "      --hover-fill-color: #FFFFFF;\n",
              "      --disabled-bg-color: #3B4455;\n",
              "      --disabled-fill-color: #666;\n",
              "  }\n",
              "\n",
              "  .colab-df-quickchart {\n",
              "    background-color: var(--bg-color);\n",
              "    border: none;\n",
              "    border-radius: 50%;\n",
              "    cursor: pointer;\n",
              "    display: none;\n",
              "    fill: var(--fill-color);\n",
              "    height: 32px;\n",
              "    padding: 0;\n",
              "    width: 32px;\n",
              "  }\n",
              "\n",
              "  .colab-df-quickchart:hover {\n",
              "    background-color: var(--hover-bg-color);\n",
              "    box-shadow: 0 1px 2px rgba(60, 64, 67, 0.3), 0 1px 3px 1px rgba(60, 64, 67, 0.15);\n",
              "    fill: var(--button-hover-fill-color);\n",
              "  }\n",
              "\n",
              "  .colab-df-quickchart-complete:disabled,\n",
              "  .colab-df-quickchart-complete:disabled:hover {\n",
              "    background-color: var(--disabled-bg-color);\n",
              "    fill: var(--disabled-fill-color);\n",
              "    box-shadow: none;\n",
              "  }\n",
              "\n",
              "  .colab-df-spinner {\n",
              "    border: 2px solid var(--fill-color);\n",
              "    border-color: transparent;\n",
              "    border-bottom-color: var(--fill-color);\n",
              "    animation:\n",
              "      spin 1s steps(1) infinite;\n",
              "  }\n",
              "\n",
              "  @keyframes spin {\n",
              "    0% {\n",
              "      border-color: transparent;\n",
              "      border-bottom-color: var(--fill-color);\n",
              "      border-left-color: var(--fill-color);\n",
              "    }\n",
              "    20% {\n",
              "      border-color: transparent;\n",
              "      border-left-color: var(--fill-color);\n",
              "      border-top-color: var(--fill-color);\n",
              "    }\n",
              "    30% {\n",
              "      border-color: transparent;\n",
              "      border-left-color: var(--fill-color);\n",
              "      border-top-color: var(--fill-color);\n",
              "      border-right-color: var(--fill-color);\n",
              "    }\n",
              "    40% {\n",
              "      border-color: transparent;\n",
              "      border-right-color: var(--fill-color);\n",
              "      border-top-color: var(--fill-color);\n",
              "    }\n",
              "    60% {\n",
              "      border-color: transparent;\n",
              "      border-right-color: var(--fill-color);\n",
              "    }\n",
              "    80% {\n",
              "      border-color: transparent;\n",
              "      border-right-color: var(--fill-color);\n",
              "      border-bottom-color: var(--fill-color);\n",
              "    }\n",
              "    90% {\n",
              "      border-color: transparent;\n",
              "      border-bottom-color: var(--fill-color);\n",
              "    }\n",
              "  }\n",
              "</style>\n",
              "\n",
              "  <script>\n",
              "    async function quickchart(key) {\n",
              "      const quickchartButtonEl =\n",
              "        document.querySelector('#' + key + ' button');\n",
              "      quickchartButtonEl.disabled = true;  // To prevent multiple clicks.\n",
              "      quickchartButtonEl.classList.add('colab-df-spinner');\n",
              "      try {\n",
              "        const charts = await google.colab.kernel.invokeFunction(\n",
              "            'suggestCharts', [key], {});\n",
              "      } catch (error) {\n",
              "        console.error('Error during call to suggestCharts:', error);\n",
              "      }\n",
              "      quickchartButtonEl.classList.remove('colab-df-spinner');\n",
              "      quickchartButtonEl.classList.add('colab-df-quickchart-complete');\n",
              "    }\n",
              "    (() => {\n",
              "      let quickchartButtonEl =\n",
              "        document.querySelector('#df-811831c0-0854-46f4-8ae9-685be56fe63a button');\n",
              "      quickchartButtonEl.style.display =\n",
              "        google.colab.kernel.accessAllowed ? 'block' : 'none';\n",
              "    })();\n",
              "  </script>\n",
              "</div>\n",
              "\n",
              "  <div id=\"id_8aca20e0-388a-4b9f-b7c7-c83c205eee41\">\n",
              "    <style>\n",
              "      .colab-df-generate {\n",
              "        background-color: #E8F0FE;\n",
              "        border: none;\n",
              "        border-radius: 50%;\n",
              "        cursor: pointer;\n",
              "        display: none;\n",
              "        fill: #1967D2;\n",
              "        height: 32px;\n",
              "        padding: 0 0 0 0;\n",
              "        width: 32px;\n",
              "      }\n",
              "\n",
              "      .colab-df-generate:hover {\n",
              "        background-color: #E2EBFA;\n",
              "        box-shadow: 0px 1px 2px rgba(60, 64, 67, 0.3), 0px 1px 3px 1px rgba(60, 64, 67, 0.15);\n",
              "        fill: #174EA6;\n",
              "      }\n",
              "\n",
              "      [theme=dark] .colab-df-generate {\n",
              "        background-color: #3B4455;\n",
              "        fill: #D2E3FC;\n",
              "      }\n",
              "\n",
              "      [theme=dark] .colab-df-generate:hover {\n",
              "        background-color: #434B5C;\n",
              "        box-shadow: 0px 1px 3px 1px rgba(0, 0, 0, 0.15);\n",
              "        filter: drop-shadow(0px 1px 2px rgba(0, 0, 0, 0.3));\n",
              "        fill: #FFFFFF;\n",
              "      }\n",
              "    </style>\n",
              "    <button class=\"colab-df-generate\" onclick=\"generateWithVariable('carro')\"\n",
              "            title=\"Generate code using this dataframe.\"\n",
              "            style=\"display:none;\">\n",
              "\n",
              "  <svg xmlns=\"http://www.w3.org/2000/svg\" height=\"24px\"viewBox=\"0 0 24 24\"\n",
              "       width=\"24px\">\n",
              "    <path d=\"M7,19H8.4L18.45,9,17,7.55,7,17.6ZM5,21V16.75L18.45,3.32a2,2,0,0,1,2.83,0l1.4,1.43a1.91,1.91,0,0,1,.58,1.4,1.91,1.91,0,0,1-.58,1.4L9.25,21ZM18.45,9,17,7.55Zm-12,3A5.31,5.31,0,0,0,4.9,8.1,5.31,5.31,0,0,0,1,6.5,5.31,5.31,0,0,0,4.9,4.9,5.31,5.31,0,0,0,6.5,1,5.31,5.31,0,0,0,8.1,4.9,5.31,5.31,0,0,0,12,6.5,5.46,5.46,0,0,0,6.5,12Z\"/>\n",
              "  </svg>\n",
              "    </button>\n",
              "    <script>\n",
              "      (() => {\n",
              "      const buttonEl =\n",
              "        document.querySelector('#id_8aca20e0-388a-4b9f-b7c7-c83c205eee41 button.colab-df-generate');\n",
              "      buttonEl.style.display =\n",
              "        google.colab.kernel.accessAllowed ? 'block' : 'none';\n",
              "\n",
              "      buttonEl.onclick = () => {\n",
              "        google.colab.notebook.generateWithVariable('carro');\n",
              "      }\n",
              "      })();\n",
              "    </script>\n",
              "  </div>\n",
              "\n",
              "    </div>\n",
              "  </div>\n"
            ],
            "application/vnd.google.colaboratory.intrinsic+json": {
              "type": "dataframe",
              "variable_name": "carro",
              "summary": "{\n  \"name\": \"carro\",\n  \"rows\": 5,\n  \"fields\": [\n    {\n      \"column\": \"codcarro\",\n      \"properties\": {\n        \"dtype\": \"number\",\n        \"std\": 1,\n        \"min\": 1,\n        \"max\": 5,\n        \"num_unique_values\": 5,\n        \"samples\": [\n          2,\n          5,\n          3\n        ],\n        \"semantic_type\": \"\",\n        \"description\": \"\"\n      }\n    },\n    {\n      \"column\": \"codmarca\",\n      \"properties\": {\n        \"dtype\": \"number\",\n        \"std\": 1,\n        \"min\": 1,\n        \"max\": 5,\n        \"num_unique_values\": 5,\n        \"samples\": [\n          2,\n          5,\n          3\n        ],\n        \"semantic_type\": \"\",\n        \"description\": \"\"\n      }\n    },\n    {\n      \"column\": \"modelo\",\n      \"properties\": {\n        \"dtype\": \"string\",\n        \"num_unique_values\": 5,\n        \"samples\": [\n          \"Argo\",\n          \"Kwid\",\n          \"Onix\"\n        ],\n        \"semantic_type\": \"\",\n        \"description\": \"\"\n      }\n    },\n    {\n      \"column\": \"valor\",\n      \"properties\": {\n        \"dtype\": \"number\",\n        \"std\": 27.748873851023216,\n        \"min\": 100.0,\n        \"max\": 170.0,\n        \"num_unique_values\": 4,\n        \"samples\": [\n          150.0,\n          120.0,\n          100.0\n        ],\n        \"semantic_type\": \"\",\n        \"description\": \"\"\n      }\n    }\n  ]\n}"
            }
          },
          "metadata": {}
        }
      ]
    },
    {
      "cell_type": "code",
      "source": [
        "# Recuperando os valores da tabela carro\n",
        "connection = mysql.connector.connect(\n",
        "    host=host,\n",
        "    user=user,\n",
        "    password=password,\n",
        "    database = database,\n",
        ") # estas linhas servem para criar a conexão com o banco de dados\n",
        "cursor = connection.cursor() #criando o cursor para apontar para o banco de dados\n",
        "query = 'select * from marca;' # Query ou consulta desejada\n",
        "cursor.execute(query) # Execução da consulta\n",
        "result = cursor.fetchall() # armazenando os resultados na variável results\n",
        "marca = pd.DataFrame(result,columns=cursor.column_names) # convertendo a variável result em um df pandas chamado tabelas\n",
        "display(marca) # exibindo a tabela pandas\n",
        "cursor.close() # fechando o cursor\n",
        "connection.close() # fechando a conexão"
      ],
      "metadata": {
        "colab": {
          "base_uri": "https://localhost:8080/",
          "height": 206
        },
        "id": "9ZNr3crIdUGT",
        "outputId": "bc618b19-028a-4006-c15c-5b45587e1a89"
      },
      "execution_count": null,
      "outputs": [
        {
          "output_type": "display_data",
          "data": {
            "text/plain": [
              "   codmarca       marca\n",
              "0         1        Ford\n",
              "1         2        Fiat\n",
              "2         3   Chevrolet\n",
              "3         4  Volkswagen\n",
              "4         5     Renault"
            ],
            "text/html": [
              "\n",
              "  <div id=\"df-61cc8fa0-5c21-439f-b7bf-c75f255462d9\" class=\"colab-df-container\">\n",
              "    <div>\n",
              "<style scoped>\n",
              "    .dataframe tbody tr th:only-of-type {\n",
              "        vertical-align: middle;\n",
              "    }\n",
              "\n",
              "    .dataframe tbody tr th {\n",
              "        vertical-align: top;\n",
              "    }\n",
              "\n",
              "    .dataframe thead th {\n",
              "        text-align: right;\n",
              "    }\n",
              "</style>\n",
              "<table border=\"1\" class=\"dataframe\">\n",
              "  <thead>\n",
              "    <tr style=\"text-align: right;\">\n",
              "      <th></th>\n",
              "      <th>codmarca</th>\n",
              "      <th>marca</th>\n",
              "    </tr>\n",
              "  </thead>\n",
              "  <tbody>\n",
              "    <tr>\n",
              "      <th>0</th>\n",
              "      <td>1</td>\n",
              "      <td>Ford</td>\n",
              "    </tr>\n",
              "    <tr>\n",
              "      <th>1</th>\n",
              "      <td>2</td>\n",
              "      <td>Fiat</td>\n",
              "    </tr>\n",
              "    <tr>\n",
              "      <th>2</th>\n",
              "      <td>3</td>\n",
              "      <td>Chevrolet</td>\n",
              "    </tr>\n",
              "    <tr>\n",
              "      <th>3</th>\n",
              "      <td>4</td>\n",
              "      <td>Volkswagen</td>\n",
              "    </tr>\n",
              "    <tr>\n",
              "      <th>4</th>\n",
              "      <td>5</td>\n",
              "      <td>Renault</td>\n",
              "    </tr>\n",
              "  </tbody>\n",
              "</table>\n",
              "</div>\n",
              "    <div class=\"colab-df-buttons\">\n",
              "\n",
              "  <div class=\"colab-df-container\">\n",
              "    <button class=\"colab-df-convert\" onclick=\"convertToInteractive('df-61cc8fa0-5c21-439f-b7bf-c75f255462d9')\"\n",
              "            title=\"Convert this dataframe to an interactive table.\"\n",
              "            style=\"display:none;\">\n",
              "\n",
              "  <svg xmlns=\"http://www.w3.org/2000/svg\" height=\"24px\" viewBox=\"0 -960 960 960\">\n",
              "    <path d=\"M120-120v-720h720v720H120Zm60-500h600v-160H180v160Zm220 220h160v-160H400v160Zm0 220h160v-160H400v160ZM180-400h160v-160H180v160Zm440 0h160v-160H620v160ZM180-180h160v-160H180v160Zm440 0h160v-160H620v160Z\"/>\n",
              "  </svg>\n",
              "    </button>\n",
              "\n",
              "  <style>\n",
              "    .colab-df-container {\n",
              "      display:flex;\n",
              "      gap: 12px;\n",
              "    }\n",
              "\n",
              "    .colab-df-convert {\n",
              "      background-color: #E8F0FE;\n",
              "      border: none;\n",
              "      border-radius: 50%;\n",
              "      cursor: pointer;\n",
              "      display: none;\n",
              "      fill: #1967D2;\n",
              "      height: 32px;\n",
              "      padding: 0 0 0 0;\n",
              "      width: 32px;\n",
              "    }\n",
              "\n",
              "    .colab-df-convert:hover {\n",
              "      background-color: #E2EBFA;\n",
              "      box-shadow: 0px 1px 2px rgba(60, 64, 67, 0.3), 0px 1px 3px 1px rgba(60, 64, 67, 0.15);\n",
              "      fill: #174EA6;\n",
              "    }\n",
              "\n",
              "    .colab-df-buttons div {\n",
              "      margin-bottom: 4px;\n",
              "    }\n",
              "\n",
              "    [theme=dark] .colab-df-convert {\n",
              "      background-color: #3B4455;\n",
              "      fill: #D2E3FC;\n",
              "    }\n",
              "\n",
              "    [theme=dark] .colab-df-convert:hover {\n",
              "      background-color: #434B5C;\n",
              "      box-shadow: 0px 1px 3px 1px rgba(0, 0, 0, 0.15);\n",
              "      filter: drop-shadow(0px 1px 2px rgba(0, 0, 0, 0.3));\n",
              "      fill: #FFFFFF;\n",
              "    }\n",
              "  </style>\n",
              "\n",
              "    <script>\n",
              "      const buttonEl =\n",
              "        document.querySelector('#df-61cc8fa0-5c21-439f-b7bf-c75f255462d9 button.colab-df-convert');\n",
              "      buttonEl.style.display =\n",
              "        google.colab.kernel.accessAllowed ? 'block' : 'none';\n",
              "\n",
              "      async function convertToInteractive(key) {\n",
              "        const element = document.querySelector('#df-61cc8fa0-5c21-439f-b7bf-c75f255462d9');\n",
              "        const dataTable =\n",
              "          await google.colab.kernel.invokeFunction('convertToInteractive',\n",
              "                                                    [key], {});\n",
              "        if (!dataTable) return;\n",
              "\n",
              "        const docLinkHtml = 'Like what you see? Visit the ' +\n",
              "          '<a target=\"_blank\" href=https://colab.research.google.com/notebooks/data_table.ipynb>data table notebook</a>'\n",
              "          + ' to learn more about interactive tables.';\n",
              "        element.innerHTML = '';\n",
              "        dataTable['output_type'] = 'display_data';\n",
              "        await google.colab.output.renderOutput(dataTable, element);\n",
              "        const docLink = document.createElement('div');\n",
              "        docLink.innerHTML = docLinkHtml;\n",
              "        element.appendChild(docLink);\n",
              "      }\n",
              "    </script>\n",
              "  </div>\n",
              "\n",
              "\n",
              "<div id=\"df-de019d2c-7d72-4eb0-96f0-e79795e0d6a6\">\n",
              "  <button class=\"colab-df-quickchart\" onclick=\"quickchart('df-de019d2c-7d72-4eb0-96f0-e79795e0d6a6')\"\n",
              "            title=\"Suggest charts\"\n",
              "            style=\"display:none;\">\n",
              "\n",
              "<svg xmlns=\"http://www.w3.org/2000/svg\" height=\"24px\"viewBox=\"0 0 24 24\"\n",
              "     width=\"24px\">\n",
              "    <g>\n",
              "        <path d=\"M19 3H5c-1.1 0-2 .9-2 2v14c0 1.1.9 2 2 2h14c1.1 0 2-.9 2-2V5c0-1.1-.9-2-2-2zM9 17H7v-7h2v7zm4 0h-2V7h2v10zm4 0h-2v-4h2v4z\"/>\n",
              "    </g>\n",
              "</svg>\n",
              "  </button>\n",
              "\n",
              "<style>\n",
              "  .colab-df-quickchart {\n",
              "      --bg-color: #E8F0FE;\n",
              "      --fill-color: #1967D2;\n",
              "      --hover-bg-color: #E2EBFA;\n",
              "      --hover-fill-color: #174EA6;\n",
              "      --disabled-fill-color: #AAA;\n",
              "      --disabled-bg-color: #DDD;\n",
              "  }\n",
              "\n",
              "  [theme=dark] .colab-df-quickchart {\n",
              "      --bg-color: #3B4455;\n",
              "      --fill-color: #D2E3FC;\n",
              "      --hover-bg-color: #434B5C;\n",
              "      --hover-fill-color: #FFFFFF;\n",
              "      --disabled-bg-color: #3B4455;\n",
              "      --disabled-fill-color: #666;\n",
              "  }\n",
              "\n",
              "  .colab-df-quickchart {\n",
              "    background-color: var(--bg-color);\n",
              "    border: none;\n",
              "    border-radius: 50%;\n",
              "    cursor: pointer;\n",
              "    display: none;\n",
              "    fill: var(--fill-color);\n",
              "    height: 32px;\n",
              "    padding: 0;\n",
              "    width: 32px;\n",
              "  }\n",
              "\n",
              "  .colab-df-quickchart:hover {\n",
              "    background-color: var(--hover-bg-color);\n",
              "    box-shadow: 0 1px 2px rgba(60, 64, 67, 0.3), 0 1px 3px 1px rgba(60, 64, 67, 0.15);\n",
              "    fill: var(--button-hover-fill-color);\n",
              "  }\n",
              "\n",
              "  .colab-df-quickchart-complete:disabled,\n",
              "  .colab-df-quickchart-complete:disabled:hover {\n",
              "    background-color: var(--disabled-bg-color);\n",
              "    fill: var(--disabled-fill-color);\n",
              "    box-shadow: none;\n",
              "  }\n",
              "\n",
              "  .colab-df-spinner {\n",
              "    border: 2px solid var(--fill-color);\n",
              "    border-color: transparent;\n",
              "    border-bottom-color: var(--fill-color);\n",
              "    animation:\n",
              "      spin 1s steps(1) infinite;\n",
              "  }\n",
              "\n",
              "  @keyframes spin {\n",
              "    0% {\n",
              "      border-color: transparent;\n",
              "      border-bottom-color: var(--fill-color);\n",
              "      border-left-color: var(--fill-color);\n",
              "    }\n",
              "    20% {\n",
              "      border-color: transparent;\n",
              "      border-left-color: var(--fill-color);\n",
              "      border-top-color: var(--fill-color);\n",
              "    }\n",
              "    30% {\n",
              "      border-color: transparent;\n",
              "      border-left-color: var(--fill-color);\n",
              "      border-top-color: var(--fill-color);\n",
              "      border-right-color: var(--fill-color);\n",
              "    }\n",
              "    40% {\n",
              "      border-color: transparent;\n",
              "      border-right-color: var(--fill-color);\n",
              "      border-top-color: var(--fill-color);\n",
              "    }\n",
              "    60% {\n",
              "      border-color: transparent;\n",
              "      border-right-color: var(--fill-color);\n",
              "    }\n",
              "    80% {\n",
              "      border-color: transparent;\n",
              "      border-right-color: var(--fill-color);\n",
              "      border-bottom-color: var(--fill-color);\n",
              "    }\n",
              "    90% {\n",
              "      border-color: transparent;\n",
              "      border-bottom-color: var(--fill-color);\n",
              "    }\n",
              "  }\n",
              "</style>\n",
              "\n",
              "  <script>\n",
              "    async function quickchart(key) {\n",
              "      const quickchartButtonEl =\n",
              "        document.querySelector('#' + key + ' button');\n",
              "      quickchartButtonEl.disabled = true;  // To prevent multiple clicks.\n",
              "      quickchartButtonEl.classList.add('colab-df-spinner');\n",
              "      try {\n",
              "        const charts = await google.colab.kernel.invokeFunction(\n",
              "            'suggestCharts', [key], {});\n",
              "      } catch (error) {\n",
              "        console.error('Error during call to suggestCharts:', error);\n",
              "      }\n",
              "      quickchartButtonEl.classList.remove('colab-df-spinner');\n",
              "      quickchartButtonEl.classList.add('colab-df-quickchart-complete');\n",
              "    }\n",
              "    (() => {\n",
              "      let quickchartButtonEl =\n",
              "        document.querySelector('#df-de019d2c-7d72-4eb0-96f0-e79795e0d6a6 button');\n",
              "      quickchartButtonEl.style.display =\n",
              "        google.colab.kernel.accessAllowed ? 'block' : 'none';\n",
              "    })();\n",
              "  </script>\n",
              "</div>\n",
              "\n",
              "  <div id=\"id_b2ff91e7-43f4-446a-9411-7588f7db0c8f\">\n",
              "    <style>\n",
              "      .colab-df-generate {\n",
              "        background-color: #E8F0FE;\n",
              "        border: none;\n",
              "        border-radius: 50%;\n",
              "        cursor: pointer;\n",
              "        display: none;\n",
              "        fill: #1967D2;\n",
              "        height: 32px;\n",
              "        padding: 0 0 0 0;\n",
              "        width: 32px;\n",
              "      }\n",
              "\n",
              "      .colab-df-generate:hover {\n",
              "        background-color: #E2EBFA;\n",
              "        box-shadow: 0px 1px 2px rgba(60, 64, 67, 0.3), 0px 1px 3px 1px rgba(60, 64, 67, 0.15);\n",
              "        fill: #174EA6;\n",
              "      }\n",
              "\n",
              "      [theme=dark] .colab-df-generate {\n",
              "        background-color: #3B4455;\n",
              "        fill: #D2E3FC;\n",
              "      }\n",
              "\n",
              "      [theme=dark] .colab-df-generate:hover {\n",
              "        background-color: #434B5C;\n",
              "        box-shadow: 0px 1px 3px 1px rgba(0, 0, 0, 0.15);\n",
              "        filter: drop-shadow(0px 1px 2px rgba(0, 0, 0, 0.3));\n",
              "        fill: #FFFFFF;\n",
              "      }\n",
              "    </style>\n",
              "    <button class=\"colab-df-generate\" onclick=\"generateWithVariable('marca')\"\n",
              "            title=\"Generate code using this dataframe.\"\n",
              "            style=\"display:none;\">\n",
              "\n",
              "  <svg xmlns=\"http://www.w3.org/2000/svg\" height=\"24px\"viewBox=\"0 0 24 24\"\n",
              "       width=\"24px\">\n",
              "    <path d=\"M7,19H8.4L18.45,9,17,7.55,7,17.6ZM5,21V16.75L18.45,3.32a2,2,0,0,1,2.83,0l1.4,1.43a1.91,1.91,0,0,1,.58,1.4,1.91,1.91,0,0,1-.58,1.4L9.25,21ZM18.45,9,17,7.55Zm-12,3A5.31,5.31,0,0,0,4.9,8.1,5.31,5.31,0,0,0,1,6.5,5.31,5.31,0,0,0,4.9,4.9,5.31,5.31,0,0,0,6.5,1,5.31,5.31,0,0,0,8.1,4.9,5.31,5.31,0,0,0,12,6.5,5.46,5.46,0,0,0,6.5,12Z\"/>\n",
              "  </svg>\n",
              "    </button>\n",
              "    <script>\n",
              "      (() => {\n",
              "      const buttonEl =\n",
              "        document.querySelector('#id_b2ff91e7-43f4-446a-9411-7588f7db0c8f button.colab-df-generate');\n",
              "      buttonEl.style.display =\n",
              "        google.colab.kernel.accessAllowed ? 'block' : 'none';\n",
              "\n",
              "      buttonEl.onclick = () => {\n",
              "        google.colab.notebook.generateWithVariable('marca');\n",
              "      }\n",
              "      })();\n",
              "    </script>\n",
              "  </div>\n",
              "\n",
              "    </div>\n",
              "  </div>\n"
            ],
            "application/vnd.google.colaboratory.intrinsic+json": {
              "type": "dataframe",
              "variable_name": "marca",
              "summary": "{\n  \"name\": \"marca\",\n  \"rows\": 5,\n  \"fields\": [\n    {\n      \"column\": \"codmarca\",\n      \"properties\": {\n        \"dtype\": \"number\",\n        \"std\": 1,\n        \"min\": 1,\n        \"max\": 5,\n        \"num_unique_values\": 5,\n        \"samples\": [\n          2,\n          5,\n          3\n        ],\n        \"semantic_type\": \"\",\n        \"description\": \"\"\n      }\n    },\n    {\n      \"column\": \"marca\",\n      \"properties\": {\n        \"dtype\": \"string\",\n        \"num_unique_values\": 5,\n        \"samples\": [\n          \"Fiat\",\n          \"Renault\",\n          \"Chevrolet\"\n        ],\n        \"semantic_type\": \"\",\n        \"description\": \"\"\n      }\n    }\n  ]\n}"
            }
          },
          "metadata": {}
        }
      ]
    },
    {
      "cell_type": "code",
      "source": [
        "# Recuperando os valores da tabela carro\n",
        "connection = mysql.connector.connect(\n",
        "    host=host,\n",
        "    user=user,\n",
        "    password=password,\n",
        "    database = database,\n",
        ") # estas linhas servem para criar a conexão com o banco de dados\n",
        "cursor = connection.cursor() #criando o cursor para apontar para o banco de dados\n",
        "query = 'select * from aluguel;' # Query ou consulta desejada\n",
        "cursor.execute(query) # Execução da consulta\n",
        "result = cursor.fetchall() # armazenando os resultados na variável results\n",
        "aluguel = pd.DataFrame(result,columns=cursor.column_names) # convertendo a variável result em um df pandas chamado tabelas\n",
        "display(aluguel) # exibindo a tabela pandas\n",
        "cursor.close() # fechando o cursor\n",
        "connection.close() # fechando a conexão"
      ],
      "metadata": {
        "colab": {
          "base_uri": "https://localhost:8080/",
          "height": 363
        },
        "id": "8nArDxAtdYMR",
        "outputId": "3819bd98-356f-4d76-b44f-92cf6fd33981"
      },
      "execution_count": null,
      "outputs": [
        {
          "output_type": "display_data",
          "data": {
            "text/plain": [
              "   codaluguel  codcliente  codcarro data_aluguel\n",
              "0           1           3         2   2023-04-01\n",
              "1           2           2         1   2023-04-02\n",
              "2           3           2         1   2023-04-03\n",
              "3           4           2         3   2023-04-04\n",
              "4           5           1         4   2023-04-05\n",
              "5           6           1         4   2023-04-13\n",
              "6           7           1         1   2023-04-15\n",
              "7           8           5         2   2023-04-19\n",
              "8           9           5         2   2023-04-21\n",
              "9          10           3         1   2023-04-25"
            ],
            "text/html": [
              "\n",
              "  <div id=\"df-7e48eb99-e2d0-416b-ba63-5088a58eaa5d\" class=\"colab-df-container\">\n",
              "    <div>\n",
              "<style scoped>\n",
              "    .dataframe tbody tr th:only-of-type {\n",
              "        vertical-align: middle;\n",
              "    }\n",
              "\n",
              "    .dataframe tbody tr th {\n",
              "        vertical-align: top;\n",
              "    }\n",
              "\n",
              "    .dataframe thead th {\n",
              "        text-align: right;\n",
              "    }\n",
              "</style>\n",
              "<table border=\"1\" class=\"dataframe\">\n",
              "  <thead>\n",
              "    <tr style=\"text-align: right;\">\n",
              "      <th></th>\n",
              "      <th>codaluguel</th>\n",
              "      <th>codcliente</th>\n",
              "      <th>codcarro</th>\n",
              "      <th>data_aluguel</th>\n",
              "    </tr>\n",
              "  </thead>\n",
              "  <tbody>\n",
              "    <tr>\n",
              "      <th>0</th>\n",
              "      <td>1</td>\n",
              "      <td>3</td>\n",
              "      <td>2</td>\n",
              "      <td>2023-04-01</td>\n",
              "    </tr>\n",
              "    <tr>\n",
              "      <th>1</th>\n",
              "      <td>2</td>\n",
              "      <td>2</td>\n",
              "      <td>1</td>\n",
              "      <td>2023-04-02</td>\n",
              "    </tr>\n",
              "    <tr>\n",
              "      <th>2</th>\n",
              "      <td>3</td>\n",
              "      <td>2</td>\n",
              "      <td>1</td>\n",
              "      <td>2023-04-03</td>\n",
              "    </tr>\n",
              "    <tr>\n",
              "      <th>3</th>\n",
              "      <td>4</td>\n",
              "      <td>2</td>\n",
              "      <td>3</td>\n",
              "      <td>2023-04-04</td>\n",
              "    </tr>\n",
              "    <tr>\n",
              "      <th>4</th>\n",
              "      <td>5</td>\n",
              "      <td>1</td>\n",
              "      <td>4</td>\n",
              "      <td>2023-04-05</td>\n",
              "    </tr>\n",
              "    <tr>\n",
              "      <th>5</th>\n",
              "      <td>6</td>\n",
              "      <td>1</td>\n",
              "      <td>4</td>\n",
              "      <td>2023-04-13</td>\n",
              "    </tr>\n",
              "    <tr>\n",
              "      <th>6</th>\n",
              "      <td>7</td>\n",
              "      <td>1</td>\n",
              "      <td>1</td>\n",
              "      <td>2023-04-15</td>\n",
              "    </tr>\n",
              "    <tr>\n",
              "      <th>7</th>\n",
              "      <td>8</td>\n",
              "      <td>5</td>\n",
              "      <td>2</td>\n",
              "      <td>2023-04-19</td>\n",
              "    </tr>\n",
              "    <tr>\n",
              "      <th>8</th>\n",
              "      <td>9</td>\n",
              "      <td>5</td>\n",
              "      <td>2</td>\n",
              "      <td>2023-04-21</td>\n",
              "    </tr>\n",
              "    <tr>\n",
              "      <th>9</th>\n",
              "      <td>10</td>\n",
              "      <td>3</td>\n",
              "      <td>1</td>\n",
              "      <td>2023-04-25</td>\n",
              "    </tr>\n",
              "  </tbody>\n",
              "</table>\n",
              "</div>\n",
              "    <div class=\"colab-df-buttons\">\n",
              "\n",
              "  <div class=\"colab-df-container\">\n",
              "    <button class=\"colab-df-convert\" onclick=\"convertToInteractive('df-7e48eb99-e2d0-416b-ba63-5088a58eaa5d')\"\n",
              "            title=\"Convert this dataframe to an interactive table.\"\n",
              "            style=\"display:none;\">\n",
              "\n",
              "  <svg xmlns=\"http://www.w3.org/2000/svg\" height=\"24px\" viewBox=\"0 -960 960 960\">\n",
              "    <path d=\"M120-120v-720h720v720H120Zm60-500h600v-160H180v160Zm220 220h160v-160H400v160Zm0 220h160v-160H400v160ZM180-400h160v-160H180v160Zm440 0h160v-160H620v160ZM180-180h160v-160H180v160Zm440 0h160v-160H620v160Z\"/>\n",
              "  </svg>\n",
              "    </button>\n",
              "\n",
              "  <style>\n",
              "    .colab-df-container {\n",
              "      display:flex;\n",
              "      gap: 12px;\n",
              "    }\n",
              "\n",
              "    .colab-df-convert {\n",
              "      background-color: #E8F0FE;\n",
              "      border: none;\n",
              "      border-radius: 50%;\n",
              "      cursor: pointer;\n",
              "      display: none;\n",
              "      fill: #1967D2;\n",
              "      height: 32px;\n",
              "      padding: 0 0 0 0;\n",
              "      width: 32px;\n",
              "    }\n",
              "\n",
              "    .colab-df-convert:hover {\n",
              "      background-color: #E2EBFA;\n",
              "      box-shadow: 0px 1px 2px rgba(60, 64, 67, 0.3), 0px 1px 3px 1px rgba(60, 64, 67, 0.15);\n",
              "      fill: #174EA6;\n",
              "    }\n",
              "\n",
              "    .colab-df-buttons div {\n",
              "      margin-bottom: 4px;\n",
              "    }\n",
              "\n",
              "    [theme=dark] .colab-df-convert {\n",
              "      background-color: #3B4455;\n",
              "      fill: #D2E3FC;\n",
              "    }\n",
              "\n",
              "    [theme=dark] .colab-df-convert:hover {\n",
              "      background-color: #434B5C;\n",
              "      box-shadow: 0px 1px 3px 1px rgba(0, 0, 0, 0.15);\n",
              "      filter: drop-shadow(0px 1px 2px rgba(0, 0, 0, 0.3));\n",
              "      fill: #FFFFFF;\n",
              "    }\n",
              "  </style>\n",
              "\n",
              "    <script>\n",
              "      const buttonEl =\n",
              "        document.querySelector('#df-7e48eb99-e2d0-416b-ba63-5088a58eaa5d button.colab-df-convert');\n",
              "      buttonEl.style.display =\n",
              "        google.colab.kernel.accessAllowed ? 'block' : 'none';\n",
              "\n",
              "      async function convertToInteractive(key) {\n",
              "        const element = document.querySelector('#df-7e48eb99-e2d0-416b-ba63-5088a58eaa5d');\n",
              "        const dataTable =\n",
              "          await google.colab.kernel.invokeFunction('convertToInteractive',\n",
              "                                                    [key], {});\n",
              "        if (!dataTable) return;\n",
              "\n",
              "        const docLinkHtml = 'Like what you see? Visit the ' +\n",
              "          '<a target=\"_blank\" href=https://colab.research.google.com/notebooks/data_table.ipynb>data table notebook</a>'\n",
              "          + ' to learn more about interactive tables.';\n",
              "        element.innerHTML = '';\n",
              "        dataTable['output_type'] = 'display_data';\n",
              "        await google.colab.output.renderOutput(dataTable, element);\n",
              "        const docLink = document.createElement('div');\n",
              "        docLink.innerHTML = docLinkHtml;\n",
              "        element.appendChild(docLink);\n",
              "      }\n",
              "    </script>\n",
              "  </div>\n",
              "\n",
              "\n",
              "<div id=\"df-fad1124c-3641-4660-befa-638b4e350bc6\">\n",
              "  <button class=\"colab-df-quickchart\" onclick=\"quickchart('df-fad1124c-3641-4660-befa-638b4e350bc6')\"\n",
              "            title=\"Suggest charts\"\n",
              "            style=\"display:none;\">\n",
              "\n",
              "<svg xmlns=\"http://www.w3.org/2000/svg\" height=\"24px\"viewBox=\"0 0 24 24\"\n",
              "     width=\"24px\">\n",
              "    <g>\n",
              "        <path d=\"M19 3H5c-1.1 0-2 .9-2 2v14c0 1.1.9 2 2 2h14c1.1 0 2-.9 2-2V5c0-1.1-.9-2-2-2zM9 17H7v-7h2v7zm4 0h-2V7h2v10zm4 0h-2v-4h2v4z\"/>\n",
              "    </g>\n",
              "</svg>\n",
              "  </button>\n",
              "\n",
              "<style>\n",
              "  .colab-df-quickchart {\n",
              "      --bg-color: #E8F0FE;\n",
              "      --fill-color: #1967D2;\n",
              "      --hover-bg-color: #E2EBFA;\n",
              "      --hover-fill-color: #174EA6;\n",
              "      --disabled-fill-color: #AAA;\n",
              "      --disabled-bg-color: #DDD;\n",
              "  }\n",
              "\n",
              "  [theme=dark] .colab-df-quickchart {\n",
              "      --bg-color: #3B4455;\n",
              "      --fill-color: #D2E3FC;\n",
              "      --hover-bg-color: #434B5C;\n",
              "      --hover-fill-color: #FFFFFF;\n",
              "      --disabled-bg-color: #3B4455;\n",
              "      --disabled-fill-color: #666;\n",
              "  }\n",
              "\n",
              "  .colab-df-quickchart {\n",
              "    background-color: var(--bg-color);\n",
              "    border: none;\n",
              "    border-radius: 50%;\n",
              "    cursor: pointer;\n",
              "    display: none;\n",
              "    fill: var(--fill-color);\n",
              "    height: 32px;\n",
              "    padding: 0;\n",
              "    width: 32px;\n",
              "  }\n",
              "\n",
              "  .colab-df-quickchart:hover {\n",
              "    background-color: var(--hover-bg-color);\n",
              "    box-shadow: 0 1px 2px rgba(60, 64, 67, 0.3), 0 1px 3px 1px rgba(60, 64, 67, 0.15);\n",
              "    fill: var(--button-hover-fill-color);\n",
              "  }\n",
              "\n",
              "  .colab-df-quickchart-complete:disabled,\n",
              "  .colab-df-quickchart-complete:disabled:hover {\n",
              "    background-color: var(--disabled-bg-color);\n",
              "    fill: var(--disabled-fill-color);\n",
              "    box-shadow: none;\n",
              "  }\n",
              "\n",
              "  .colab-df-spinner {\n",
              "    border: 2px solid var(--fill-color);\n",
              "    border-color: transparent;\n",
              "    border-bottom-color: var(--fill-color);\n",
              "    animation:\n",
              "      spin 1s steps(1) infinite;\n",
              "  }\n",
              "\n",
              "  @keyframes spin {\n",
              "    0% {\n",
              "      border-color: transparent;\n",
              "      border-bottom-color: var(--fill-color);\n",
              "      border-left-color: var(--fill-color);\n",
              "    }\n",
              "    20% {\n",
              "      border-color: transparent;\n",
              "      border-left-color: var(--fill-color);\n",
              "      border-top-color: var(--fill-color);\n",
              "    }\n",
              "    30% {\n",
              "      border-color: transparent;\n",
              "      border-left-color: var(--fill-color);\n",
              "      border-top-color: var(--fill-color);\n",
              "      border-right-color: var(--fill-color);\n",
              "    }\n",
              "    40% {\n",
              "      border-color: transparent;\n",
              "      border-right-color: var(--fill-color);\n",
              "      border-top-color: var(--fill-color);\n",
              "    }\n",
              "    60% {\n",
              "      border-color: transparent;\n",
              "      border-right-color: var(--fill-color);\n",
              "    }\n",
              "    80% {\n",
              "      border-color: transparent;\n",
              "      border-right-color: var(--fill-color);\n",
              "      border-bottom-color: var(--fill-color);\n",
              "    }\n",
              "    90% {\n",
              "      border-color: transparent;\n",
              "      border-bottom-color: var(--fill-color);\n",
              "    }\n",
              "  }\n",
              "</style>\n",
              "\n",
              "  <script>\n",
              "    async function quickchart(key) {\n",
              "      const quickchartButtonEl =\n",
              "        document.querySelector('#' + key + ' button');\n",
              "      quickchartButtonEl.disabled = true;  // To prevent multiple clicks.\n",
              "      quickchartButtonEl.classList.add('colab-df-spinner');\n",
              "      try {\n",
              "        const charts = await google.colab.kernel.invokeFunction(\n",
              "            'suggestCharts', [key], {});\n",
              "      } catch (error) {\n",
              "        console.error('Error during call to suggestCharts:', error);\n",
              "      }\n",
              "      quickchartButtonEl.classList.remove('colab-df-spinner');\n",
              "      quickchartButtonEl.classList.add('colab-df-quickchart-complete');\n",
              "    }\n",
              "    (() => {\n",
              "      let quickchartButtonEl =\n",
              "        document.querySelector('#df-fad1124c-3641-4660-befa-638b4e350bc6 button');\n",
              "      quickchartButtonEl.style.display =\n",
              "        google.colab.kernel.accessAllowed ? 'block' : 'none';\n",
              "    })();\n",
              "  </script>\n",
              "</div>\n",
              "\n",
              "  <div id=\"id_4b79c0a4-8f8d-4e06-9cdd-9aa8123db65d\">\n",
              "    <style>\n",
              "      .colab-df-generate {\n",
              "        background-color: #E8F0FE;\n",
              "        border: none;\n",
              "        border-radius: 50%;\n",
              "        cursor: pointer;\n",
              "        display: none;\n",
              "        fill: #1967D2;\n",
              "        height: 32px;\n",
              "        padding: 0 0 0 0;\n",
              "        width: 32px;\n",
              "      }\n",
              "\n",
              "      .colab-df-generate:hover {\n",
              "        background-color: #E2EBFA;\n",
              "        box-shadow: 0px 1px 2px rgba(60, 64, 67, 0.3), 0px 1px 3px 1px rgba(60, 64, 67, 0.15);\n",
              "        fill: #174EA6;\n",
              "      }\n",
              "\n",
              "      [theme=dark] .colab-df-generate {\n",
              "        background-color: #3B4455;\n",
              "        fill: #D2E3FC;\n",
              "      }\n",
              "\n",
              "      [theme=dark] .colab-df-generate:hover {\n",
              "        background-color: #434B5C;\n",
              "        box-shadow: 0px 1px 3px 1px rgba(0, 0, 0, 0.15);\n",
              "        filter: drop-shadow(0px 1px 2px rgba(0, 0, 0, 0.3));\n",
              "        fill: #FFFFFF;\n",
              "      }\n",
              "    </style>\n",
              "    <button class=\"colab-df-generate\" onclick=\"generateWithVariable('aluguel')\"\n",
              "            title=\"Generate code using this dataframe.\"\n",
              "            style=\"display:none;\">\n",
              "\n",
              "  <svg xmlns=\"http://www.w3.org/2000/svg\" height=\"24px\"viewBox=\"0 0 24 24\"\n",
              "       width=\"24px\">\n",
              "    <path d=\"M7,19H8.4L18.45,9,17,7.55,7,17.6ZM5,21V16.75L18.45,3.32a2,2,0,0,1,2.83,0l1.4,1.43a1.91,1.91,0,0,1,.58,1.4,1.91,1.91,0,0,1-.58,1.4L9.25,21ZM18.45,9,17,7.55Zm-12,3A5.31,5.31,0,0,0,4.9,8.1,5.31,5.31,0,0,0,1,6.5,5.31,5.31,0,0,0,4.9,4.9,5.31,5.31,0,0,0,6.5,1,5.31,5.31,0,0,0,8.1,4.9,5.31,5.31,0,0,0,12,6.5,5.46,5.46,0,0,0,6.5,12Z\"/>\n",
              "  </svg>\n",
              "    </button>\n",
              "    <script>\n",
              "      (() => {\n",
              "      const buttonEl =\n",
              "        document.querySelector('#id_4b79c0a4-8f8d-4e06-9cdd-9aa8123db65d button.colab-df-generate');\n",
              "      buttonEl.style.display =\n",
              "        google.colab.kernel.accessAllowed ? 'block' : 'none';\n",
              "\n",
              "      buttonEl.onclick = () => {\n",
              "        google.colab.notebook.generateWithVariable('aluguel');\n",
              "      }\n",
              "      })();\n",
              "    </script>\n",
              "  </div>\n",
              "\n",
              "    </div>\n",
              "  </div>\n"
            ],
            "application/vnd.google.colaboratory.intrinsic+json": {
              "type": "dataframe",
              "variable_name": "aluguel",
              "summary": "{\n  \"name\": \"aluguel\",\n  \"rows\": 10,\n  \"fields\": [\n    {\n      \"column\": \"codaluguel\",\n      \"properties\": {\n        \"dtype\": \"number\",\n        \"std\": 3,\n        \"min\": 1,\n        \"max\": 10,\n        \"num_unique_values\": 10,\n        \"samples\": [\n          9,\n          2,\n          6\n        ],\n        \"semantic_type\": \"\",\n        \"description\": \"\"\n      }\n    },\n    {\n      \"column\": \"codcliente\",\n      \"properties\": {\n        \"dtype\": \"number\",\n        \"std\": 1,\n        \"min\": 1,\n        \"max\": 5,\n        \"num_unique_values\": 4,\n        \"samples\": [\n          2,\n          5,\n          3\n        ],\n        \"semantic_type\": \"\",\n        \"description\": \"\"\n      }\n    },\n    {\n      \"column\": \"codcarro\",\n      \"properties\": {\n        \"dtype\": \"number\",\n        \"std\": 1,\n        \"min\": 1,\n        \"max\": 4,\n        \"num_unique_values\": 4,\n        \"samples\": [\n          1,\n          4,\n          2\n        ],\n        \"semantic_type\": \"\",\n        \"description\": \"\"\n      }\n    },\n    {\n      \"column\": \"data_aluguel\",\n      \"properties\": {\n        \"dtype\": \"date\",\n        \"min\": \"2023-04-01\",\n        \"max\": \"2023-04-25\",\n        \"num_unique_values\": 10,\n        \"samples\": [\n          \"2023-04-21\",\n          \"2023-04-02\",\n          \"2023-04-13\"\n        ],\n        \"semantic_type\": \"\",\n        \"description\": \"\"\n      }\n    }\n  ]\n}"
            }
          },
          "metadata": {}
        }
      ]
    },
    {
      "cell_type": "code",
      "source": [
        "# Definindo os parâmetros para conexão com a instância SQL\n",
        "host = '34.170.104.203'\n",
        "user = 'root'\n",
        "password = ''\n",
        "database = 'locadora'"
      ],
      "metadata": {
        "id": "R147Zt9HdZ9z"
      },
      "execution_count": null,
      "outputs": []
    },
    {
      "cell_type": "code",
      "source": [
        "def consulta():\n",
        "    # Conectando ao banco de dados\n",
        "    config = {\n",
        "    'host': '34.170.104.203',\n",
        "    'user': 'root',\n",
        "    'password': '',\n",
        "    'database': 'locadora',\n",
        "    'port': 3306\n",
        "    }\n",
        "    conn = mysql.connector.connect(**config)\n",
        "    cursor = conn.cursor()\n",
        "\n",
        "    # Recebendo a query e executando\n",
        "    query = input('Insira o código SQL para a consulta desejada: ')\n",
        "    cursor.execute(query)\n",
        "    result = cursor.fetchall()\n",
        "\n",
        "    # Nome do DataFrame escolhido pelo usuário\n",
        "    nome_df = input(\"Digite o nome que deseja dar ao DataFrame: \")\n",
        "\n",
        "    # Criando o DataFrame com nome dinâmico no escopo global\n",
        "    globals()[nome_df] = pd.DataFrame(result, columns=cursor.column_names)\n",
        "\n",
        "    # Fechando conexões\n",
        "    cursor.close()\n",
        "    conn.close()\n",
        "\n",
        "    return globals()[nome_df]"
      ],
      "metadata": {
        "id": "hxtE5-tJy0oH"
      },
      "execution_count": null,
      "outputs": []
    },
    {
      "cell_type": "code",
      "source": [
        "'''\n",
        "Recupere todas as informações da tabela marca e armazene em\n",
        "um objeto pandas chamado marcas\n",
        "\n",
        "Código SQL da consulta: SELECT * FROM marca;\n",
        "\n",
        "nome do objeto a ser armazenado: marcas\n",
        "'''\n",
        "\n",
        "consulta()"
      ],
      "metadata": {
        "colab": {
          "base_uri": "https://localhost:8080/",
          "height": 241
        },
        "id": "RO62KeHr7ERp",
        "outputId": "4aa4b1eb-6f9e-4e50-8779-d05ed4d56b4f"
      },
      "execution_count": null,
      "outputs": [
        {
          "name": "stdout",
          "output_type": "stream",
          "text": [
            "Insira o código SQL para a consulta desejada: SELECT * FROM marca\n",
            "Digite o nome que deseja dar ao DataFrame: marca\n"
          ]
        },
        {
          "output_type": "execute_result",
          "data": {
            "text/plain": [
              "   codmarca       marca\n",
              "0         1        Ford\n",
              "1         2        Fiat\n",
              "2         3   Chevrolet\n",
              "3         4  Volkswagen\n",
              "4         5     Renault"
            ],
            "text/html": [
              "\n",
              "  <div id=\"df-48824d39-e0af-46c2-9d51-575c507b670b\" class=\"colab-df-container\">\n",
              "    <div>\n",
              "<style scoped>\n",
              "    .dataframe tbody tr th:only-of-type {\n",
              "        vertical-align: middle;\n",
              "    }\n",
              "\n",
              "    .dataframe tbody tr th {\n",
              "        vertical-align: top;\n",
              "    }\n",
              "\n",
              "    .dataframe thead th {\n",
              "        text-align: right;\n",
              "    }\n",
              "</style>\n",
              "<table border=\"1\" class=\"dataframe\">\n",
              "  <thead>\n",
              "    <tr style=\"text-align: right;\">\n",
              "      <th></th>\n",
              "      <th>codmarca</th>\n",
              "      <th>marca</th>\n",
              "    </tr>\n",
              "  </thead>\n",
              "  <tbody>\n",
              "    <tr>\n",
              "      <th>0</th>\n",
              "      <td>1</td>\n",
              "      <td>Ford</td>\n",
              "    </tr>\n",
              "    <tr>\n",
              "      <th>1</th>\n",
              "      <td>2</td>\n",
              "      <td>Fiat</td>\n",
              "    </tr>\n",
              "    <tr>\n",
              "      <th>2</th>\n",
              "      <td>3</td>\n",
              "      <td>Chevrolet</td>\n",
              "    </tr>\n",
              "    <tr>\n",
              "      <th>3</th>\n",
              "      <td>4</td>\n",
              "      <td>Volkswagen</td>\n",
              "    </tr>\n",
              "    <tr>\n",
              "      <th>4</th>\n",
              "      <td>5</td>\n",
              "      <td>Renault</td>\n",
              "    </tr>\n",
              "  </tbody>\n",
              "</table>\n",
              "</div>\n",
              "    <div class=\"colab-df-buttons\">\n",
              "\n",
              "  <div class=\"colab-df-container\">\n",
              "    <button class=\"colab-df-convert\" onclick=\"convertToInteractive('df-48824d39-e0af-46c2-9d51-575c507b670b')\"\n",
              "            title=\"Convert this dataframe to an interactive table.\"\n",
              "            style=\"display:none;\">\n",
              "\n",
              "  <svg xmlns=\"http://www.w3.org/2000/svg\" height=\"24px\" viewBox=\"0 -960 960 960\">\n",
              "    <path d=\"M120-120v-720h720v720H120Zm60-500h600v-160H180v160Zm220 220h160v-160H400v160Zm0 220h160v-160H400v160ZM180-400h160v-160H180v160Zm440 0h160v-160H620v160ZM180-180h160v-160H180v160Zm440 0h160v-160H620v160Z\"/>\n",
              "  </svg>\n",
              "    </button>\n",
              "\n",
              "  <style>\n",
              "    .colab-df-container {\n",
              "      display:flex;\n",
              "      gap: 12px;\n",
              "    }\n",
              "\n",
              "    .colab-df-convert {\n",
              "      background-color: #E8F0FE;\n",
              "      border: none;\n",
              "      border-radius: 50%;\n",
              "      cursor: pointer;\n",
              "      display: none;\n",
              "      fill: #1967D2;\n",
              "      height: 32px;\n",
              "      padding: 0 0 0 0;\n",
              "      width: 32px;\n",
              "    }\n",
              "\n",
              "    .colab-df-convert:hover {\n",
              "      background-color: #E2EBFA;\n",
              "      box-shadow: 0px 1px 2px rgba(60, 64, 67, 0.3), 0px 1px 3px 1px rgba(60, 64, 67, 0.15);\n",
              "      fill: #174EA6;\n",
              "    }\n",
              "\n",
              "    .colab-df-buttons div {\n",
              "      margin-bottom: 4px;\n",
              "    }\n",
              "\n",
              "    [theme=dark] .colab-df-convert {\n",
              "      background-color: #3B4455;\n",
              "      fill: #D2E3FC;\n",
              "    }\n",
              "\n",
              "    [theme=dark] .colab-df-convert:hover {\n",
              "      background-color: #434B5C;\n",
              "      box-shadow: 0px 1px 3px 1px rgba(0, 0, 0, 0.15);\n",
              "      filter: drop-shadow(0px 1px 2px rgba(0, 0, 0, 0.3));\n",
              "      fill: #FFFFFF;\n",
              "    }\n",
              "  </style>\n",
              "\n",
              "    <script>\n",
              "      const buttonEl =\n",
              "        document.querySelector('#df-48824d39-e0af-46c2-9d51-575c507b670b button.colab-df-convert');\n",
              "      buttonEl.style.display =\n",
              "        google.colab.kernel.accessAllowed ? 'block' : 'none';\n",
              "\n",
              "      async function convertToInteractive(key) {\n",
              "        const element = document.querySelector('#df-48824d39-e0af-46c2-9d51-575c507b670b');\n",
              "        const dataTable =\n",
              "          await google.colab.kernel.invokeFunction('convertToInteractive',\n",
              "                                                    [key], {});\n",
              "        if (!dataTable) return;\n",
              "\n",
              "        const docLinkHtml = 'Like what you see? Visit the ' +\n",
              "          '<a target=\"_blank\" href=https://colab.research.google.com/notebooks/data_table.ipynb>data table notebook</a>'\n",
              "          + ' to learn more about interactive tables.';\n",
              "        element.innerHTML = '';\n",
              "        dataTable['output_type'] = 'display_data';\n",
              "        await google.colab.output.renderOutput(dataTable, element);\n",
              "        const docLink = document.createElement('div');\n",
              "        docLink.innerHTML = docLinkHtml;\n",
              "        element.appendChild(docLink);\n",
              "      }\n",
              "    </script>\n",
              "  </div>\n",
              "\n",
              "\n",
              "<div id=\"df-b6e5f0dc-7ac6-4cef-949b-0b2c3943aabb\">\n",
              "  <button class=\"colab-df-quickchart\" onclick=\"quickchart('df-b6e5f0dc-7ac6-4cef-949b-0b2c3943aabb')\"\n",
              "            title=\"Suggest charts\"\n",
              "            style=\"display:none;\">\n",
              "\n",
              "<svg xmlns=\"http://www.w3.org/2000/svg\" height=\"24px\"viewBox=\"0 0 24 24\"\n",
              "     width=\"24px\">\n",
              "    <g>\n",
              "        <path d=\"M19 3H5c-1.1 0-2 .9-2 2v14c0 1.1.9 2 2 2h14c1.1 0 2-.9 2-2V5c0-1.1-.9-2-2-2zM9 17H7v-7h2v7zm4 0h-2V7h2v10zm4 0h-2v-4h2v4z\"/>\n",
              "    </g>\n",
              "</svg>\n",
              "  </button>\n",
              "\n",
              "<style>\n",
              "  .colab-df-quickchart {\n",
              "      --bg-color: #E8F0FE;\n",
              "      --fill-color: #1967D2;\n",
              "      --hover-bg-color: #E2EBFA;\n",
              "      --hover-fill-color: #174EA6;\n",
              "      --disabled-fill-color: #AAA;\n",
              "      --disabled-bg-color: #DDD;\n",
              "  }\n",
              "\n",
              "  [theme=dark] .colab-df-quickchart {\n",
              "      --bg-color: #3B4455;\n",
              "      --fill-color: #D2E3FC;\n",
              "      --hover-bg-color: #434B5C;\n",
              "      --hover-fill-color: #FFFFFF;\n",
              "      --disabled-bg-color: #3B4455;\n",
              "      --disabled-fill-color: #666;\n",
              "  }\n",
              "\n",
              "  .colab-df-quickchart {\n",
              "    background-color: var(--bg-color);\n",
              "    border: none;\n",
              "    border-radius: 50%;\n",
              "    cursor: pointer;\n",
              "    display: none;\n",
              "    fill: var(--fill-color);\n",
              "    height: 32px;\n",
              "    padding: 0;\n",
              "    width: 32px;\n",
              "  }\n",
              "\n",
              "  .colab-df-quickchart:hover {\n",
              "    background-color: var(--hover-bg-color);\n",
              "    box-shadow: 0 1px 2px rgba(60, 64, 67, 0.3), 0 1px 3px 1px rgba(60, 64, 67, 0.15);\n",
              "    fill: var(--button-hover-fill-color);\n",
              "  }\n",
              "\n",
              "  .colab-df-quickchart-complete:disabled,\n",
              "  .colab-df-quickchart-complete:disabled:hover {\n",
              "    background-color: var(--disabled-bg-color);\n",
              "    fill: var(--disabled-fill-color);\n",
              "    box-shadow: none;\n",
              "  }\n",
              "\n",
              "  .colab-df-spinner {\n",
              "    border: 2px solid var(--fill-color);\n",
              "    border-color: transparent;\n",
              "    border-bottom-color: var(--fill-color);\n",
              "    animation:\n",
              "      spin 1s steps(1) infinite;\n",
              "  }\n",
              "\n",
              "  @keyframes spin {\n",
              "    0% {\n",
              "      border-color: transparent;\n",
              "      border-bottom-color: var(--fill-color);\n",
              "      border-left-color: var(--fill-color);\n",
              "    }\n",
              "    20% {\n",
              "      border-color: transparent;\n",
              "      border-left-color: var(--fill-color);\n",
              "      border-top-color: var(--fill-color);\n",
              "    }\n",
              "    30% {\n",
              "      border-color: transparent;\n",
              "      border-left-color: var(--fill-color);\n",
              "      border-top-color: var(--fill-color);\n",
              "      border-right-color: var(--fill-color);\n",
              "    }\n",
              "    40% {\n",
              "      border-color: transparent;\n",
              "      border-right-color: var(--fill-color);\n",
              "      border-top-color: var(--fill-color);\n",
              "    }\n",
              "    60% {\n",
              "      border-color: transparent;\n",
              "      border-right-color: var(--fill-color);\n",
              "    }\n",
              "    80% {\n",
              "      border-color: transparent;\n",
              "      border-right-color: var(--fill-color);\n",
              "      border-bottom-color: var(--fill-color);\n",
              "    }\n",
              "    90% {\n",
              "      border-color: transparent;\n",
              "      border-bottom-color: var(--fill-color);\n",
              "    }\n",
              "  }\n",
              "</style>\n",
              "\n",
              "  <script>\n",
              "    async function quickchart(key) {\n",
              "      const quickchartButtonEl =\n",
              "        document.querySelector('#' + key + ' button');\n",
              "      quickchartButtonEl.disabled = true;  // To prevent multiple clicks.\n",
              "      quickchartButtonEl.classList.add('colab-df-spinner');\n",
              "      try {\n",
              "        const charts = await google.colab.kernel.invokeFunction(\n",
              "            'suggestCharts', [key], {});\n",
              "      } catch (error) {\n",
              "        console.error('Error during call to suggestCharts:', error);\n",
              "      }\n",
              "      quickchartButtonEl.classList.remove('colab-df-spinner');\n",
              "      quickchartButtonEl.classList.add('colab-df-quickchart-complete');\n",
              "    }\n",
              "    (() => {\n",
              "      let quickchartButtonEl =\n",
              "        document.querySelector('#df-b6e5f0dc-7ac6-4cef-949b-0b2c3943aabb button');\n",
              "      quickchartButtonEl.style.display =\n",
              "        google.colab.kernel.accessAllowed ? 'block' : 'none';\n",
              "    })();\n",
              "  </script>\n",
              "</div>\n",
              "\n",
              "  <div id=\"id_5f9e5299-6131-42b8-9c43-84d41452bc5f\">\n",
              "    <style>\n",
              "      .colab-df-generate {\n",
              "        background-color: #E8F0FE;\n",
              "        border: none;\n",
              "        border-radius: 50%;\n",
              "        cursor: pointer;\n",
              "        display: none;\n",
              "        fill: #1967D2;\n",
              "        height: 32px;\n",
              "        padding: 0 0 0 0;\n",
              "        width: 32px;\n",
              "      }\n",
              "\n",
              "      .colab-df-generate:hover {\n",
              "        background-color: #E2EBFA;\n",
              "        box-shadow: 0px 1px 2px rgba(60, 64, 67, 0.3), 0px 1px 3px 1px rgba(60, 64, 67, 0.15);\n",
              "        fill: #174EA6;\n",
              "      }\n",
              "\n",
              "      [theme=dark] .colab-df-generate {\n",
              "        background-color: #3B4455;\n",
              "        fill: #D2E3FC;\n",
              "      }\n",
              "\n",
              "      [theme=dark] .colab-df-generate:hover {\n",
              "        background-color: #434B5C;\n",
              "        box-shadow: 0px 1px 3px 1px rgba(0, 0, 0, 0.15);\n",
              "        filter: drop-shadow(0px 1px 2px rgba(0, 0, 0, 0.3));\n",
              "        fill: #FFFFFF;\n",
              "      }\n",
              "    </style>\n",
              "    <button class=\"colab-df-generate\" onclick=\"generateWithVariable('marca')\"\n",
              "            title=\"Generate code using this dataframe.\"\n",
              "            style=\"display:none;\">\n",
              "\n",
              "  <svg xmlns=\"http://www.w3.org/2000/svg\" height=\"24px\"viewBox=\"0 0 24 24\"\n",
              "       width=\"24px\">\n",
              "    <path d=\"M7,19H8.4L18.45,9,17,7.55,7,17.6ZM5,21V16.75L18.45,3.32a2,2,0,0,1,2.83,0l1.4,1.43a1.91,1.91,0,0,1,.58,1.4,1.91,1.91,0,0,1-.58,1.4L9.25,21ZM18.45,9,17,7.55Zm-12,3A5.31,5.31,0,0,0,4.9,8.1,5.31,5.31,0,0,0,1,6.5,5.31,5.31,0,0,0,4.9,4.9,5.31,5.31,0,0,0,6.5,1,5.31,5.31,0,0,0,8.1,4.9,5.31,5.31,0,0,0,12,6.5,5.46,5.46,0,0,0,6.5,12Z\"/>\n",
              "  </svg>\n",
              "    </button>\n",
              "    <script>\n",
              "      (() => {\n",
              "      const buttonEl =\n",
              "        document.querySelector('#id_5f9e5299-6131-42b8-9c43-84d41452bc5f button.colab-df-generate');\n",
              "      buttonEl.style.display =\n",
              "        google.colab.kernel.accessAllowed ? 'block' : 'none';\n",
              "\n",
              "      buttonEl.onclick = () => {\n",
              "        google.colab.notebook.generateWithVariable('marca');\n",
              "      }\n",
              "      })();\n",
              "    </script>\n",
              "  </div>\n",
              "\n",
              "    </div>\n",
              "  </div>\n"
            ],
            "application/vnd.google.colaboratory.intrinsic+json": {
              "type": "dataframe",
              "variable_name": "marca",
              "summary": "{\n  \"name\": \"marca\",\n  \"rows\": 5,\n  \"fields\": [\n    {\n      \"column\": \"codmarca\",\n      \"properties\": {\n        \"dtype\": \"number\",\n        \"std\": 1,\n        \"min\": 1,\n        \"max\": 5,\n        \"num_unique_values\": 5,\n        \"samples\": [\n          2,\n          5,\n          3\n        ],\n        \"semantic_type\": \"\",\n        \"description\": \"\"\n      }\n    },\n    {\n      \"column\": \"marca\",\n      \"properties\": {\n        \"dtype\": \"string\",\n        \"num_unique_values\": 5,\n        \"samples\": [\n          \"Fiat\",\n          \"Renault\",\n          \"Chevrolet\"\n        ],\n        \"semantic_type\": \"\",\n        \"description\": \"\"\n      }\n    }\n  ]\n}"
            }
          },
          "metadata": {},
          "execution_count": 34
        }
      ]
    },
    {
      "cell_type": "code",
      "source": [
        "'''\n",
        "Recupere todas as informações da tabela aluguel e armazene em\n",
        "um objeto pandas chamado marcas\n",
        "\n",
        "Código SQL da consulta: SELECT data_aluguel FROM aluguel;\n",
        "\n",
        "nome do objeto a ser armazenado: alugueis\n",
        "'''\n",
        "\n",
        "consulta()"
      ],
      "metadata": {
        "colab": {
          "base_uri": "https://localhost:8080/",
          "height": 398
        },
        "id": "b5cZ8j037k7E",
        "outputId": "9e776e50-7036-4a16-a596-7570ec56ad61"
      },
      "execution_count": null,
      "outputs": [
        {
          "name": "stdout",
          "output_type": "stream",
          "text": [
            "Insira o código SQL para a consulta desejada: SELECT data_aluguel FROM aluguel;\n",
            "Digite o nome que deseja dar ao DataFrame: aluguel\n"
          ]
        },
        {
          "output_type": "execute_result",
          "data": {
            "text/plain": [
              "  data_aluguel\n",
              "0   2023-04-01\n",
              "1   2023-04-02\n",
              "2   2023-04-03\n",
              "3   2023-04-04\n",
              "4   2023-04-05\n",
              "5   2023-04-13\n",
              "6   2023-04-15\n",
              "7   2023-04-19\n",
              "8   2023-04-21\n",
              "9   2023-04-25"
            ],
            "text/html": [
              "\n",
              "  <div id=\"df-fb546a65-e18e-4ee5-a036-b99880327799\" class=\"colab-df-container\">\n",
              "    <div>\n",
              "<style scoped>\n",
              "    .dataframe tbody tr th:only-of-type {\n",
              "        vertical-align: middle;\n",
              "    }\n",
              "\n",
              "    .dataframe tbody tr th {\n",
              "        vertical-align: top;\n",
              "    }\n",
              "\n",
              "    .dataframe thead th {\n",
              "        text-align: right;\n",
              "    }\n",
              "</style>\n",
              "<table border=\"1\" class=\"dataframe\">\n",
              "  <thead>\n",
              "    <tr style=\"text-align: right;\">\n",
              "      <th></th>\n",
              "      <th>data_aluguel</th>\n",
              "    </tr>\n",
              "  </thead>\n",
              "  <tbody>\n",
              "    <tr>\n",
              "      <th>0</th>\n",
              "      <td>2023-04-01</td>\n",
              "    </tr>\n",
              "    <tr>\n",
              "      <th>1</th>\n",
              "      <td>2023-04-02</td>\n",
              "    </tr>\n",
              "    <tr>\n",
              "      <th>2</th>\n",
              "      <td>2023-04-03</td>\n",
              "    </tr>\n",
              "    <tr>\n",
              "      <th>3</th>\n",
              "      <td>2023-04-04</td>\n",
              "    </tr>\n",
              "    <tr>\n",
              "      <th>4</th>\n",
              "      <td>2023-04-05</td>\n",
              "    </tr>\n",
              "    <tr>\n",
              "      <th>5</th>\n",
              "      <td>2023-04-13</td>\n",
              "    </tr>\n",
              "    <tr>\n",
              "      <th>6</th>\n",
              "      <td>2023-04-15</td>\n",
              "    </tr>\n",
              "    <tr>\n",
              "      <th>7</th>\n",
              "      <td>2023-04-19</td>\n",
              "    </tr>\n",
              "    <tr>\n",
              "      <th>8</th>\n",
              "      <td>2023-04-21</td>\n",
              "    </tr>\n",
              "    <tr>\n",
              "      <th>9</th>\n",
              "      <td>2023-04-25</td>\n",
              "    </tr>\n",
              "  </tbody>\n",
              "</table>\n",
              "</div>\n",
              "    <div class=\"colab-df-buttons\">\n",
              "\n",
              "  <div class=\"colab-df-container\">\n",
              "    <button class=\"colab-df-convert\" onclick=\"convertToInteractive('df-fb546a65-e18e-4ee5-a036-b99880327799')\"\n",
              "            title=\"Convert this dataframe to an interactive table.\"\n",
              "            style=\"display:none;\">\n",
              "\n",
              "  <svg xmlns=\"http://www.w3.org/2000/svg\" height=\"24px\" viewBox=\"0 -960 960 960\">\n",
              "    <path d=\"M120-120v-720h720v720H120Zm60-500h600v-160H180v160Zm220 220h160v-160H400v160Zm0 220h160v-160H400v160ZM180-400h160v-160H180v160Zm440 0h160v-160H620v160ZM180-180h160v-160H180v160Zm440 0h160v-160H620v160Z\"/>\n",
              "  </svg>\n",
              "    </button>\n",
              "\n",
              "  <style>\n",
              "    .colab-df-container {\n",
              "      display:flex;\n",
              "      gap: 12px;\n",
              "    }\n",
              "\n",
              "    .colab-df-convert {\n",
              "      background-color: #E8F0FE;\n",
              "      border: none;\n",
              "      border-radius: 50%;\n",
              "      cursor: pointer;\n",
              "      display: none;\n",
              "      fill: #1967D2;\n",
              "      height: 32px;\n",
              "      padding: 0 0 0 0;\n",
              "      width: 32px;\n",
              "    }\n",
              "\n",
              "    .colab-df-convert:hover {\n",
              "      background-color: #E2EBFA;\n",
              "      box-shadow: 0px 1px 2px rgba(60, 64, 67, 0.3), 0px 1px 3px 1px rgba(60, 64, 67, 0.15);\n",
              "      fill: #174EA6;\n",
              "    }\n",
              "\n",
              "    .colab-df-buttons div {\n",
              "      margin-bottom: 4px;\n",
              "    }\n",
              "\n",
              "    [theme=dark] .colab-df-convert {\n",
              "      background-color: #3B4455;\n",
              "      fill: #D2E3FC;\n",
              "    }\n",
              "\n",
              "    [theme=dark] .colab-df-convert:hover {\n",
              "      background-color: #434B5C;\n",
              "      box-shadow: 0px 1px 3px 1px rgba(0, 0, 0, 0.15);\n",
              "      filter: drop-shadow(0px 1px 2px rgba(0, 0, 0, 0.3));\n",
              "      fill: #FFFFFF;\n",
              "    }\n",
              "  </style>\n",
              "\n",
              "    <script>\n",
              "      const buttonEl =\n",
              "        document.querySelector('#df-fb546a65-e18e-4ee5-a036-b99880327799 button.colab-df-convert');\n",
              "      buttonEl.style.display =\n",
              "        google.colab.kernel.accessAllowed ? 'block' : 'none';\n",
              "\n",
              "      async function convertToInteractive(key) {\n",
              "        const element = document.querySelector('#df-fb546a65-e18e-4ee5-a036-b99880327799');\n",
              "        const dataTable =\n",
              "          await google.colab.kernel.invokeFunction('convertToInteractive',\n",
              "                                                    [key], {});\n",
              "        if (!dataTable) return;\n",
              "\n",
              "        const docLinkHtml = 'Like what you see? Visit the ' +\n",
              "          '<a target=\"_blank\" href=https://colab.research.google.com/notebooks/data_table.ipynb>data table notebook</a>'\n",
              "          + ' to learn more about interactive tables.';\n",
              "        element.innerHTML = '';\n",
              "        dataTable['output_type'] = 'display_data';\n",
              "        await google.colab.output.renderOutput(dataTable, element);\n",
              "        const docLink = document.createElement('div');\n",
              "        docLink.innerHTML = docLinkHtml;\n",
              "        element.appendChild(docLink);\n",
              "      }\n",
              "    </script>\n",
              "  </div>\n",
              "\n",
              "\n",
              "<div id=\"df-dc502f83-6b02-41b9-83af-14d7fdd28f2e\">\n",
              "  <button class=\"colab-df-quickchart\" onclick=\"quickchart('df-dc502f83-6b02-41b9-83af-14d7fdd28f2e')\"\n",
              "            title=\"Suggest charts\"\n",
              "            style=\"display:none;\">\n",
              "\n",
              "<svg xmlns=\"http://www.w3.org/2000/svg\" height=\"24px\"viewBox=\"0 0 24 24\"\n",
              "     width=\"24px\">\n",
              "    <g>\n",
              "        <path d=\"M19 3H5c-1.1 0-2 .9-2 2v14c0 1.1.9 2 2 2h14c1.1 0 2-.9 2-2V5c0-1.1-.9-2-2-2zM9 17H7v-7h2v7zm4 0h-2V7h2v10zm4 0h-2v-4h2v4z\"/>\n",
              "    </g>\n",
              "</svg>\n",
              "  </button>\n",
              "\n",
              "<style>\n",
              "  .colab-df-quickchart {\n",
              "      --bg-color: #E8F0FE;\n",
              "      --fill-color: #1967D2;\n",
              "      --hover-bg-color: #E2EBFA;\n",
              "      --hover-fill-color: #174EA6;\n",
              "      --disabled-fill-color: #AAA;\n",
              "      --disabled-bg-color: #DDD;\n",
              "  }\n",
              "\n",
              "  [theme=dark] .colab-df-quickchart {\n",
              "      --bg-color: #3B4455;\n",
              "      --fill-color: #D2E3FC;\n",
              "      --hover-bg-color: #434B5C;\n",
              "      --hover-fill-color: #FFFFFF;\n",
              "      --disabled-bg-color: #3B4455;\n",
              "      --disabled-fill-color: #666;\n",
              "  }\n",
              "\n",
              "  .colab-df-quickchart {\n",
              "    background-color: var(--bg-color);\n",
              "    border: none;\n",
              "    border-radius: 50%;\n",
              "    cursor: pointer;\n",
              "    display: none;\n",
              "    fill: var(--fill-color);\n",
              "    height: 32px;\n",
              "    padding: 0;\n",
              "    width: 32px;\n",
              "  }\n",
              "\n",
              "  .colab-df-quickchart:hover {\n",
              "    background-color: var(--hover-bg-color);\n",
              "    box-shadow: 0 1px 2px rgba(60, 64, 67, 0.3), 0 1px 3px 1px rgba(60, 64, 67, 0.15);\n",
              "    fill: var(--button-hover-fill-color);\n",
              "  }\n",
              "\n",
              "  .colab-df-quickchart-complete:disabled,\n",
              "  .colab-df-quickchart-complete:disabled:hover {\n",
              "    background-color: var(--disabled-bg-color);\n",
              "    fill: var(--disabled-fill-color);\n",
              "    box-shadow: none;\n",
              "  }\n",
              "\n",
              "  .colab-df-spinner {\n",
              "    border: 2px solid var(--fill-color);\n",
              "    border-color: transparent;\n",
              "    border-bottom-color: var(--fill-color);\n",
              "    animation:\n",
              "      spin 1s steps(1) infinite;\n",
              "  }\n",
              "\n",
              "  @keyframes spin {\n",
              "    0% {\n",
              "      border-color: transparent;\n",
              "      border-bottom-color: var(--fill-color);\n",
              "      border-left-color: var(--fill-color);\n",
              "    }\n",
              "    20% {\n",
              "      border-color: transparent;\n",
              "      border-left-color: var(--fill-color);\n",
              "      border-top-color: var(--fill-color);\n",
              "    }\n",
              "    30% {\n",
              "      border-color: transparent;\n",
              "      border-left-color: var(--fill-color);\n",
              "      border-top-color: var(--fill-color);\n",
              "      border-right-color: var(--fill-color);\n",
              "    }\n",
              "    40% {\n",
              "      border-color: transparent;\n",
              "      border-right-color: var(--fill-color);\n",
              "      border-top-color: var(--fill-color);\n",
              "    }\n",
              "    60% {\n",
              "      border-color: transparent;\n",
              "      border-right-color: var(--fill-color);\n",
              "    }\n",
              "    80% {\n",
              "      border-color: transparent;\n",
              "      border-right-color: var(--fill-color);\n",
              "      border-bottom-color: var(--fill-color);\n",
              "    }\n",
              "    90% {\n",
              "      border-color: transparent;\n",
              "      border-bottom-color: var(--fill-color);\n",
              "    }\n",
              "  }\n",
              "</style>\n",
              "\n",
              "  <script>\n",
              "    async function quickchart(key) {\n",
              "      const quickchartButtonEl =\n",
              "        document.querySelector('#' + key + ' button');\n",
              "      quickchartButtonEl.disabled = true;  // To prevent multiple clicks.\n",
              "      quickchartButtonEl.classList.add('colab-df-spinner');\n",
              "      try {\n",
              "        const charts = await google.colab.kernel.invokeFunction(\n",
              "            'suggestCharts', [key], {});\n",
              "      } catch (error) {\n",
              "        console.error('Error during call to suggestCharts:', error);\n",
              "      }\n",
              "      quickchartButtonEl.classList.remove('colab-df-spinner');\n",
              "      quickchartButtonEl.classList.add('colab-df-quickchart-complete');\n",
              "    }\n",
              "    (() => {\n",
              "      let quickchartButtonEl =\n",
              "        document.querySelector('#df-dc502f83-6b02-41b9-83af-14d7fdd28f2e button');\n",
              "      quickchartButtonEl.style.display =\n",
              "        google.colab.kernel.accessAllowed ? 'block' : 'none';\n",
              "    })();\n",
              "  </script>\n",
              "</div>\n",
              "\n",
              "  <div id=\"id_4e9823d0-3336-4219-8c46-8800e0239c91\">\n",
              "    <style>\n",
              "      .colab-df-generate {\n",
              "        background-color: #E8F0FE;\n",
              "        border: none;\n",
              "        border-radius: 50%;\n",
              "        cursor: pointer;\n",
              "        display: none;\n",
              "        fill: #1967D2;\n",
              "        height: 32px;\n",
              "        padding: 0 0 0 0;\n",
              "        width: 32px;\n",
              "      }\n",
              "\n",
              "      .colab-df-generate:hover {\n",
              "        background-color: #E2EBFA;\n",
              "        box-shadow: 0px 1px 2px rgba(60, 64, 67, 0.3), 0px 1px 3px 1px rgba(60, 64, 67, 0.15);\n",
              "        fill: #174EA6;\n",
              "      }\n",
              "\n",
              "      [theme=dark] .colab-df-generate {\n",
              "        background-color: #3B4455;\n",
              "        fill: #D2E3FC;\n",
              "      }\n",
              "\n",
              "      [theme=dark] .colab-df-generate:hover {\n",
              "        background-color: #434B5C;\n",
              "        box-shadow: 0px 1px 3px 1px rgba(0, 0, 0, 0.15);\n",
              "        filter: drop-shadow(0px 1px 2px rgba(0, 0, 0, 0.3));\n",
              "        fill: #FFFFFF;\n",
              "      }\n",
              "    </style>\n",
              "    <button class=\"colab-df-generate\" onclick=\"generateWithVariable('aluguel')\"\n",
              "            title=\"Generate code using this dataframe.\"\n",
              "            style=\"display:none;\">\n",
              "\n",
              "  <svg xmlns=\"http://www.w3.org/2000/svg\" height=\"24px\"viewBox=\"0 0 24 24\"\n",
              "       width=\"24px\">\n",
              "    <path d=\"M7,19H8.4L18.45,9,17,7.55,7,17.6ZM5,21V16.75L18.45,3.32a2,2,0,0,1,2.83,0l1.4,1.43a1.91,1.91,0,0,1,.58,1.4,1.91,1.91,0,0,1-.58,1.4L9.25,21ZM18.45,9,17,7.55Zm-12,3A5.31,5.31,0,0,0,4.9,8.1,5.31,5.31,0,0,0,1,6.5,5.31,5.31,0,0,0,4.9,4.9,5.31,5.31,0,0,0,6.5,1,5.31,5.31,0,0,0,8.1,4.9,5.31,5.31,0,0,0,12,6.5,5.46,5.46,0,0,0,6.5,12Z\"/>\n",
              "  </svg>\n",
              "    </button>\n",
              "    <script>\n",
              "      (() => {\n",
              "      const buttonEl =\n",
              "        document.querySelector('#id_4e9823d0-3336-4219-8c46-8800e0239c91 button.colab-df-generate');\n",
              "      buttonEl.style.display =\n",
              "        google.colab.kernel.accessAllowed ? 'block' : 'none';\n",
              "\n",
              "      buttonEl.onclick = () => {\n",
              "        google.colab.notebook.generateWithVariable('aluguel');\n",
              "      }\n",
              "      })();\n",
              "    </script>\n",
              "  </div>\n",
              "\n",
              "    </div>\n",
              "  </div>\n"
            ],
            "application/vnd.google.colaboratory.intrinsic+json": {
              "type": "dataframe",
              "variable_name": "aluguel",
              "summary": "{\n  \"name\": \"aluguel\",\n  \"rows\": 10,\n  \"fields\": [\n    {\n      \"column\": \"data_aluguel\",\n      \"properties\": {\n        \"dtype\": \"date\",\n        \"min\": \"2023-04-01\",\n        \"max\": \"2023-04-25\",\n        \"num_unique_values\": 10,\n        \"samples\": [\n          \"2023-04-21\",\n          \"2023-04-02\",\n          \"2023-04-13\"\n        ],\n        \"semantic_type\": \"\",\n        \"description\": \"\"\n      }\n    }\n  ]\n}"
            }
          },
          "metadata": {},
          "execution_count": 51
        }
      ]
    },
    {
      "cell_type": "code",
      "source": [
        "import mysql.connector\n",
        "import pandas as pd\n",
        "\n",
        "# Definição dos parâmetros de conexão\n",
        "host = '34.170.104.203'\n",
        "user = 'root'\n",
        "password = ''\n",
        "database = 'locadora'\n",
        "\n",
        "# Função para executar consultas com base na consulta desejada\n",
        "def consulta(query):\n",
        "    print(\"Executando a consulta...\")\n",
        "\n",
        "    # Conectando ao banco de dados\n",
        "    connection = mysql.connector.connect(\n",
        "        host=host,\n",
        "        user=user,\n",
        "        password=password,\n",
        "        database=database\n",
        "    )\n",
        "\n",
        "    cursor = connection.cursor()\n",
        "\n",
        "    # Executando a consulta SQL\n",
        "    cursor.execute(query)\n",
        "    result = cursor.fetchall()\n",
        "\n",
        "    # Se não houver resultados\n",
        "    if not result:\n",
        "        print(\"Nenhum dado encontrado.\")\n",
        "    else:\n",
        "        # Exibindo resultados em formato tabular\n",
        "        columns = [col[0] for col in cursor.description]  # Nome das colunas\n",
        "        data = pd.DataFrame(result, columns=columns)\n",
        "        print(data)\n",
        "\n",
        "    cursor.close()\n",
        "    connection.close()\n",
        "\n",
        "# Consultas a serem feitas\n",
        "consulta_19 = '''\n",
        "SELECT * FROM aluguel\n",
        "WHERE codcliente = 1;\n",
        "'''\n",
        "\n",
        "# Chamada da função para a consulta específica\n",
        "consulta(consulta_19)\n"
      ],
      "metadata": {
        "colab": {
          "base_uri": "https://localhost:8080/"
        },
        "id": "KsYixU9qRwOy",
        "outputId": "e6a8ce74-e8e9-4779-aaef-c8f5e1cd1b48"
      },
      "execution_count": null,
      "outputs": [
        {
          "output_type": "stream",
          "name": "stdout",
          "text": [
            "Executando a consulta...\n",
            "   codaluguel  codcliente  codcarro data_aluguel\n",
            "0           5           1         4   2023-04-05\n",
            "1           6           1         4   2023-04-13\n",
            "2           7           1         1   2023-04-15\n"
          ]
        }
      ]
    },
    {
      "cell_type": "markdown",
      "source": [
        "SELECT"
      ],
      "metadata": {
        "id": "ZKLNm2Z_uHVe"
      }
    },
    {
      "cell_type": "code",
      "source": [
        "import mysql.connector\n",
        "import pandas as pd  # Importando o pandas para exibir os dados em formato tabular\n",
        "\n",
        "# Definição dos parâmetros de conexão\n",
        "host = '34.170.104.203'  # IP da instância GCP\n",
        "user = 'root'\n",
        "password = ''  # Sua senha do MySQL\n",
        "database = 'locadora'  # Nome do banco de dados\n",
        "\n",
        "# Função para consultar os nomes dos clientes\n",
        "def consulta():\n",
        "    print(\"Executando a consulta...\")\n",
        "\n",
        "    # Criando a conexão com o banco de dados\n",
        "    connection = mysql.connector.connect(\n",
        "        host=host,\n",
        "        user=user,\n",
        "        password=password,\n",
        "        database=database\n",
        "    )\n",
        "\n",
        "    cursor = connection.cursor()\n",
        "\n",
        "    # Consulta SQL para listar todos os nomes dos clientes cadastrados\n",
        "    query = \"SELECT nome FROM cliente;\"\n",
        "    cursor.execute(query)  # Executando a consulta\n",
        "\n",
        "    # Armazenando os resultados\n",
        "    result = cursor.fetchall()\n",
        "\n",
        "    # Convertendo os resultados para um DataFrame do Pandas para exibição\n",
        "    clientes = pd.DataFrame(result, columns=[\"Nome do Cliente\"])\n",
        "\n",
        "    # Exibindo a tabela Pandas\n",
        "    print(clientes)\n",
        "\n",
        "    # Fechando o cursor e a conexão\n",
        "    cursor.close()\n",
        "    connection.close()\n",
        "\n",
        "# Chamada da função para executar a consulta\n",
        "consulta()\n",
        "\n"
      ],
      "metadata": {
        "colab": {
          "base_uri": "https://localhost:8080/"
        },
        "id": "krjwQPqtuIqR",
        "outputId": "5ad7b8ab-99e0-430f-b3a5-874639757cd2"
      },
      "execution_count": null,
      "outputs": [
        {
          "output_type": "stream",
          "name": "stdout",
          "text": [
            "Executando a consulta...\n",
            "    Nome do Cliente\n",
            "0         Ana Silva\n",
            "1     Bruna Pereira\n",
            "2  Túlio Nascimento\n",
            "3    Fernando Souza\n",
            "4     Lúcia Andrade\n"
          ]
        }
      ]
    },
    {
      "cell_type": "code",
      "source": [
        "import mysql.connector\n",
        "import pandas as pd  # Importando o pandas para exibir os dados em formato tabular\n",
        "\n",
        "# Definição dos parâmetros de conexão\n",
        "host = '34.170.104.203'  # IP da instância GCP\n",
        "user = 'root'\n",
        "password = ''  # Sua senha do MySQL\n",
        "database = 'locadora'  # Nome do banco de dados\n",
        "\n",
        "# Função para consultar os modelos de carros\n",
        "def consulta():\n",
        "    print(\"Executando a consulta...\")\n",
        "\n",
        "    # Criando a conexão com o banco de dados\n",
        "    connection = mysql.connector.connect(\n",
        "        host=host,\n",
        "        user=user,\n",
        "        password=password,\n",
        "        database=database\n",
        "    )\n",
        "\n",
        "    cursor = connection.cursor()\n",
        "\n",
        "    # Consulta SQL para listar todos os modelos de carros disponíveis para aluguel\n",
        "    query = \"SELECT modelo FROM carro;\"  # Altere para o nome correto da coluna \"modelo\"\n",
        "    cursor.execute(query)  # Executando a consulta\n",
        "\n",
        "    # Armazenando os resultados\n",
        "    result = cursor.fetchall()\n",
        "\n",
        "    # Se não houver resultados\n",
        "    if not result:\n",
        "        print(\"Nenhum modelo de carro encontrado.\")\n",
        "    else:\n",
        "        # Convertendo os resultados para um DataFrame do Pandas para exibição\n",
        "        modelos_carros = pd.DataFrame(result, columns=[\"Modelo do Carro\"])\n",
        "\n",
        "        # Exibindo a tabela Pandas\n",
        "        print(modelos_carros)\n",
        "\n",
        "    # Fechando o cursor e a conexão\n",
        "    cursor.close()\n",
        "    connection.close()\n",
        "\n",
        "# Chamada da função para executar a consulta\n",
        "consulta()\n",
        "\n"
      ],
      "metadata": {
        "colab": {
          "base_uri": "https://localhost:8080/"
        },
        "id": "1yS7bl4iuSzi",
        "outputId": "ddee4137-40b9-4898-9b8a-043d3efc6543"
      },
      "execution_count": null,
      "outputs": [
        {
          "output_type": "stream",
          "name": "stdout",
          "text": [
            "Executando a consulta...\n",
            "  Modelo do Carro\n",
            "0              Ka\n",
            "1            Argo\n",
            "2            Onix\n",
            "3            Polo\n",
            "4            Kwid\n"
          ]
        }
      ]
    },
    {
      "cell_type": "code",
      "source": [
        "import mysql.connector\n",
        "import pandas as pd  # Importando o pandas para exibir os dados em formato tabular\n",
        "\n",
        "# Definição dos parâmetros de conexão\n",
        "host = '34.170.104.203'  # IP da instância GCP\n",
        "user = 'root'\n",
        "password = ''  # Sua senha do MySQL\n",
        "database = 'locadora'  # Nome do banco de dados\n",
        "\n",
        "# Função para consultar os nomes dos clientes e suas cidades\n",
        "def consulta():\n",
        "    print(\"Executando a consulta...\")\n",
        "\n",
        "    # Criando a conexão com o banco de dados\n",
        "    connection = mysql.connector.connect(\n",
        "        host=host,\n",
        "        user=user,\n",
        "        password=password,\n",
        "        database=database\n",
        "    )\n",
        "\n",
        "    cursor = connection.cursor()\n",
        "\n",
        "    # Consulta SQL para listar os nomes dos clientes e suas respectivas cidades\n",
        "    query = \"SELECT nome, cidade FROM cliente;\"  # Substitua 'cliente' e 'nome'/'cidade' pelos nomes corretos das colunas\n",
        "    cursor.execute(query)  # Executando a consulta\n",
        "\n",
        "    # Armazenando os resultados\n",
        "    result = cursor.fetchall()\n",
        "\n",
        "    # Se não houver resultados\n",
        "    if not result:\n",
        "        print(\"Nenhum cliente encontrado.\")\n",
        "    else:\n",
        "        # Convertendo os resultados para um DataFrame do Pandas para exibição\n",
        "        clientes_cidades = pd.DataFrame(result, columns=[\"Nome do Cliente\", \"Cidade\"])\n",
        "\n",
        "        # Exibindo a tabela Pandas\n",
        "        print(clientes_cidades)\n",
        "\n",
        "    # Fechando o cursor e a conexão\n",
        "    cursor.close()\n",
        "    connection.close()\n",
        "\n",
        "# Chamada da função para executar a consulta\n",
        "consulta()\n"
      ],
      "metadata": {
        "colab": {
          "base_uri": "https://localhost:8080/"
        },
        "id": "UoOmVSXyuWac",
        "outputId": "90a8961a-c516-4ca4-89cc-d006d8bd02d7"
      },
      "execution_count": null,
      "outputs": [
        {
          "output_type": "stream",
          "name": "stdout",
          "text": [
            "Executando a consulta...\n",
            "    Nome do Cliente           Cidade\n",
            "0         Ana Silva  Duque de Caxias\n",
            "1     Bruna Pereira          Niterói\n",
            "2  Túlio Nascimento  Duque de Caxias\n",
            "3    Fernando Souza         Campinas\n",
            "4     Lúcia Andrade        São Paulo\n"
          ]
        }
      ]
    },
    {
      "cell_type": "code",
      "source": [
        "import mysql.connector\n",
        "import pandas as pd  # Importando o pandas para exibir os dados em formato tabular\n",
        "\n",
        "# Definição dos parâmetros de conexão\n",
        "host = '34.170.104.203'  # IP da instância GCP\n",
        "user = 'root'\n",
        "password = ''  # Sua senha do MySQL\n",
        "database = 'locadora'  # Nome do banco de dados\n",
        "\n",
        "# Função para exibir todas as colunas da tabela 'carro'\n",
        "def consulta():\n",
        "    print(\"Executando a consulta...\")\n",
        "\n",
        "    # Criando a conexão com o banco de dados\n",
        "    connection = mysql.connector.connect(\n",
        "        host=host,\n",
        "        user=user,\n",
        "        password=password,\n",
        "        database=database\n",
        "    )\n",
        "\n",
        "    cursor = connection.cursor()\n",
        "\n",
        "    # Consulta SQL para exibir todas as colunas da tabela 'carro'\n",
        "    query = \"DESCRIBE carro;\"  # Isso retorna a estrutura da tabela 'carro'\n",
        "    cursor.execute(query)  # Executando a consulta\n",
        "\n",
        "    # Armazenando os resultados\n",
        "    result = cursor.fetchall()\n",
        "\n",
        "    # Se não houver resultados\n",
        "    if not result:\n",
        "        print(\"Nenhuma coluna encontrada.\")\n",
        "    else:\n",
        "        # Convertendo os resultados para um DataFrame do Pandas para exibição\n",
        "        colunas_carro = pd.DataFrame(result, columns=[\"Campo\", \"Tipo\", \"Null\", \"Chave\", \"Default\", \"Extra\"])\n",
        "\n",
        "        # Exibindo a tabela Pandas\n",
        "        print(colunas_carro)\n",
        "\n",
        "    # Fechando o cursor e a conexão\n",
        "    cursor.close()\n",
        "    connection.close()\n",
        "\n",
        "# Chamada da função para executar a consulta\n",
        "consulta()\n"
      ],
      "metadata": {
        "colab": {
          "base_uri": "https://localhost:8080/"
        },
        "id": "XzNswEjhubqw",
        "outputId": "b481ab52-b7a8-4212-dc6b-0e55637123da"
      },
      "execution_count": null,
      "outputs": [
        {
          "output_type": "stream",
          "name": "stdout",
          "text": [
            "Executando a consulta...\n",
            "      Campo         Tipo Null Chave Default Extra\n",
            "0  codcarro          int   NO   PRI    None      \n",
            "1  codmarca          int  YES   MUL    None      \n",
            "2    modelo  varchar(30)   NO          None      \n",
            "3     valor        float  YES          None      \n"
          ]
        }
      ]
    },
    {
      "cell_type": "code",
      "source": [
        "import mysql.connector\n",
        "import pandas as pd  # Importando o pandas para exibir os dados em formato tabular\n",
        "\n",
        "# Definição dos parâmetros de conexão\n",
        "host = '34.170.104.203'  # IP da instância GCP\n",
        "user = 'root'\n",
        "password = ''  # Sua senha do MySQL\n",
        "database = 'locadora'  # Nome do banco de dados\n",
        "\n",
        "# Função para consultar o código e nome de todas as marcas cadastradas\n",
        "def consulta():\n",
        "    print(\"Executando a consulta...\")\n",
        "\n",
        "    # Criando a conexão com o banco de dados\n",
        "    connection = mysql.connector.connect(\n",
        "        host=host,\n",
        "        user=user,\n",
        "        password=password,\n",
        "        database=database\n",
        "    )\n",
        "\n",
        "    cursor = connection.cursor()\n",
        "\n",
        "    # Consulta SQL para listar o código e nome de todas as marcas\n",
        "    query = \"SELECT codmarca, marca FROM marca;\"  # Ajuste conforme o nome correto das colunas\n",
        "    cursor.execute(query)  # Executando a consulta\n",
        "\n",
        "    # Armazenando os resultados\n",
        "    result = cursor.fetchall()\n",
        "\n",
        "    # Se não houver resultados\n",
        "    if not result:\n",
        "        print(\"Nenhuma marca encontrada.\")\n",
        "    else:\n",
        "        # Convertendo os resultados para um DataFrame do Pandas para exibição\n",
        "        marcas = pd.DataFrame(result, columns=[\"Código da Marca\", \"Nome da Marca\"])\n",
        "\n",
        "        # Exibindo a tabela Pandas\n",
        "        print(marcas)\n",
        "\n",
        "    # Fechando o cursor e a conexão\n",
        "    cursor.close()\n",
        "    connection.close()\n",
        "\n",
        "# Chamada da função para executar a consulta\n",
        "consulta()\n"
      ],
      "metadata": {
        "colab": {
          "base_uri": "https://localhost:8080/"
        },
        "id": "SQqLpa9cufPT",
        "outputId": "61f93fa2-e364-4886-d70d-241b7154e566"
      },
      "execution_count": null,
      "outputs": [
        {
          "output_type": "stream",
          "name": "stdout",
          "text": [
            "Executando a consulta...\n",
            "   Código da Marca Nome da Marca\n",
            "0                1          Ford\n",
            "1                2          Fiat\n",
            "2                3     Chevrolet\n",
            "3                4    Volkswagen\n",
            "4                5       Renault\n"
          ]
        }
      ]
    },
    {
      "cell_type": "code",
      "source": [
        "import mysql.connector\n",
        "import pandas as pd  # Importando o pandas para exibir os dados em formato tabular\n",
        "\n",
        "# Definição dos parâmetros de conexão\n",
        "host = '34.170.104.203'  # IP da instância GCP\n",
        "user = 'root'\n",
        "password = ''  # Sua senha do MySQL\n",
        "database = 'locadora'  # Nome do banco de dados\n",
        "\n",
        "# Função para listar todas as datas de aluguel registradas\n",
        "def consulta():\n",
        "    print(\"Executando a consulta...\")\n",
        "\n",
        "    # Criando a conexão com o banco de dados\n",
        "    connection = mysql.connector.connect(\n",
        "        host=host,\n",
        "        user=user,\n",
        "        password=password,\n",
        "        database=database\n",
        "    )\n",
        "\n",
        "    cursor = connection.cursor()\n",
        "\n",
        "    # Consulta SQL para listar todas as datas de aluguel registradas\n",
        "    query = \"SELECT data_aluguel FROM aluguel;\"  # Ajuste o nome da coluna 'data_aluguel' conforme o seu banco\n",
        "    cursor.execute(query)  # Executando a consulta\n",
        "\n",
        "    # Armazenando os resultados\n",
        "    result = cursor.fetchall()\n",
        "\n",
        "    # Se não houver resultados\n",
        "    if not result:\n",
        "        print(\"Nenhuma data de aluguel encontrada.\")\n",
        "    else:\n",
        "        # Convertendo os resultados para um DataFrame do Pandas para exibição\n",
        "        datas_aluguel = pd.DataFrame(result, columns=[\"Data de Aluguel\"])\n",
        "\n",
        "        # Exibindo a tabela Pandas\n",
        "        print(datas_aluguel)\n",
        "\n",
        "    # Fechando o cursor e a conexão\n",
        "    cursor.close()\n",
        "    connection.close()\n",
        "\n",
        "# Chamada da função para executar a consulta\n",
        "consulta()\n"
      ],
      "metadata": {
        "colab": {
          "base_uri": "https://localhost:8080/"
        },
        "id": "gtP4-T8WulKB",
        "outputId": "338e87c7-2248-42fa-821e-2fcd9d10b12b"
      },
      "execution_count": null,
      "outputs": [
        {
          "output_type": "stream",
          "name": "stdout",
          "text": [
            "Executando a consulta...\n",
            "  Data de Aluguel\n",
            "0      2023-04-01\n",
            "1      2023-04-02\n",
            "2      2023-04-03\n",
            "3      2023-04-04\n",
            "4      2023-04-05\n",
            "5      2023-04-13\n",
            "6      2023-04-15\n",
            "7      2023-04-19\n",
            "8      2023-04-21\n",
            "9      2023-04-25\n"
          ]
        }
      ]
    },
    {
      "cell_type": "code",
      "source": [
        "import mysql.connector\n",
        "import pandas as pd  # Importando o pandas para exibir os dados em formato tabular\n",
        "\n",
        "# Definição dos parâmetros de conexão\n",
        "host = '34.170.104.203'  # IP da instância GCP\n",
        "user = 'root'\n",
        "password = ''  # Sua senha do MySQL\n",
        "database = 'locadora'  # Nome do banco de dados\n",
        "\n",
        "# Função para exibir nome, sexo e estado civil de todos os clientes\n",
        "def consulta():\n",
        "    print(\"Executando a consulta...\")\n",
        "\n",
        "    # Criando a conexão com o banco de dados\n",
        "    connection = mysql.connector.connect(\n",
        "        host=host,\n",
        "        user=user,\n",
        "        password=password,\n",
        "        database=database\n",
        "    )\n",
        "\n",
        "    cursor = connection.cursor()\n",
        "\n",
        "    # Consulta SQL para exibir nome, sexo e estado civil de todos os clientes\n",
        "    query = \"SELECT nome, sexo, estadocivil FROM cliente;\"  # Ajuste conforme o nome correto das colunas\n",
        "    cursor.execute(query)  # Executando a consulta\n",
        "\n",
        "    # Armazenando os resultados\n",
        "    result = cursor.fetchall()\n",
        "\n",
        "    # Se não houver resultados\n",
        "    if not result:\n",
        "        print(\"Nenhum cliente encontrado.\")\n",
        "    else:\n",
        "        # Convertendo os resultados para um DataFrame do Pandas para exibição\n",
        "        clientes = pd.DataFrame(result, columns=[\"Nome\", \"Sexo\", \"Estado Civil\"])\n",
        "\n",
        "        # Exibindo a tabela Pandas\n",
        "        print(clientes)\n",
        "\n",
        "    # Fechando o cursor e a conexão\n",
        "    cursor.close()\n",
        "    connection.close()\n",
        "\n",
        "# Chamada da função para executar a consulta\n",
        "consulta()\n"
      ],
      "metadata": {
        "colab": {
          "base_uri": "https://localhost:8080/"
        },
        "id": "R3j1FxKKupg-",
        "outputId": "5a2492a5-baf1-4353-f28b-b5d73f4f767c"
      },
      "execution_count": null,
      "outputs": [
        {
          "output_type": "stream",
          "name": "stdout",
          "text": [
            "Executando a consulta...\n",
            "               Nome Sexo Estado Civil\n",
            "0         Ana Silva    F            C\n",
            "1     Bruna Pereira    F            C\n",
            "2  Túlio Nascimento    M            S\n",
            "3    Fernando Souza    M            S\n",
            "4     Lúcia Andrade    F            C\n"
          ]
        }
      ]
    },
    {
      "cell_type": "code",
      "source": [
        "import mysql.connector\n",
        "import pandas as pd  # Importando o pandas para exibir os dados em formato tabular\n",
        "\n",
        "# Definição dos parâmetros de conexão\n",
        "host = '34.170.104.203'  # IP da instância GCP\n",
        "user = 'root'\n",
        "password = ''  # Sua senha do MySQL\n",
        "database = 'locadora'  # Nome do banco de dados\n",
        "\n",
        "# Função para exibir as colunas da tabela 'carro' e os valores de aluguel\n",
        "def consulta():\n",
        "    print(\"Executando a consulta...\")\n",
        "\n",
        "    # Criando a conexão com o banco de dados\n",
        "    connection = mysql.connector.connect(\n",
        "        host=host,\n",
        "        user=user,\n",
        "        password=password,\n",
        "        database=database\n",
        "    )\n",
        "\n",
        "    cursor = connection.cursor()\n",
        "\n",
        "    # Consultando as colunas da tabela carro\n",
        "    cursor.execute(\"DESCRIBE carro;\")  # Comando para descrever a tabela 'carro'\n",
        "    colunas = cursor.fetchall()\n",
        "\n",
        "    # Exibindo as colunas da tabela carro\n",
        "    print(\"Colunas da tabela 'carro':\")\n",
        "    for coluna in colunas:\n",
        "        print(coluna[0])\n",
        "\n",
        "    # Se necessário, ajustar o nome da coluna de valor de aluguel após verificação\n",
        "    query = \"SELECT modelo, valor FROM carro;\"  # Ajuste conforme o nome correto da coluna\n",
        "    cursor.execute(query)  # Executando a consulta\n",
        "\n",
        "    # Armazenando os resultados\n",
        "    result = cursor.fetchall()\n",
        "\n",
        "    # Se não houver resultados\n",
        "    if not result:\n",
        "        print(\"Nenhum carro disponível para aluguel encontrado.\")\n",
        "    else:\n",
        "        # Convertendo os resultados para um DataFrame do Pandas para exibição\n",
        "        carros = pd.DataFrame(result, columns=[\"Modelo\", \"Valor de Aluguel\"])\n",
        "\n",
        "        # Exibindo a tabela Pandas\n",
        "        print(carros)\n",
        "\n",
        "    # Fechando o cursor e a conexão\n",
        "    cursor.close()\n",
        "    connection.close()\n",
        "\n",
        "# Chamada da função para executar a consulta\n",
        "consulta()\n"
      ],
      "metadata": {
        "colab": {
          "base_uri": "https://localhost:8080/"
        },
        "id": "itN6Jzrnus3n",
        "outputId": "51806528-cd3d-4ea9-d904-2f15ae3460ba"
      },
      "execution_count": null,
      "outputs": [
        {
          "output_type": "stream",
          "name": "stdout",
          "text": [
            "Executando a consulta...\n",
            "Colunas da tabela 'carro':\n",
            "codcarro\n",
            "codmarca\n",
            "modelo\n",
            "valor\n",
            "  Modelo  Valor de Aluguel\n",
            "0     Ka             100.0\n",
            "1   Argo             150.0\n",
            "2   Onix             170.0\n",
            "3   Polo             150.0\n",
            "4   Kwid             120.0\n"
          ]
        }
      ]
    },
    {
      "cell_type": "code",
      "source": [
        "import mysql.connector\n",
        "import pandas as pd  # Importando o pandas para exibir os dados em formato tabular\n",
        "\n",
        "# Definição dos parâmetros de conexão\n",
        "host = '34.170.104.203'  # IP da instância GCP\n",
        "user = 'root'\n",
        "password = ''  # Sua senha do MySQL\n",
        "database = 'locadora'  # Nome do banco de dados\n",
        "\n",
        "# Função para exibir os códigos dos carros e os códigos das marcas\n",
        "def consulta():\n",
        "    print(\"Executando a consulta...\")\n",
        "\n",
        "    # Criando a conexão com o banco de dados\n",
        "    connection = mysql.connector.connect(\n",
        "        host=host,\n",
        "        user=user,\n",
        "        password=password,\n",
        "        database=database\n",
        "    )\n",
        "\n",
        "    cursor = connection.cursor()\n",
        "\n",
        "    # Consulta SQL para exibir os códigos dos carros e as marcas\n",
        "    query = '''\n",
        "    SELECT carro.codcarro, marca.codmarca\n",
        "    FROM carro\n",
        "    INNER JOIN marca ON carro.codmarca = marca.codmarca;\n",
        "    '''\n",
        "    cursor.execute(query)  # Executando a consulta\n",
        "\n",
        "    # Armazenando os resultados\n",
        "    result = cursor.fetchall()\n",
        "\n",
        "    # Se não houver resultados\n",
        "    if not result:\n",
        "        print(\"Nenhum carro encontrado ou não há marca associada.\")\n",
        "    else:\n",
        "        # Convertendo os resultados para um DataFrame do Pandas para exibição\n",
        "        carros_marcas = pd.DataFrame(result, columns=[\"Código do Carro\", \"Código da Marca\"])\n",
        "\n",
        "        # Exibindo a tabela Pandas\n",
        "        print(carros_marcas)\n",
        "\n",
        "    # Fechando o cursor e a conexão\n",
        "    cursor.close()\n",
        "    connection.close()\n",
        "\n",
        "# Chamada da função para executar a consulta\n",
        "consulta()\n"
      ],
      "metadata": {
        "colab": {
          "base_uri": "https://localhost:8080/"
        },
        "id": "CigKk81EuyWQ",
        "outputId": "e8ab1f3a-7f6c-4c7a-e39c-48d98d0106db"
      },
      "execution_count": null,
      "outputs": [
        {
          "output_type": "stream",
          "name": "stdout",
          "text": [
            "Executando a consulta...\n",
            "   Código do Carro  Código da Marca\n",
            "0                1                1\n",
            "1                2                2\n",
            "2                3                3\n",
            "3                4                4\n",
            "4                5                5\n"
          ]
        }
      ]
    },
    {
      "cell_type": "code",
      "source": [
        "import mysql.connector\n",
        "import pandas as pd  # Importando o pandas para exibir os dados em formato tabular\n",
        "\n",
        "# Definição dos parâmetros de conexão\n",
        "host = '34.170.104.203'  # IP da instância GCP\n",
        "user = 'root'\n",
        "password = ''  # Sua senha do MySQL\n",
        "database = 'locadora'  # Nome do banco de dados\n",
        "\n",
        "# Função para listar os códigos de aluguel e as datas de aluguel\n",
        "def consulta():\n",
        "    print(\"Executando a consulta...\")\n",
        "\n",
        "    # Criando a conexão com o banco de dados\n",
        "    connection = mysql.connector.connect(\n",
        "        host=host,\n",
        "        user=user,\n",
        "        password=password,\n",
        "        database=database\n",
        "    )\n",
        "\n",
        "    cursor = connection.cursor()\n",
        "\n",
        "    # Consulta SQL para listar os códigos de aluguel e as datas\n",
        "    query = '''\n",
        "    SELECT codaluguel, data_aluguel\n",
        "    FROM aluguel;\n",
        "    '''\n",
        "    cursor.execute(query)  # Executando a consulta\n",
        "\n",
        "    # Armazenando os resultados\n",
        "    result = cursor.fetchall()\n",
        "\n",
        "    # Se não houver resultados\n",
        "    if not result:\n",
        "        print(\"Nenhum aluguel encontrado.\")\n",
        "    else:\n",
        "        # Convertendo os resultados para um DataFrame do Pandas para exibição\n",
        "        alugueis = pd.DataFrame(result, columns=[\"Código de Aluguel\", \"Data de Aluguel\"])\n",
        "\n",
        "        # Exibindo a tabela Pandas\n",
        "        print(alugueis)\n",
        "\n",
        "    # Fechando o cursor e a conexão\n",
        "    cursor.close()\n",
        "    connection.close()\n",
        "\n",
        "# Chamada da função para executar a consulta\n",
        "consulta()\n"
      ],
      "metadata": {
        "colab": {
          "base_uri": "https://localhost:8080/"
        },
        "id": "eQBWyLWnu1a8",
        "outputId": "29e852f5-45e3-4780-db97-64cbeaeb9aff"
      },
      "execution_count": null,
      "outputs": [
        {
          "output_type": "stream",
          "name": "stdout",
          "text": [
            "Executando a consulta...\n",
            "   Código de Aluguel Data de Aluguel\n",
            "0                  1      2023-04-01\n",
            "1                  2      2023-04-02\n",
            "2                  3      2023-04-03\n",
            "3                  4      2023-04-04\n",
            "4                  5      2023-04-05\n",
            "5                  6      2023-04-13\n",
            "6                  7      2023-04-15\n",
            "7                  8      2023-04-19\n",
            "8                  9      2023-04-21\n",
            "9                 10      2023-04-25\n"
          ]
        }
      ]
    },
    {
      "cell_type": "markdown",
      "source": [
        "WHERE"
      ],
      "metadata": {
        "id": "ulJLbdA5u47a"
      }
    },
    {
      "cell_type": "code",
      "source": [
        "'''\n",
        "A cláusula WHERE é usada para filtrar os registros retornados por uma consulta\n",
        "SELECT, UPDATE ou DELETE. Ela define condições que os dados devem satisfazer\n",
        "para serem incluídos no resultado.\n",
        "\n",
        "Sintaxe:\n",
        "SELECT coluna1, coluna2, ...\n",
        "FROM nome_da_tabela\n",
        "WHERE condição;\n",
        "\n",
        "\n",
        "Como funciona:\n",
        "WHERE: Indica que você está aplicando uma condição de filtragem.\n",
        "condição: Pode ser uma comparação, um valor específico, uma faixa de valores,\n",
        "etc.\n",
        "'''"
      ],
      "metadata": {
        "colab": {
          "base_uri": "https://localhost:8080/",
          "height": 87
        },
        "id": "XStGttTMu8Jq",
        "outputId": "69d0a675-66bc-4b1f-9cb8-7e3969d14d46"
      },
      "execution_count": null,
      "outputs": [
        {
          "output_type": "execute_result",
          "data": {
            "text/plain": [
              "'\\nA cláusula WHERE é usada para filtrar os registros retornados por uma consulta\\nSELECT, UPDATE ou DELETE. Ela define condições que os dados devem satisfazer\\npara serem incluídos no resultado.\\n\\nSintaxe:\\nSELECT coluna1, coluna2, ...\\nFROM nome_da_tabela\\nWHERE condição;\\n\\n\\nComo funciona:\\nWHERE: Indica que você está aplicando uma condição de filtragem.\\ncondição: Pode ser uma comparação, um valor específico, uma faixa de valores,\\netc.\\n'"
            ],
            "application/vnd.google.colaboratory.intrinsic+json": {
              "type": "string"
            }
          },
          "metadata": {},
          "execution_count": 44
        }
      ]
    },
    {
      "cell_type": "code",
      "source": [
        "import mysql.connector\n",
        "import pandas as pd  # Importando o pandas para exibir os dados em formato tabular\n",
        "\n",
        "# Definição dos parâmetros de conexão\n",
        "host = '34.170.104.203'  # IP da instância GCP\n",
        "user = 'root'\n",
        "password = ''  # Sua senha do MySQL\n",
        "database = 'locadora'  # Nome do banco de dados\n",
        "\n",
        "# Função para listar todos os clientes do estado do Rio de Janeiro (RJ)\n",
        "def consulta():\n",
        "    print(\"Executando a consulta...\")\n",
        "\n",
        "    # Criando a conexão com o banco de dados\n",
        "    connection = mysql.connector.connect(\n",
        "        host=host,\n",
        "        user=user,\n",
        "        password=password,\n",
        "        database=database\n",
        "    )\n",
        "\n",
        "    cursor = connection.cursor()\n",
        "\n",
        "    # Consulta SQL para listar todos os clientes do estado RJ\n",
        "    query = '''\n",
        "    SELECT codcliente, nome, cidade, estado\n",
        "    FROM cliente\n",
        "    WHERE estado = 'RJ';\n",
        "    '''\n",
        "    cursor.execute(query)  # Executando a consulta\n",
        "\n",
        "    # Armazenando os resultados\n",
        "    result = cursor.fetchall()\n",
        "\n",
        "    # Se não houver resultados\n",
        "    if not result:\n",
        "        print(\"Nenhum cliente encontrado no estado do Rio de Janeiro.\")\n",
        "    else:\n",
        "        # Convertendo os resultados para um DataFrame do Pandas para exibição\n",
        "        clientes_rj = pd.DataFrame(result, columns=[\"Código do Cliente\", \"Nome\", \"Cidade\", \"Estado\"])\n",
        "\n",
        "        # Exibindo a tabela Pandas\n",
        "        print(clientes_rj)\n",
        "\n",
        "    # Fechando o cursor e a conexão\n",
        "    cursor.close()\n",
        "    connection.close()\n",
        "\n",
        "# Chamada da função para executar a consulta\n",
        "consulta()\n"
      ],
      "metadata": {
        "colab": {
          "base_uri": "https://localhost:8080/"
        },
        "id": "2SHxah3YvCRG",
        "outputId": "4ab307f3-4690-4d67-cc73-39f5716b4ddd"
      },
      "execution_count": null,
      "outputs": [
        {
          "output_type": "stream",
          "name": "stdout",
          "text": [
            "Executando a consulta...\n",
            "   Código do Cliente              Nome           Cidade Estado\n",
            "0                  1         Ana Silva  Duque de Caxias     RJ\n",
            "1                  2     Bruna Pereira          Niterói     RJ\n",
            "2                  3  Túlio Nascimento  Duque de Caxias     RJ\n"
          ]
        }
      ]
    },
    {
      "cell_type": "code",
      "source": [
        "import mysql.connector\n",
        "import pandas as pd  # Importando o pandas para exibir os dados em formato tabular\n",
        "\n",
        "# Definição dos parâmetros de conexão\n",
        "host = '34.170.104.203'  # IP da instância GCP\n",
        "user = 'root'\n",
        "password = ''  # Sua senha do MySQL\n",
        "database = 'locadora'  # Nome do banco de dados\n",
        "\n",
        "# Função para listar os carros com valor superior a 120 reais\n",
        "def consulta():\n",
        "    print(\"Executando a consulta...\")\n",
        "\n",
        "    # Criando a conexão com o banco de dados\n",
        "    connection = mysql.connector.connect(\n",
        "        host=host,\n",
        "        user=user,\n",
        "        password=password,\n",
        "        database=database\n",
        "    )\n",
        "\n",
        "    cursor = connection.cursor()\n",
        "\n",
        "    # Consulta SQL para listar carros com valor superior a 120 reais\n",
        "    query = '''\n",
        "    SELECT codcarro, modelo, valor\n",
        "    FROM carro\n",
        "    WHERE valor > 120;\n",
        "    '''\n",
        "    cursor.execute(query)  # Executando a consulta\n",
        "\n",
        "    # Armazenando os resultados\n",
        "    result = cursor.fetchall()\n",
        "\n",
        "    # Se não houver resultados\n",
        "    if not result:\n",
        "        print(\"Nenhum carro com valor superior a 120 reais encontrado.\")\n",
        "    else:\n",
        "        # Convertendo os resultados para um DataFrame do Pandas para exibição\n",
        "        carros_120 = pd.DataFrame(result, columns=[\"Código do Carro\", \"Modelo\", \"Valor do Aluguel\"])\n",
        "\n",
        "        # Exibindo a tabela Pandas\n",
        "        print(carros_120)\n",
        "\n",
        "    # Fechando o cursor e a conexão\n",
        "    cursor.close()\n",
        "    connection.close()\n",
        "\n",
        "# Chamada da função para executar a consulta\n",
        "consulta()\n"
      ],
      "metadata": {
        "colab": {
          "base_uri": "https://localhost:8080/"
        },
        "id": "0Omx64pOQSyo",
        "outputId": "06f856d0-2d06-4178-a9d0-a1a4fc342a59"
      },
      "execution_count": null,
      "outputs": [
        {
          "output_type": "stream",
          "name": "stdout",
          "text": [
            "Executando a consulta...\n",
            "   Código do Carro Modelo  Valor do Aluguel\n",
            "0                2   Argo             150.0\n",
            "1                3   Onix             170.0\n",
            "2                4   Polo             150.0\n"
          ]
        }
      ]
    },
    {
      "cell_type": "code",
      "source": [
        "import mysql.connector\n",
        "import pandas as pd\n",
        "\n",
        "# Definição dos parâmetros de conexão\n",
        "host = '34.170.104.203'\n",
        "user = 'root'\n",
        "password = ''\n",
        "database = 'locadora'\n",
        "\n",
        "# Função para listar os clientes do sexo feminino\n",
        "def consulta():\n",
        "    print(\"Executando a consulta...\")\n",
        "\n",
        "    # Conectando ao banco de dados\n",
        "    connection = mysql.connector.connect(\n",
        "        host=host,\n",
        "        user=user,\n",
        "        password=password,\n",
        "        database=database\n",
        "    )\n",
        "\n",
        "    cursor = connection.cursor()\n",
        "\n",
        "    # Consulta SQL para selecionar clientes do sexo feminino\n",
        "    query = '''\n",
        "    SELECT codcliente, nome, sexo\n",
        "    FROM cliente\n",
        "    WHERE sexo = 'F';\n",
        "    '''\n",
        "    cursor.execute(query)\n",
        "    result = cursor.fetchall()\n",
        "\n",
        "    if not result:\n",
        "        print(\"Nenhum cliente do sexo feminino encontrado.\")\n",
        "    else:\n",
        "        # Exibindo resultados em formato tabular\n",
        "        clientes_femininos = pd.DataFrame(result, columns=[\"Código\", \"Nome\", \"Sexo\"])\n",
        "        print(clientes_femininos)\n",
        "\n",
        "    cursor.close()\n",
        "    connection.close()\n",
        "\n",
        "# Chamada da função para executar a consulta\n",
        "consulta()\n"
      ],
      "metadata": {
        "colab": {
          "base_uri": "https://localhost:8080/"
        },
        "id": "Jsg82VR6vI4V",
        "outputId": "c6148437-c114-45d8-9da9-df3cd5a293b0"
      },
      "execution_count": null,
      "outputs": [
        {
          "output_type": "stream",
          "name": "stdout",
          "text": [
            "Executando a consulta...\n",
            "   Código           Nome Sexo\n",
            "0       1      Ana Silva    F\n",
            "1       2  Bruna Pereira    F\n",
            "2       5  Lúcia Andrade    F\n"
          ]
        }
      ]
    },
    {
      "cell_type": "code",
      "source": [
        "import mysql.connector\n",
        "import pandas as pd\n",
        "\n",
        "# Definição dos parâmetros de conexão\n",
        "host = '34.170.104.203'\n",
        "user = 'root'\n",
        "password = ''\n",
        "database = 'locadora'\n",
        "\n",
        "# Função para listar os carros da marca com código 3\n",
        "def consulta():\n",
        "    print(\"Executando a consulta...\")\n",
        "\n",
        "    # Conectando ao banco de dados\n",
        "    connection = mysql.connector.connect(\n",
        "        host=host,\n",
        "        user=user,\n",
        "        password=password,\n",
        "        database=database\n",
        "    )\n",
        "\n",
        "    cursor = connection.cursor()\n",
        "\n",
        "    # Consulta SQL para selecionar carros da marca com código 3\n",
        "    query = '''\n",
        "    SELECT codcarro, modelo\n",
        "    FROM carro\n",
        "    WHERE codmarca = 3;\n",
        "    '''\n",
        "    cursor.execute(query)\n",
        "    result = cursor.fetchall()\n",
        "\n",
        "    if not result:\n",
        "        print(\"Nenhum carro encontrado para a marca com código 3.\")\n",
        "    else:\n",
        "        # Exibindo resultados em formato tabular\n",
        "        carros_marca_3 = pd.DataFrame(result, columns=[\"Código do Carro\", \"Modelo\"])\n",
        "        print(carros_marca_3)\n",
        "\n",
        "    cursor.close()\n",
        "    connection.close()\n",
        "\n",
        "# Chamada da função para executar a consulta\n",
        "consulta()\n"
      ],
      "metadata": {
        "colab": {
          "base_uri": "https://localhost:8080/"
        },
        "id": "YVdTyKMqvL3-",
        "outputId": "a968e3f4-97b8-4dd1-fc28-1685599ad915"
      },
      "execution_count": null,
      "outputs": [
        {
          "output_type": "stream",
          "name": "stdout",
          "text": [
            "Executando a consulta...\n",
            "   Código do Carro Modelo\n",
            "0                3   Onix\n"
          ]
        }
      ]
    },
    {
      "cell_type": "code",
      "source": [
        "import mysql.connector\n",
        "import pandas as pd\n",
        "\n",
        "# Definição dos parâmetros de conexão\n",
        "host = '34.170.104.203'\n",
        "user = 'root'\n",
        "password = ''\n",
        "database = 'locadora'\n",
        "\n",
        "# Função para listar os clientes que moram em 'Duque de Caxias'\n",
        "def consulta():\n",
        "    print(\"Executando a consulta...\")\n",
        "\n",
        "    # Conectando ao banco de dados\n",
        "    connection = mysql.connector.connect(\n",
        "        host=host,\n",
        "        user=user,\n",
        "        password=password,\n",
        "        database=database\n",
        "    )\n",
        "\n",
        "    cursor = connection.cursor()\n",
        "\n",
        "    # Consulta SQL para selecionar clientes que moram em 'Duque de Caxias'\n",
        "    query = '''\n",
        "    SELECT codcliente, nome, cidade\n",
        "    FROM cliente\n",
        "    WHERE cidade = 'Duque de Caxias';\n",
        "    '''\n",
        "    cursor.execute(query)\n",
        "    result = cursor.fetchall()\n",
        "\n",
        "    if not result:\n",
        "        print(\"Nenhum cliente encontrado em Duque de Caxias.\")\n",
        "    else:\n",
        "        # Exibindo resultados em formato tabular\n",
        "        clientes_duque_caxias = pd.DataFrame(result, columns=[\"Código\", \"Nome\", \"Cidade\"])\n",
        "        print(clientes_duque_caxias)\n",
        "\n",
        "    cursor.close()\n",
        "    connection.close()\n",
        "\n",
        "# Chamada da função para executar a consulta\n",
        "consulta()\n"
      ],
      "metadata": {
        "colab": {
          "base_uri": "https://localhost:8080/"
        },
        "id": "bWfN0gXcvPGx",
        "outputId": "9873a23d-69e6-4cfc-fc31-143fdb62f0ee"
      },
      "execution_count": null,
      "outputs": [
        {
          "output_type": "stream",
          "name": "stdout",
          "text": [
            "Executando a consulta...\n",
            "   Código              Nome           Cidade\n",
            "0       1         Ana Silva  Duque de Caxias\n",
            "1       3  Túlio Nascimento  Duque de Caxias\n"
          ]
        }
      ]
    },
    {
      "cell_type": "code",
      "source": [
        "import mysql.connector\n",
        "import pandas as pd\n",
        "\n",
        "# Definição dos parâmetros de conexão\n",
        "host = '34.170.104.203'\n",
        "user = 'root'\n",
        "password = ''\n",
        "database = 'locadora'\n",
        "\n",
        "# Função para listar os aluguéis realizados no dia '2023-04-02'\n",
        "def consulta():\n",
        "    print(\"Executando a consulta...\")\n",
        "\n",
        "    # Conectando ao banco de dados\n",
        "    connection = mysql.connector.connect(\n",
        "        host=host,\n",
        "        user=user,\n",
        "        password=password,\n",
        "        database=database\n",
        "    )\n",
        "\n",
        "    cursor = connection.cursor()\n",
        "\n",
        "    # Consulta SQL para selecionar aluguéis realizados no dia '2023-04-02'\n",
        "    query = '''\n",
        "    SELECT codaluguel, data_aluguel, codcliente, codcarro\n",
        "    FROM aluguel\n",
        "    WHERE data_aluguel = '2023-04-02';\n",
        "    '''\n",
        "    cursor.execute(query)\n",
        "    result = cursor.fetchall()\n",
        "\n",
        "    if not result:\n",
        "        print(\"Nenhum aluguel encontrado no dia 2023-04-02.\")\n",
        "    else:\n",
        "        # Exibindo resultados em formato tabular\n",
        "        alugueis_02_04 = pd.DataFrame(result, columns=[\"Código do Aluguel\", \"Data do Aluguel\", \"Código do Cliente\", \"Código do Carro\"])\n",
        "        print(alugueis_02_04)\n",
        "\n",
        "    cursor.close()\n",
        "    connection.close()\n",
        "\n",
        "# Chamada da função para executar a consulta\n",
        "consulta()\n"
      ],
      "metadata": {
        "colab": {
          "base_uri": "https://localhost:8080/"
        },
        "id": "p4edOKdhvUDc",
        "outputId": "8680fa4d-e527-48c1-986d-f4424ef30f34"
      },
      "execution_count": null,
      "outputs": [
        {
          "output_type": "stream",
          "name": "stdout",
          "text": [
            "Executando a consulta...\n",
            "   Código do Aluguel Data do Aluguel  Código do Cliente  Código do Carro\n",
            "0                  2      2023-04-02                  2                1\n"
          ]
        }
      ]
    },
    {
      "cell_type": "code",
      "source": [
        "import mysql.connector\n",
        "\n",
        "# Definição dos parâmetros de conexão\n",
        "host = '34.170.104.203'\n",
        "user = 'root'\n",
        "password = ''\n",
        "database = 'locadora'\n",
        "\n",
        "# Função para listar as colunas da tabela cliente\n",
        "def verifica_colunas():\n",
        "    print(\"Verificando as colunas da tabela cliente...\")\n",
        "\n",
        "    # Conectando ao banco de dados\n",
        "    connection = mysql.connector.connect(\n",
        "        host=host,\n",
        "        user=user,\n",
        "        password=password,\n",
        "        database=database\n",
        "    )\n",
        "\n",
        "    cursor = connection.cursor()\n",
        "\n",
        "    # Consulta para verificar as colunas da tabela cliente\n",
        "    query = \"DESCRIBE cliente;\"\n",
        "    cursor.execute(query)\n",
        "    result = cursor.fetchall()\n",
        "\n",
        "    for row in result:\n",
        "        print(row)\n",
        "\n",
        "    cursor.close()\n",
        "    connection.close()\n",
        "\n",
        "# Chamada da função para verificar as colunas\n",
        "verifica_colunas()\n"
      ],
      "metadata": {
        "colab": {
          "base_uri": "https://localhost:8080/"
        },
        "id": "uO0qUFd0RKUq",
        "outputId": "5f1fdea5-e078-4183-f646-13c38b43a633"
      },
      "execution_count": null,
      "outputs": [
        {
          "output_type": "stream",
          "name": "stdout",
          "text": [
            "Verificando as colunas da tabela cliente...\n",
            "('codcliente', 'int', 'NO', 'PRI', None, '')\n",
            "('nome', 'varchar(50)', 'YES', '', None, '')\n",
            "('cidade', 'varchar(50)', 'YES', '', None, '')\n",
            "('sexo', 'char(1)', 'YES', '', None, '')\n",
            "('estado', 'char(2)', 'YES', '', None, '')\n",
            "('estadocivil', 'char(1)', 'YES', '', None, '')\n"
          ]
        }
      ]
    },
    {
      "cell_type": "code",
      "source": [
        "import mysql.connector\n",
        "import pandas as pd\n",
        "\n",
        "# Definição dos parâmetros de conexão\n",
        "host = '34.170.104.203'\n",
        "user = 'root'\n",
        "password = ''\n",
        "database = 'locadora'\n",
        "\n",
        "# Função para listar carros com valor igual a 150 reais\n",
        "def consulta():\n",
        "    print(\"Executando a consulta...\")\n",
        "\n",
        "    # Conectando ao banco de dados\n",
        "    connection = mysql.connector.connect(\n",
        "        host=host,\n",
        "        user=user,\n",
        "        password=password,\n",
        "        database=database\n",
        "    )\n",
        "\n",
        "    cursor = connection.cursor()\n",
        "\n",
        "    # Consulta SQL para listar carros com valor igual a 150 reais\n",
        "    query = '''\n",
        "    SELECT codcarro, modelo, valor\n",
        "    FROM carro\n",
        "    WHERE valor = 150;\n",
        "    '''\n",
        "    cursor.execute(query)\n",
        "    result = cursor.fetchall()\n",
        "\n",
        "    if not result:\n",
        "        print(\"Nenhum carro com valor igual a 150 reais encontrado.\")\n",
        "    else:\n",
        "        # Exibindo resultados em formato tabular\n",
        "        carros_150 = pd.DataFrame(result, columns=[\"Código do Carro\", \"Modelo\", \"Valor\"])\n",
        "\n",
        "        print(carros_150)\n",
        "\n",
        "    cursor.close()\n",
        "    connection.close()\n",
        "\n",
        "# Chamada da função para executar a consulta\n",
        "consulta()\n"
      ],
      "metadata": {
        "colab": {
          "base_uri": "https://localhost:8080/"
        },
        "id": "g7MIK84qvYBh",
        "outputId": "fc08139c-fefb-474b-e2ab-b0b626ae6b2d"
      },
      "execution_count": null,
      "outputs": [
        {
          "output_type": "stream",
          "name": "stdout",
          "text": [
            "Executando a consulta...\n",
            "   Código do Carro Modelo  Valor\n",
            "0                2   Argo  150.0\n",
            "1                4   Polo  150.0\n"
          ]
        }
      ]
    },
    {
      "cell_type": "code",
      "source": [
        "import mysql.connector\n",
        "import pandas as pd\n",
        "\n",
        "# Definição dos parâmetros de conexão\n",
        "host = '34.170.104.203'\n",
        "user = 'root'\n",
        "password = ''\n",
        "database = 'locadora'\n",
        "\n",
        "# Função para executar consultas com base na consulta desejada\n",
        "def consulta(query):\n",
        "    print(\"Executando a consulta...\")\n",
        "\n",
        "    # Conectando ao banco de dados\n",
        "    connection = mysql.connector.connect(\n",
        "        host=host,\n",
        "        user=user,\n",
        "        password=password,\n",
        "        database=database\n",
        "    )\n",
        "\n",
        "    cursor = connection.cursor()\n",
        "\n",
        "    # Executando a consulta SQL\n",
        "    cursor.execute(query)\n",
        "    result = cursor.fetchall()\n",
        "\n",
        "    # Se não houver resultados\n",
        "    if not result:\n",
        "        print(\"Nenhum dado encontrado.\")\n",
        "    else:\n",
        "        # Exibindo resultados em formato tabular\n",
        "        columns = [col[0] for col in cursor.description]  # Nome das colunas\n",
        "        data = pd.DataFrame(result, columns=columns)\n",
        "        print(data)\n",
        "\n",
        "    cursor.close()\n",
        "    connection.close()\n",
        "\n",
        "# Exemplo de consulta: \"Exibir os aluguéis feitos pelo cliente de código 1\"\n",
        "consulta_19 = '''\n",
        "SELECT * FROM aluguel\n",
        "WHERE codcliente = 1;\n",
        "'''\n",
        "\n",
        "# Chamada da função para a consulta específica (passando a consulta como argumento)\n",
        "consulta(consulta_19)\n",
        "\n"
      ],
      "metadata": {
        "colab": {
          "base_uri": "https://localhost:8080/"
        },
        "id": "BV4ktbr6vanR",
        "outputId": "9c7c581c-06c5-4ac8-bac6-8bb271790fa5"
      },
      "execution_count": null,
      "outputs": [
        {
          "output_type": "stream",
          "name": "stdout",
          "text": [
            "Executando a consulta...\n",
            "   codaluguel  codcliente  codcarro data_aluguel\n",
            "0           5           1         4   2023-04-05\n",
            "1           6           1         4   2023-04-13\n",
            "2           7           1         1   2023-04-15\n"
          ]
        }
      ]
    },
    {
      "cell_type": "markdown",
      "source": [
        "20. Mostre todos os carros que não são do modelo 'Ka'.\n"
      ],
      "metadata": {
        "id": "IYc7xTGmSKeH"
      }
    },
    {
      "cell_type": "code",
      "source": [
        "consulta_20 = '''\n",
        "SELECT * FROM carro\n",
        "WHERE modelo != 'Ka';\n",
        "'''\n",
        "\n",
        "# Chamada da função passando a consulta\n",
        "consulta(consulta_20)\n"
      ],
      "metadata": {
        "colab": {
          "base_uri": "https://localhost:8080/"
        },
        "id": "WhP-SGNFSMKm",
        "outputId": "b216d5e8-5f33-4ae1-ac53-4b2186996777"
      },
      "execution_count": null,
      "outputs": [
        {
          "output_type": "stream",
          "name": "stdout",
          "text": [
            "Executando a consulta...\n",
            "   codcarro  codmarca modelo  valor\n",
            "0         2         2   Argo  150.0\n",
            "1         3         3   Onix  170.0\n",
            "2         4         4   Polo  150.0\n",
            "3         5         5   Kwid  120.0\n"
          ]
        }
      ]
    },
    {
      "cell_type": "markdown",
      "source": [
        "DISTINCT"
      ],
      "metadata": {
        "id": "DHjAIh2hvgUM"
      }
    },
    {
      "cell_type": "code",
      "source": [
        "'''\n",
        "A cláusula DISTINCT é usada para remover valores duplicados dos resultados de\n",
        "uma consulta. Quando você quer listar apenas valores únicos de uma ou mais\n",
        "colunas, o DISTINCT entra em ação.\n",
        "\n",
        "Sintaxe:\n",
        "SELECT DISTINCT coluna1, coluna2, ...\n",
        "FROM nome_da_tabela;\n",
        "\n",
        "\n",
        "Como funciona:\n",
        "O DISTINCT compara os valores das colunas selecionadas.\n",
        "Se houver registros iguais nessas colunas, somente um será retornado.\n",
        "Ele pode ser usado com uma ou mais colunas.\n",
        "'''"
      ],
      "metadata": {
        "id": "zhxUHnbRvjaH"
      },
      "execution_count": null,
      "outputs": []
    },
    {
      "cell_type": "code",
      "source": [
        "consulta_21 = '''\n",
        "SELECT DISTINCT cidade FROM cliente;\n",
        "'''\n",
        "\n",
        "# Chamada da função passando a consulta\n",
        "consulta(consulta_21)\n"
      ],
      "metadata": {
        "colab": {
          "base_uri": "https://localhost:8080/"
        },
        "id": "E1dHm8_fvnJL",
        "outputId": "ee9f936c-7a51-4c8d-a276-fc9e74290f4f"
      },
      "execution_count": null,
      "outputs": [
        {
          "output_type": "stream",
          "name": "stdout",
          "text": [
            "Executando a consulta...\n",
            "            cidade\n",
            "0  Duque de Caxias\n",
            "1          Niterói\n",
            "2         Campinas\n",
            "3        São Paulo\n"
          ]
        }
      ]
    },
    {
      "cell_type": "code",
      "source": [
        "consulta_22 = '''\n",
        "SELECT DISTINCT estado FROM cliente;\n",
        "'''\n",
        "\n",
        "# Chamada da função passando a consulta\n",
        "consulta(consulta_22)\n"
      ],
      "metadata": {
        "colab": {
          "base_uri": "https://localhost:8080/"
        },
        "id": "8JhBjmDBvp9I",
        "outputId": "c347aa3c-e278-4eb8-a670-e158d4815ed7"
      },
      "execution_count": null,
      "outputs": [
        {
          "output_type": "stream",
          "name": "stdout",
          "text": [
            "Executando a consulta...\n",
            "  estado\n",
            "0     RJ\n",
            "1     SP\n"
          ]
        }
      ]
    },
    {
      "cell_type": "code",
      "source": [
        "consulta_23 = '''\n",
        "SELECT DISTINCT codcliente FROM aluguel;\n",
        "'''\n",
        "\n",
        "# Chamada da função passando a consulta\n",
        "consulta(consulta_23)\n"
      ],
      "metadata": {
        "colab": {
          "base_uri": "https://localhost:8080/"
        },
        "id": "aSdIJKkKvsmJ",
        "outputId": "118f7993-f2a7-44e9-cab7-4c11e936a507"
      },
      "execution_count": null,
      "outputs": [
        {
          "output_type": "stream",
          "name": "stdout",
          "text": [
            "Executando a consulta...\n",
            "   codcliente\n",
            "0           1\n",
            "1           2\n",
            "2           3\n",
            "3           5\n"
          ]
        }
      ]
    },
    {
      "cell_type": "code",
      "source": [
        "consulta_24 = '''\n",
        "SELECT DISTINCT valor FROM carro;\n",
        "'''\n",
        "\n",
        "# Chamada da função passando a consulta\n",
        "consulta(consulta_24)\n"
      ],
      "metadata": {
        "colab": {
          "base_uri": "https://localhost:8080/"
        },
        "id": "KeUJ7tilvvwr",
        "outputId": "92dbce1a-a7c7-4018-8da9-4c76387eff42"
      },
      "execution_count": null,
      "outputs": [
        {
          "output_type": "stream",
          "name": "stdout",
          "text": [
            "Executando a consulta...\n",
            "   valor\n",
            "0  100.0\n",
            "1  150.0\n",
            "2  170.0\n",
            "3  120.0\n"
          ]
        }
      ]
    },
    {
      "cell_type": "code",
      "source": [
        "consulta_25 = '''\n",
        "SELECT DISTINCT codcarro FROM aluguel;\n",
        "'''\n",
        "\n",
        "# Chamada da função passando a consulta\n",
        "consulta(consulta_25)\n"
      ],
      "metadata": {
        "colab": {
          "base_uri": "https://localhost:8080/"
        },
        "id": "u7kKkA5Fvyp0",
        "outputId": "3c24f25f-9824-4fb9-ca0f-c29a4b92d33e"
      },
      "execution_count": null,
      "outputs": [
        {
          "output_type": "stream",
          "name": "stdout",
          "text": [
            "Executando a consulta...\n",
            "   codcarro\n",
            "0         1\n",
            "1         2\n",
            "2         3\n",
            "3         4\n"
          ]
        }
      ]
    },
    {
      "cell_type": "code",
      "source": [
        "consulta_26 = '''\n",
        "SELECT DISTINCT estadocivil FROM cliente;\n",
        "'''\n",
        "\n",
        "# Chamada da função passando a consulta\n",
        "consulta(consulta_26)\n"
      ],
      "metadata": {
        "colab": {
          "base_uri": "https://localhost:8080/"
        },
        "id": "n96Jv2yYv1yq",
        "outputId": "cbb3191d-0b08-4ac7-9888-931fcd6126db"
      },
      "execution_count": null,
      "outputs": [
        {
          "output_type": "stream",
          "name": "stdout",
          "text": [
            "Executando a consulta...\n",
            "  estadocivil\n",
            "0           C\n",
            "1           S\n"
          ]
        }
      ]
    },
    {
      "cell_type": "code",
      "source": [
        "consulta_27 = '''\n",
        "SELECT DISTINCT marca FROM marca;\n",
        "'''\n",
        "\n",
        "# Chamada da função passando a consulta\n",
        "consulta(consulta_27)\n"
      ],
      "metadata": {
        "colab": {
          "base_uri": "https://localhost:8080/"
        },
        "id": "7XVfKU_Bv5UY",
        "outputId": "3471a9a9-0677-407c-f72e-620fbfd0a6de"
      },
      "execution_count": null,
      "outputs": [
        {
          "output_type": "stream",
          "name": "stdout",
          "text": [
            "Executando a consulta...\n",
            "        marca\n",
            "0        Ford\n",
            "1        Fiat\n",
            "2   Chevrolet\n",
            "3  Volkswagen\n",
            "4     Renault\n"
          ]
        }
      ]
    },
    {
      "cell_type": "code",
      "source": [
        "consulta_28 = '''\n",
        "SELECT DISTINCT sexo FROM cliente;\n",
        "'''\n",
        "\n",
        "# Chamada da função passando a consulta\n",
        "consulta(consulta_28)\n"
      ],
      "metadata": {
        "colab": {
          "base_uri": "https://localhost:8080/"
        },
        "id": "pm30AwDcv72r",
        "outputId": "d4059cec-3432-4027-80cd-79ff9960a4df"
      },
      "execution_count": null,
      "outputs": [
        {
          "output_type": "stream",
          "name": "stdout",
          "text": [
            "Executando a consulta...\n",
            "  sexo\n",
            "0    F\n",
            "1    M\n"
          ]
        }
      ]
    },
    {
      "cell_type": "code",
      "source": [
        "consulta_29 = '''\n",
        "SELECT DISTINCT data_aluguel FROM aluguel;\n",
        "'''\n",
        "\n",
        "# Chamada da função passando a consulta\n",
        "consulta(consulta_29)\n"
      ],
      "metadata": {
        "colab": {
          "base_uri": "https://localhost:8080/"
        },
        "id": "jqrOp9_dv_JO",
        "outputId": "fb0682be-a0c8-4d2c-ead9-13212b3d0c6e"
      },
      "execution_count": null,
      "outputs": [
        {
          "output_type": "stream",
          "name": "stdout",
          "text": [
            "Executando a consulta...\n",
            "  data_aluguel\n",
            "0   2023-04-01\n",
            "1   2023-04-02\n",
            "2   2023-04-03\n",
            "3   2023-04-04\n",
            "4   2023-04-05\n",
            "5   2023-04-13\n",
            "6   2023-04-15\n",
            "7   2023-04-19\n",
            "8   2023-04-21\n",
            "9   2023-04-25\n"
          ]
        }
      ]
    },
    {
      "cell_type": "markdown",
      "source": [
        "ORDER BY"
      ],
      "metadata": {
        "id": "uab__RKCwE9j"
      }
    },
    {
      "cell_type": "code",
      "source": [
        "'''\n",
        "A cláusula ORDER BY é usada para ordenar os resultados de uma consulta SQL com\n",
        "base em uma ou mais colunas. Você pode ordenar em ordem crescente (ASC) ou\n",
        "decrescente (DESC).\n",
        "\n",
        "Sintaxe:\n",
        "SELECT coluna1, coluna2, ...\n",
        "FROM nome_da_tabela\n",
        "ORDER BY coluna1 [ASC | DESC], coluna2 [ASC | DESC], ...;\n",
        "\n",
        "Como funciona:\n",
        "ORDER BY: Indica que os resultados devem ser ordenados.\n",
        "ASC (opcional): Ordem crescente (do menor para o maior) – é o padrão.\n",
        "DESC: Ordem decrescente (do maior para o menor).\n",
        "'''"
      ],
      "metadata": {
        "id": "snpUTvT-wGVa"
      },
      "execution_count": null,
      "outputs": []
    },
    {
      "cell_type": "code",
      "source": [
        "consulta_30 = '''\n",
        "SELECT * FROM cliente\n",
        "ORDER BY nome ASC;\n",
        "'''\n",
        "\n",
        "# Chamada da função passando a consulta\n",
        "consulta(consulta_30)\n"
      ],
      "metadata": {
        "colab": {
          "base_uri": "https://localhost:8080/"
        },
        "id": "_61oL9PewKL7",
        "outputId": "1b8cce69-b73d-4fe8-e4d3-de2fa21b990c"
      },
      "execution_count": null,
      "outputs": [
        {
          "output_type": "stream",
          "name": "stdout",
          "text": [
            "Executando a consulta...\n",
            "   codcliente              nome           cidade sexo estado estadocivil\n",
            "0           1         Ana Silva  Duque de Caxias    F     RJ           C\n",
            "1           2     Bruna Pereira          Niterói    F     RJ           C\n",
            "2           4    Fernando Souza         Campinas    M     SP           S\n",
            "3           5     Lúcia Andrade        São Paulo    F     SP           C\n",
            "4           3  Túlio Nascimento  Duque de Caxias    M     RJ           S\n"
          ]
        }
      ]
    },
    {
      "cell_type": "code",
      "source": [
        "consulta_31 = '''\n",
        "SELECT * FROM carro\n",
        "ORDER BY valor ASC;\n",
        "'''\n",
        "\n",
        "# Chamada da função passando a consulta\n",
        "consulta(consulta_31)\n"
      ],
      "metadata": {
        "colab": {
          "base_uri": "https://localhost:8080/"
        },
        "id": "rJCHc0McwN2A",
        "outputId": "adc7e126-d457-4399-b76e-6009dc2c0f39"
      },
      "execution_count": null,
      "outputs": [
        {
          "output_type": "stream",
          "name": "stdout",
          "text": [
            "Executando a consulta...\n",
            "   codcarro  codmarca modelo  valor\n",
            "0         1         1     Ka  100.0\n",
            "1         5         5   Kwid  120.0\n",
            "2         2         2   Argo  150.0\n",
            "3         4         4   Polo  150.0\n",
            "4         3         3   Onix  170.0\n"
          ]
        }
      ]
    },
    {
      "cell_type": "code",
      "source": [
        "consulta_32 = '''\n",
        "SELECT * FROM aluguel\n",
        "ORDER BY data_aluguel DESC;\n",
        "'''\n",
        "\n",
        "# Chamada da função passando a consulta\n",
        "consulta(consulta_32)\n"
      ],
      "metadata": {
        "colab": {
          "base_uri": "https://localhost:8080/"
        },
        "id": "sOgZLNhQwRHK",
        "outputId": "a21a4c76-86ee-455d-81c4-5caab4759bd6"
      },
      "execution_count": null,
      "outputs": [
        {
          "output_type": "stream",
          "name": "stdout",
          "text": [
            "Executando a consulta...\n",
            "   codaluguel  codcliente  codcarro data_aluguel\n",
            "0          10           3         1   2023-04-25\n",
            "1           9           5         2   2023-04-21\n",
            "2           8           5         2   2023-04-19\n",
            "3           7           1         1   2023-04-15\n",
            "4           6           1         4   2023-04-13\n",
            "5           5           1         4   2023-04-05\n",
            "6           4           2         3   2023-04-04\n",
            "7           3           2         1   2023-04-03\n",
            "8           2           2         1   2023-04-02\n",
            "9           1           3         2   2023-04-01\n"
          ]
        }
      ]
    },
    {
      "cell_type": "code",
      "source": [
        "consulta_33 = '''\n",
        "SELECT * FROM cliente\n",
        "ORDER BY estado ASC, nome ASC;\n",
        "'''\n",
        "\n",
        "# Chamada da função passando a consulta\n",
        "consulta(consulta_33)\n"
      ],
      "metadata": {
        "colab": {
          "base_uri": "https://localhost:8080/"
        },
        "id": "ds_4XX_xwURY",
        "outputId": "e2b012d6-2e58-4279-97c9-636e3da9765c"
      },
      "execution_count": null,
      "outputs": [
        {
          "output_type": "stream",
          "name": "stdout",
          "text": [
            "Executando a consulta...\n",
            "   codcliente              nome           cidade sexo estado estadocivil\n",
            "0           1         Ana Silva  Duque de Caxias    F     RJ           C\n",
            "1           2     Bruna Pereira          Niterói    F     RJ           C\n",
            "2           3  Túlio Nascimento  Duque de Caxias    M     RJ           S\n",
            "3           4    Fernando Souza         Campinas    M     SP           S\n",
            "4           5     Lúcia Andrade        São Paulo    F     SP           C\n"
          ]
        }
      ]
    },
    {
      "cell_type": "code",
      "source": [
        "consulta_34 = '''\n",
        "SELECT modelo, valor\n",
        "FROM carro\n",
        "ORDER BY valor DESC;\n",
        "'''\n",
        "\n",
        "# Chamada da função passando a consulta\n",
        "consulta(consulta_34)\n"
      ],
      "metadata": {
        "colab": {
          "base_uri": "https://localhost:8080/"
        },
        "id": "XsRC4ilmwX3W",
        "outputId": "adc7eafe-717c-4874-d8b9-478c12a6cc09"
      },
      "execution_count": null,
      "outputs": [
        {
          "output_type": "stream",
          "name": "stdout",
          "text": [
            "Executando a consulta...\n",
            "  modelo  valor\n",
            "0   Onix  170.0\n",
            "1   Argo  150.0\n",
            "2   Polo  150.0\n",
            "3   Kwid  120.0\n",
            "4     Ka  100.0\n"
          ]
        }
      ]
    },
    {
      "cell_type": "markdown",
      "source": [
        "LIKE"
      ],
      "metadata": {
        "id": "bfOoaH14wc9y"
      }
    },
    {
      "cell_type": "code",
      "source": [
        "'''\n",
        "A cláusula LIKE é usada para filtrar dados com base em padrões de texto. Ela é\n",
        "muito útil quando você quer encontrar valores que contêm, começam ou terminam\n",
        "com determinadas letras ou palavras, em vez de uma correspondência exata.\n",
        "\n",
        "Sintaxe:\n",
        "SELECT coluna1, coluna2, ...\n",
        "FROM nome_da_tabela\n",
        "WHERE coluna LIKE 'padrão';\n",
        "\n",
        "\n",
        "Caracteres curingas (wildcards) do LIKE\n",
        "1. % → Qualquer sequência de caracteres (inclusive nenhum)\n",
        "Esse caractere coringa substitui zero ou mais caracteres.\n",
        "\n",
        "Exemplos:\n",
        "LIKE 'A%'\n",
        "→ Começa com A, seguido de qualquer coisa (ou nada).\n",
        "Combina com: Ana, Amanda, Arthur, A.\n",
        "\n",
        "LIKE '%ar'\n",
        "→ Termina com ar, pode ter qualquer coisa antes.\n",
        "Combina com: César, Omar, Bazar.\n",
        "\n",
        "LIKE '%an%'\n",
        "→ Contém a sequência an em qualquer posição.\n",
        "Combina com: André, Fernando, Amanda.\n",
        "\n",
        "LIKE '%'\n",
        "→ Traz todos os valores, pois % sozinho representa qualquer coisa (ou nada).\n",
        "\n",
        "2. _ (underline) → Exatamente um único caractere qualquer\n",
        "Esse caractere coringa substitui um e apenas um caractere.\n",
        "\n",
        "🧠 Exemplos:\n",
        "LIKE '_ar'\n",
        "→ Três letras, sendo qualquer coisa na primeira, depois a e r.\n",
        "Combina com: Car, Bar, Par.\n",
        "Não combina com: César, Mar, ar.\n",
        "\n",
        "LIKE 'A__'\n",
        "→ Começa com A e tem exatamente 3 caracteres no total.\n",
        "Combina com: Ana, Ava, Amy.\n",
        "Não combina com: Amanda, Al.\n",
        "\n",
        "LIKE '__a%'\n",
        "→ Os dois primeiros caracteres podem ser qualquer um, o terceiro deve ser a, e\n",
        "depois pode ter qualquer coisa.\n",
        "Combina com: Ana, Luca, Branca, Omar.\n",
        "\n",
        "Observações importantes:\n",
        "LIKE é case-insensitive na maioria dos bancos de dados (ex: MySQL), mas\n",
        "case-sensitive em alguns (como PostgreSQL, a menos que se use ILIKE).\n",
        "Pode ser mais lento em grandes volumes de dados, especialmente com padrões que\n",
        "começam com %.\n",
        "'''"
      ],
      "metadata": {
        "id": "eAquvOaNwgp-"
      },
      "execution_count": null,
      "outputs": []
    },
    {
      "cell_type": "code",
      "source": [
        "consulta_35 = '''\n",
        "SELECT nome\n",
        "FROM cliente\n",
        "WHERE nome LIKE 'A%';\n",
        "'''\n",
        "\n",
        "# Chamada da função passando a consulta\n",
        "consulta(consulta_35)\n"
      ],
      "metadata": {
        "colab": {
          "base_uri": "https://localhost:8080/"
        },
        "id": "7AXdcRTlwldz",
        "outputId": "090d262c-2f74-4694-c24a-aff521ff0cfa"
      },
      "execution_count": null,
      "outputs": [
        {
          "output_type": "stream",
          "name": "stdout",
          "text": [
            "Executando a consulta...\n",
            "        nome\n",
            "0  Ana Silva\n"
          ]
        }
      ]
    },
    {
      "cell_type": "code",
      "source": [
        "consulta_36 = '''\n",
        "SELECT modelo\n",
        "FROM carro\n",
        "WHERE modelo LIKE '%a';\n",
        "'''\n",
        "\n",
        "# Chamada da função passando a consulta\n",
        "consulta(consulta_36)\n"
      ],
      "metadata": {
        "colab": {
          "base_uri": "https://localhost:8080/"
        },
        "id": "4DJLLpjHwopE",
        "outputId": "216b43e2-2c4a-4094-f171-54b991254da3"
      },
      "execution_count": null,
      "outputs": [
        {
          "output_type": "stream",
          "name": "stdout",
          "text": [
            "Executando a consulta...\n",
            "  modelo\n",
            "0     Ka\n"
          ]
        }
      ]
    },
    {
      "cell_type": "code",
      "source": [
        "consulta_37 = '''\n",
        "SELECT nome\n",
        "FROM cliente\n",
        "WHERE nome LIKE '%Silva%';\n",
        "'''\n",
        "\n",
        "# Chamada da função passando a consulta\n",
        "consulta(consulta_37)\n"
      ],
      "metadata": {
        "colab": {
          "base_uri": "https://localhost:8080/"
        },
        "id": "j8K3evXowsRK",
        "outputId": "44695e19-158a-4efd-8a21-5f4f45e43c3e"
      },
      "execution_count": null,
      "outputs": [
        {
          "output_type": "stream",
          "name": "stdout",
          "text": [
            "Executando a consulta...\n",
            "        nome\n",
            "0  Ana Silva\n"
          ]
        }
      ]
    },
    {
      "cell_type": "code",
      "source": [
        "consulta_38 = '''\n",
        "SELECT modelo\n",
        "FROM carro\n",
        "WHERE modelo LIKE '%o%';\n",
        "'''\n",
        "\n",
        "# Chamada da função passando a consulta\n",
        "consulta(consulta_38)\n"
      ],
      "metadata": {
        "colab": {
          "base_uri": "https://localhost:8080/"
        },
        "id": "2fK467ihwvv4",
        "outputId": "0aa030d3-0ae2-4333-9a7f-870092e05a53"
      },
      "execution_count": null,
      "outputs": [
        {
          "output_type": "stream",
          "name": "stdout",
          "text": [
            "Executando a consulta...\n",
            "  modelo\n",
            "0   Argo\n",
            "1   Onix\n",
            "2   Polo\n"
          ]
        }
      ]
    },
    {
      "cell_type": "code",
      "source": [
        "consulta_39 = '''\n",
        "SELECT nome\n",
        "FROM cliente\n",
        "WHERE nome LIKE '_____';\n",
        "'''\n",
        "\n",
        "# Chamada da função passando a consulta\n",
        "consulta(consulta_39)\n"
      ],
      "metadata": {
        "colab": {
          "base_uri": "https://localhost:8080/"
        },
        "id": "Xx73QWn6wyyz",
        "outputId": "1eee86b8-b42d-40ac-fb50-712a5569b51a"
      },
      "execution_count": null,
      "outputs": [
        {
          "output_type": "stream",
          "name": "stdout",
          "text": [
            "Executando a consulta...\n",
            "Nenhum dado encontrado.\n"
          ]
        }
      ]
    },
    {
      "cell_type": "markdown",
      "source": [
        "IN"
      ],
      "metadata": {
        "id": "PCT_cjr4w2YE"
      }
    },
    {
      "cell_type": "code",
      "source": [
        "'''\n",
        "A cláusula IN é usada dentro da cláusula WHERE para filtrar registros que\n",
        "correspondem a um ou mais valores de uma lista específica. É uma forma mais\n",
        "limpa e legível de escrever múltiplas comparações com OR.\n",
        "\n",
        "Sintaxe:\n",
        "SELECT coluna1, coluna2, ...\n",
        "FROM nome_da_tabela\n",
        "WHERE coluna IN (valor1, valor2, valor3, ...);\n",
        "\n",
        "\n",
        "'''"
      ],
      "metadata": {
        "id": "QKdIcyxdw6F7"
      },
      "execution_count": null,
      "outputs": []
    },
    {
      "cell_type": "code",
      "source": [
        "consulta_40 = '''\n",
        "SELECT nome, cidade\n",
        "FROM cliente\n",
        "WHERE cidade IN ('São Paulo', 'Campinas');\n",
        "'''\n",
        "\n",
        "# Chamada da função passando a consulta\n",
        "consulta(consulta_40)\n"
      ],
      "metadata": {
        "colab": {
          "base_uri": "https://localhost:8080/"
        },
        "id": "FBzQyrIuw9fU",
        "outputId": "abfef9cf-0dc4-4f7b-e22f-c57cffc789c6"
      },
      "execution_count": null,
      "outputs": [
        {
          "output_type": "stream",
          "name": "stdout",
          "text": [
            "Executando a consulta...\n",
            "             nome     cidade\n",
            "0  Fernando Souza   Campinas\n",
            "1   Lúcia Andrade  São Paulo\n"
          ]
        }
      ]
    },
    {
      "cell_type": "code",
      "source": [
        "consulta_41 = '''\n",
        "SELECT *\n",
        "FROM carro\n",
        "WHERE codmarca IN (2, 4);\n",
        "'''\n",
        "\n",
        "# Chamada da função passando a consulta\n",
        "consulta(consulta_41)\n"
      ],
      "metadata": {
        "colab": {
          "base_uri": "https://localhost:8080/"
        },
        "id": "b3Hu9m0QxA5i",
        "outputId": "9f202c46-a1b1-4712-a783-bcf6a73a667f"
      },
      "execution_count": null,
      "outputs": [
        {
          "output_type": "stream",
          "name": "stdout",
          "text": [
            "Executando a consulta...\n",
            "   codcarro  codmarca modelo  valor\n",
            "0         2         2   Argo  150.0\n",
            "1         4         4   Polo  150.0\n"
          ]
        }
      ]
    },
    {
      "cell_type": "code",
      "source": [
        "consulta_42 = '''\n",
        "SELECT *\n",
        "FROM aluguel\n",
        "WHERE codcliente IN (1, 3, 5);\n",
        "'''\n",
        "\n",
        "# Chamada da função passando a consulta\n",
        "consulta(consulta_42)\n"
      ],
      "metadata": {
        "colab": {
          "base_uri": "https://localhost:8080/"
        },
        "id": "eiu8G_E6xD66",
        "outputId": "c5056e04-4867-46d3-afa7-74bcdfb6d5d3"
      },
      "execution_count": null,
      "outputs": [
        {
          "output_type": "stream",
          "name": "stdout",
          "text": [
            "Executando a consulta...\n",
            "   codaluguel  codcliente  codcarro data_aluguel\n",
            "0           5           1         4   2023-04-05\n",
            "1           6           1         4   2023-04-13\n",
            "2           7           1         1   2023-04-15\n",
            "3           1           3         2   2023-04-01\n",
            "4          10           3         1   2023-04-25\n",
            "5           8           5         2   2023-04-19\n",
            "6           9           5         2   2023-04-21\n"
          ]
        }
      ]
    },
    {
      "cell_type": "code",
      "source": [
        "consulta_43 = '''\n",
        "SELECT *\n",
        "FROM carro\n",
        "WHERE valor IN (100, 150, 170);\n",
        "'''\n",
        "\n",
        "# Chamada da função passando a consulta\n",
        "consulta(consulta_43)\n"
      ],
      "metadata": {
        "colab": {
          "base_uri": "https://localhost:8080/"
        },
        "id": "8GGaD94axHAB",
        "outputId": "55f3ed4c-11de-4c52-8a7c-92d71c6f970f"
      },
      "execution_count": null,
      "outputs": [
        {
          "output_type": "stream",
          "name": "stdout",
          "text": [
            "Executando a consulta...\n",
            "   codcarro  codmarca modelo  valor\n",
            "0         1         1     Ka  100.0\n",
            "1         2         2   Argo  150.0\n",
            "2         3         3   Onix  170.0\n",
            "3         4         4   Polo  150.0\n"
          ]
        }
      ]
    },
    {
      "cell_type": "code",
      "source": [
        "'''\n",
        "44. Liste os clientes que estão nos estados 'RJ' e 'SP'.\n",
        "\n",
        "\n",
        "\n",
        "'''"
      ],
      "metadata": {
        "id": "qGJyKD2ExKHk"
      },
      "execution_count": null,
      "outputs": []
    },
    {
      "cell_type": "code",
      "source": [
        "consulta_44 = '''\n",
        "SELECT *\n",
        "FROM cliente\n",
        "WHERE estado IN ('RJ', 'SP');\n",
        "'''\n",
        "\n",
        "# Chamada da função passando a consulta\n",
        "consulta(consulta_44)\n"
      ],
      "metadata": {
        "colab": {
          "base_uri": "https://localhost:8080/"
        },
        "id": "poYJ984kU1LT",
        "outputId": "dbb1e237-5c2a-45f2-e634-ccfcce98193d"
      },
      "execution_count": null,
      "outputs": [
        {
          "output_type": "stream",
          "name": "stdout",
          "text": [
            "Executando a consulta...\n",
            "   codcliente              nome           cidade sexo estado estadocivil\n",
            "0           1         Ana Silva  Duque de Caxias    F     RJ           C\n",
            "1           2     Bruna Pereira          Niterói    F     RJ           C\n",
            "2           3  Túlio Nascimento  Duque de Caxias    M     RJ           S\n",
            "3           4    Fernando Souza         Campinas    M     SP           S\n",
            "4           5     Lúcia Andrade        São Paulo    F     SP           C\n"
          ]
        }
      ]
    },
    {
      "cell_type": "markdown",
      "source": [
        "BETWEEN"
      ],
      "metadata": {
        "id": "f2XQV0BDxNBB"
      }
    },
    {
      "cell_type": "code",
      "source": [
        "'''\n",
        "A cláusula BETWEEN é usada na cláusula WHERE para filtrar os resultados dentro\n",
        "de um intervalo de valores. Esse intervalo pode ser de números, datas ou até\n",
        "textos (em ordem alfabética).\n",
        "\n",
        "Sintaxe:\n",
        "SELECT coluna1, coluna2, ...\n",
        "FROM nome_da_tabela\n",
        "WHERE coluna BETWEEN valor_inicial AND valor_final;\n",
        "\n",
        "'''"
      ],
      "metadata": {
        "id": "pQhbXTB6xQjs"
      },
      "execution_count": null,
      "outputs": []
    },
    {
      "cell_type": "code",
      "source": [
        "'''\n",
        "45. Liste os carros com valor entre 120 e 160 reais.\n",
        "\n",
        "\n",
        "\n",
        "'''"
      ],
      "metadata": {
        "id": "uvzrXcedxVAm"
      },
      "execution_count": null,
      "outputs": []
    },
    {
      "cell_type": "code",
      "source": [
        "consulta_45 = '''\n",
        "SELECT *\n",
        "FROM carro\n",
        "WHERE valor BETWEEN 120 AND 160;\n",
        "'''\n",
        "\n",
        "# Chamada da função passando a consulta\n",
        "consulta(consulta_45)\n"
      ],
      "metadata": {
        "colab": {
          "base_uri": "https://localhost:8080/"
        },
        "id": "ujTCEojOU-HY",
        "outputId": "39f1ec14-1ef0-49d3-9a38-83214b6aefb9"
      },
      "execution_count": null,
      "outputs": [
        {
          "output_type": "stream",
          "name": "stdout",
          "text": [
            "Executando a consulta...\n",
            "   codcarro  codmarca modelo  valor\n",
            "0         2         2   Argo  150.0\n",
            "1         4         4   Polo  150.0\n",
            "2         5         5   Kwid  120.0\n"
          ]
        }
      ]
    },
    {
      "cell_type": "code",
      "source": [
        "'''\n",
        "46. Mostre os aluguéis realizados entre '2023-04-01' e '2023-04-10'.\n",
        "\n",
        "\n",
        "\n",
        "'''"
      ],
      "metadata": {
        "id": "gvfFxCwIxX4w"
      },
      "execution_count": null,
      "outputs": []
    },
    {
      "cell_type": "code",
      "source": [
        "consulta_46 = '''\n",
        "SELECT *\n",
        "FROM aluguel\n",
        "WHERE data_aluguel BETWEEN '2023-04-01' AND '2023-04-10';\n",
        "'''\n",
        "\n",
        "# Chamada da função passando a consulta\n",
        "consulta(consulta_46)\n"
      ],
      "metadata": {
        "colab": {
          "base_uri": "https://localhost:8080/"
        },
        "id": "hTzW8myuVD5h",
        "outputId": "41bfe9e5-b016-4fe8-a4c5-eaf0f2a237fd"
      },
      "execution_count": null,
      "outputs": [
        {
          "output_type": "stream",
          "name": "stdout",
          "text": [
            "Executando a consulta...\n",
            "   codaluguel  codcliente  codcarro data_aluguel\n",
            "0           1           3         2   2023-04-01\n",
            "1           2           2         1   2023-04-02\n",
            "2           3           2         1   2023-04-03\n",
            "3           4           2         3   2023-04-04\n",
            "4           5           1         4   2023-04-05\n"
          ]
        }
      ]
    },
    {
      "cell_type": "code",
      "source": [
        "'''\n",
        "47. Exiba os carros cujo código está entre 2 e 4.\n",
        "\n",
        "\n",
        "\n",
        "'''"
      ],
      "metadata": {
        "id": "3HetbuOUxfqo"
      },
      "execution_count": null,
      "outputs": []
    },
    {
      "cell_type": "code",
      "source": [
        "consulta_47 = '''\n",
        "SELECT *\n",
        "FROM carro\n",
        "WHERE codcarro BETWEEN 2 AND 4;\n",
        "'''\n",
        "\n",
        "# Chamada da função passando a consulta\n",
        "consulta(consulta_47)\n"
      ],
      "metadata": {
        "colab": {
          "base_uri": "https://localhost:8080/"
        },
        "id": "KCg_hWW9VMCy",
        "outputId": "8a92b911-5470-4957-8271-dd2708ea8d3d"
      },
      "execution_count": null,
      "outputs": [
        {
          "output_type": "stream",
          "name": "stdout",
          "text": [
            "Executando a consulta...\n",
            "   codcarro  codmarca modelo  valor\n",
            "0         2         2   Argo  150.0\n",
            "1         3         3   Onix  170.0\n",
            "2         4         4   Polo  150.0\n"
          ]
        }
      ]
    },
    {
      "cell_type": "code",
      "source": [
        "'''\n",
        "48. Mostre os clientes com código entre 2 e 4.\n",
        "\n",
        "\n",
        "\n",
        "'''"
      ],
      "metadata": {
        "id": "olvwpNe5xh5O"
      },
      "execution_count": null,
      "outputs": []
    },
    {
      "cell_type": "code",
      "source": [
        "consulta_48 = '''\n",
        "SELECT *\n",
        "FROM cliente\n",
        "WHERE codcliente BETWEEN 2 AND 4;\n",
        "'''\n",
        "\n",
        "# Chamada da função passando a consulta\n",
        "consulta(consulta_48)\n"
      ],
      "metadata": {
        "colab": {
          "base_uri": "https://localhost:8080/"
        },
        "id": "vPAHKi5hVRfw",
        "outputId": "221d1161-b143-4e92-f7c5-940dfbfeb659"
      },
      "execution_count": null,
      "outputs": [
        {
          "output_type": "stream",
          "name": "stdout",
          "text": [
            "Executando a consulta...\n",
            "   codcliente              nome           cidade sexo estado estadocivil\n",
            "0           2     Bruna Pereira          Niterói    F     RJ           C\n",
            "1           3  Túlio Nascimento  Duque de Caxias    M     RJ           S\n",
            "2           4    Fernando Souza         Campinas    M     SP           S\n"
          ]
        }
      ]
    },
    {
      "cell_type": "code",
      "source": [
        "'''\n",
        "49. Liste os carros com valores entre 100 e 150 reais, inclusive.\n",
        "\n",
        "\n",
        "\n",
        "'''"
      ],
      "metadata": {
        "id": "Wg_7eCPrxlDE"
      },
      "execution_count": null,
      "outputs": []
    },
    {
      "cell_type": "code",
      "source": [
        "consulta_49 = '''\n",
        "SELECT *\n",
        "FROM carro\n",
        "WHERE valor BETWEEN 100 AND 150;\n",
        "'''\n",
        "\n",
        "# Chamada da função passando a consulta\n",
        "consulta(consulta_49)\n"
      ],
      "metadata": {
        "colab": {
          "base_uri": "https://localhost:8080/"
        },
        "id": "loc9_SAoVXRt",
        "outputId": "fd94b52e-3cd1-4be4-a5e7-7d1ce65ee2cf"
      },
      "execution_count": null,
      "outputs": [
        {
          "output_type": "stream",
          "name": "stdout",
          "text": [
            "Executando a consulta...\n",
            "   codcarro  codmarca modelo  valor\n",
            "0         1         1     Ka  100.0\n",
            "1         2         2   Argo  150.0\n",
            "2         4         4   Polo  150.0\n",
            "3         5         5   Kwid  120.0\n"
          ]
        }
      ]
    },
    {
      "cell_type": "markdown",
      "source": [
        "AGREGAÇÃO"
      ],
      "metadata": {
        "id": "sU9wqDGcxqCs"
      }
    },
    {
      "cell_type": "code",
      "source": [
        "'''\n",
        "As funções de agregação em SQL são usadas para realizar cálculos sobre um\n",
        "conjunto de valores, geralmente em uma ou mais colunas, e retornar um único\n",
        "resultado. Elas são muito utilizadas em relatórios, análises e resumos de dados.\n",
        "\n",
        "Principais funções de agregação:\n",
        "Função\t  O que faz\n",
        "COUNT()\t  Conta o número de registros\n",
        "SUM()\t    Soma os valores numéricos de uma coluna\n",
        "AVG()\t    Calcula a média dos valores\n",
        "MAX()\t    Retorna o maior valor\n",
        "MIN()\t    Retorna o menor valor\n",
        "\n",
        "Sintaxe:\n",
        "SELECT FUNÇÃO_AGREGACAO(coluna)\n",
        "FROM nome_da_tabela;\n",
        "\n",
        "'''"
      ],
      "metadata": {
        "id": "q3jyDw2qxrTr"
      },
      "execution_count": null,
      "outputs": []
    },
    {
      "cell_type": "code",
      "source": [
        "'''\n",
        "50. Conte quantos clientes estão cadastrados no sistema.\n",
        "\n",
        "\n",
        "\n",
        "'''"
      ],
      "metadata": {
        "id": "Iglakur8xu6O"
      },
      "execution_count": null,
      "outputs": []
    },
    {
      "cell_type": "code",
      "source": [
        "consulta_50 = '''\n",
        "SELECT COUNT(*)\n",
        "FROM cliente;\n",
        "'''\n",
        "\n",
        "# Chamada da função passando a consulta\n",
        "consulta(consulta_50)\n"
      ],
      "metadata": {
        "colab": {
          "base_uri": "https://localhost:8080/"
        },
        "id": "ex1AFHhqVf-4",
        "outputId": "7a2affce-d64c-4c53-e686-037753e05839"
      },
      "execution_count": null,
      "outputs": [
        {
          "output_type": "stream",
          "name": "stdout",
          "text": [
            "Executando a consulta...\n",
            "   COUNT(*)\n",
            "0         5\n"
          ]
        }
      ]
    },
    {
      "cell_type": "code",
      "source": [
        "'''\n",
        "51. Conte quantos carros existem na tabela carro.\n",
        "\n",
        "\n",
        "\n",
        "'''"
      ],
      "metadata": {
        "id": "Y-XtTFwPxyFu"
      },
      "execution_count": null,
      "outputs": []
    },
    {
      "cell_type": "code",
      "source": [
        "\n",
        "consulta_51 = '''\n",
        "SELECT COUNT(*)\n",
        "FROM carro;\n",
        "'''\n",
        "\n",
        "# Chamada da função passando a consulta\n",
        "consulta(consulta_51)\n"
      ],
      "metadata": {
        "colab": {
          "base_uri": "https://localhost:8080/"
        },
        "id": "K64qoBL1Vk_d",
        "outputId": "9d99b590-b930-4792-d933-88a38892b089"
      },
      "execution_count": null,
      "outputs": [
        {
          "output_type": "stream",
          "name": "stdout",
          "text": [
            "Executando a consulta...\n",
            "   COUNT(*)\n",
            "0         5\n"
          ]
        }
      ]
    },
    {
      "cell_type": "code",
      "source": [
        "'''\n",
        "52. Calcule o valor médio dos carros cadastrados.\n",
        "\n",
        "\n",
        "\n",
        "'''"
      ],
      "metadata": {
        "id": "So6bog1Vx1Nz"
      },
      "execution_count": null,
      "outputs": []
    },
    {
      "cell_type": "code",
      "source": [
        "consulta_52 = '''\n",
        "SELECT AVG(valor)\n",
        "FROM carro;\n",
        "'''\n",
        "\n",
        "# Chamada da função passando a consulta\n",
        "consulta(consulta_52)\n"
      ],
      "metadata": {
        "colab": {
          "base_uri": "https://localhost:8080/"
        },
        "id": "rliXYj1kVtRO",
        "outputId": "ae9944c7-730d-4d7e-afa5-0da093ee210f"
      },
      "execution_count": null,
      "outputs": [
        {
          "output_type": "stream",
          "name": "stdout",
          "text": [
            "Executando a consulta...\n",
            "   AVG(valor)\n",
            "0       138.0\n"
          ]
        }
      ]
    },
    {
      "cell_type": "code",
      "source": [
        "'''\n",
        "53. Encontre o valor mais caro entre os carros cadastrados.\n",
        "\n",
        "\n",
        "\n",
        "'''"
      ],
      "metadata": {
        "id": "9hISJgh2x4b5"
      },
      "execution_count": null,
      "outputs": []
    },
    {
      "cell_type": "code",
      "source": [
        "consulta_53 = '''\n",
        "SELECT MAX(valor)\n",
        "FROM carro;\n",
        "'''\n",
        "\n",
        "# Chamada da função passando a consulta\n",
        "consulta(consulta_53)\n"
      ],
      "metadata": {
        "colab": {
          "base_uri": "https://localhost:8080/"
        },
        "id": "h20u9pWGVyel",
        "outputId": "c4a5123c-e3ab-4241-a5b3-2a1413ade13e"
      },
      "execution_count": null,
      "outputs": [
        {
          "output_type": "stream",
          "name": "stdout",
          "text": [
            "Executando a consulta...\n",
            "   MAX(valor)\n",
            "0       170.0\n"
          ]
        }
      ]
    },
    {
      "cell_type": "code",
      "source": [
        "'''\n",
        "54. Encontre o valor mais barato entre os carros cadastrados.\n",
        "\n",
        "\n",
        "\n",
        "'''"
      ],
      "metadata": {
        "id": "OD_nfH0Jx7TN"
      },
      "execution_count": null,
      "outputs": []
    },
    {
      "cell_type": "code",
      "source": [
        "consulta_54 = '''\n",
        "SELECT MIN(valor)\n",
        "FROM carro;\n",
        "'''\n",
        "\n",
        "# Chamada da função passando a consulta\n",
        "consulta(consulta_54)\n"
      ],
      "metadata": {
        "colab": {
          "base_uri": "https://localhost:8080/"
        },
        "id": "bqkJU9_YV3iK",
        "outputId": "0e31b305-cf63-4834-c7ad-433979dfd36d"
      },
      "execution_count": null,
      "outputs": [
        {
          "output_type": "stream",
          "name": "stdout",
          "text": [
            "Executando a consulta...\n",
            "   MIN(valor)\n",
            "0       100.0\n"
          ]
        }
      ]
    },
    {
      "cell_type": "code",
      "source": [
        "'''\n",
        "55. Conte quantos aluguéis foram realizados no total.\n",
        "\n",
        "\n",
        "\n",
        "'''"
      ],
      "metadata": {
        "id": "uVAADhhQx-WF"
      },
      "execution_count": null,
      "outputs": []
    },
    {
      "cell_type": "code",
      "source": [
        "consulta_55 = '''\n",
        "SELECT COUNT(*)\n",
        "FROM aluguel;\n",
        "'''\n",
        "\n",
        "# Chamada da função passando a consulta\n",
        "consulta(consulta_55)\n"
      ],
      "metadata": {
        "colab": {
          "base_uri": "https://localhost:8080/"
        },
        "id": "CpNsPRZnV871",
        "outputId": "e29a5085-c1dd-4992-d66f-910b54c2fb01"
      },
      "execution_count": null,
      "outputs": [
        {
          "output_type": "stream",
          "name": "stdout",
          "text": [
            "Executando a consulta...\n",
            "   COUNT(*)\n",
            "0        10\n"
          ]
        }
      ]
    },
    {
      "cell_type": "code",
      "source": [
        "'''\n",
        "56. Calcule a soma total dos valores dos carros cadastrados.\n",
        "\n",
        "\n",
        "\n",
        "'''"
      ],
      "metadata": {
        "id": "WzEDKtvzyBSA"
      },
      "execution_count": null,
      "outputs": []
    },
    {
      "cell_type": "code",
      "source": [
        "consulta_56 = '''\n",
        "SELECT SUM(valor)\n",
        "FROM carro;\n",
        "'''\n",
        "\n",
        "# Chamada da função passando a consulta\n",
        "consulta(consulta_56)\n"
      ],
      "metadata": {
        "colab": {
          "base_uri": "https://localhost:8080/"
        },
        "id": "n0N5I1OiWCPu",
        "outputId": "2a04b05b-f5e2-4b1e-f956-98534b99ec1b"
      },
      "execution_count": null,
      "outputs": [
        {
          "output_type": "stream",
          "name": "stdout",
          "text": [
            "Executando a consulta...\n",
            "   SUM(valor)\n",
            "0       690.0\n"
          ]
        }
      ]
    },
    {
      "cell_type": "code",
      "source": [
        "'''\n",
        "57. Calcule a média de caracteres nos nomes dos clientes (apenas como curiosidade\n",
        "de uso com CHAR_LENGTH).\n",
        "\n",
        "\n",
        "\n",
        "'''"
      ],
      "metadata": {
        "id": "x--tKt5_yEUA"
      },
      "execution_count": null,
      "outputs": []
    },
    {
      "cell_type": "code",
      "source": [
        "consulta_57 = '''\n",
        "SELECT AVG(CHAR_LENGTH(nome))\n",
        "FROM cliente;\n",
        "'''\n",
        "\n",
        "# Chamada da função passando a consulta\n",
        "consulta(consulta_57)\n"
      ],
      "metadata": {
        "colab": {
          "base_uri": "https://localhost:8080/"
        },
        "id": "fTtr4V7LWIMS",
        "outputId": "eeddbe48-919b-4112-ca96-7497e36a1e72"
      },
      "execution_count": null,
      "outputs": [
        {
          "output_type": "stream",
          "name": "stdout",
          "text": [
            "Executando a consulta...\n",
            "  AVG(CHAR_LENGTH(nome))\n",
            "0                13.0000\n"
          ]
        }
      ]
    },
    {
      "cell_type": "code",
      "source": [
        "'''\n",
        "58. Conte quantos clientes são do sexo feminino.\n",
        "\n",
        "\n",
        "\n",
        "'''"
      ],
      "metadata": {
        "id": "kyRGaw_JyHQI"
      },
      "execution_count": null,
      "outputs": []
    },
    {
      "cell_type": "code",
      "source": [
        "consulta_58 = '''\n",
        "SELECT COUNT(*)\n",
        "FROM cliente\n",
        "WHERE sexo = 'F';\n",
        "'''\n",
        "\n",
        "# Chamada da função passando a consulta\n",
        "consulta(consulta_58)\n"
      ],
      "metadata": {
        "colab": {
          "base_uri": "https://localhost:8080/"
        },
        "id": "UsC_pO9RWOF8",
        "outputId": "5e3a95fb-16a0-4724-85c9-5ad9bdf749b1"
      },
      "execution_count": null,
      "outputs": [
        {
          "output_type": "stream",
          "name": "stdout",
          "text": [
            "Executando a consulta...\n",
            "   COUNT(*)\n",
            "0         3\n"
          ]
        }
      ]
    },
    {
      "cell_type": "code",
      "source": [
        "'''\n",
        "59. Conte quantos aluguéis foram feitos no mês de abril (considerando apenas ano e mês)\n",
        "\n",
        "\n",
        "\n",
        "'''"
      ],
      "metadata": {
        "id": "Phj70SvPyKKB"
      },
      "execution_count": null,
      "outputs": []
    },
    {
      "cell_type": "code",
      "source": [
        "consulta_59 = '''\n",
        "SELECT COUNT(*)\n",
        "FROM aluguel\n",
        "WHERE DATE_FORMAT(data_aluguel, '%Y-%m') = '2023-04';\n",
        "'''\n",
        "\n",
        "# Chamada da função passando a consulta\n",
        "consulta(consulta_59)\n"
      ],
      "metadata": {
        "colab": {
          "base_uri": "https://localhost:8080/"
        },
        "id": "FNykagcEWTs_",
        "outputId": "ab85be45-db49-4afc-c10c-f83e8cac2e2d"
      },
      "execution_count": null,
      "outputs": [
        {
          "output_type": "stream",
          "name": "stdout",
          "text": [
            "Executando a consulta...\n",
            "   COUNT(*)\n",
            "0        10\n"
          ]
        }
      ]
    },
    {
      "cell_type": "markdown",
      "source": [
        "GROUP BY"
      ],
      "metadata": {
        "id": "B-B02KfgyNtw"
      }
    },
    {
      "cell_type": "code",
      "source": [
        "'''\n",
        "A cláusula GROUP BY é usada para agrupar os resultados de uma consulta com base\n",
        "nos valores de uma ou mais colunas. Ela é geralmente usada junto com funções de\n",
        "agregação (SUM, AVG, COUNT, MAX, MIN) para resumir dados por grupo.\n",
        "\n",
        "\n",
        "SELECT coluna_agrupada, FUNCAO_AGREGACAO(coluna)\n",
        "FROM nome_da_tabela\n",
        "GROUP BY coluna_agrupada;\n",
        "\n",
        "Observações importantes:\n",
        "Toda coluna que não está em uma função de agregação deve obrigatoriamente\n",
        "estar no GROUP BY.\n",
        "\n",
        "Errado:\n",
        "SELECT nome, AVG(salario) FROM funcionarios; -- ERRO!\n",
        "\n",
        "Certo:\n",
        "SELECT departamento, AVG(salario) FROM funcionarios\n",
        "GROUP BY departamento;\n",
        "A cláusula GROUP BY vem depois do WHERE e antes do ORDER BY, se forem usadas\n",
        "juntas.\n",
        "\n",
        "\n",
        "\n",
        "'''"
      ],
      "metadata": {
        "id": "trML3UpOySAF"
      },
      "execution_count": null,
      "outputs": []
    },
    {
      "cell_type": "code",
      "source": [
        "'''\n",
        "60. Conte quantos clientes existem por estado.\n",
        "\n",
        "\n",
        "\n",
        "'''"
      ],
      "metadata": {
        "id": "u6uNmIqVyWVn"
      },
      "execution_count": null,
      "outputs": []
    },
    {
      "cell_type": "code",
      "source": [
        "consulta_60 = '''\n",
        "SELECT estado, COUNT(*)\n",
        "FROM cliente\n",
        "GROUP BY estado;\n",
        "'''\n",
        "\n",
        "# Chamada da função passando a consulta\n",
        "consulta(consulta_60)\n"
      ],
      "metadata": {
        "colab": {
          "base_uri": "https://localhost:8080/"
        },
        "id": "BgmLUlAcWbAz",
        "outputId": "5e4c5107-1922-4d90-9d77-1ec0aecc0e7f"
      },
      "execution_count": null,
      "outputs": [
        {
          "output_type": "stream",
          "name": "stdout",
          "text": [
            "Executando a consulta...\n",
            "  estado  COUNT(*)\n",
            "0     RJ         3\n",
            "1     SP         2\n"
          ]
        }
      ]
    },
    {
      "cell_type": "code",
      "source": [
        "'''\n",
        "61. Mostre a quantidade de clientes por cidade.\n",
        "\n",
        "\n",
        "\n",
        "'''"
      ],
      "metadata": {
        "id": "2Hquc7PFyZnb"
      },
      "execution_count": null,
      "outputs": []
    },
    {
      "cell_type": "code",
      "source": [
        "consulta_61 = '''\n",
        "SELECT cidade, COUNT(*)\n",
        "FROM cliente\n",
        "GROUP BY cidade;\n",
        "'''\n",
        "\n",
        "# Chamada da função passando a consulta\n",
        "consulta(consulta_61)\n"
      ],
      "metadata": {
        "colab": {
          "base_uri": "https://localhost:8080/"
        },
        "id": "XPx-PunxWgXI",
        "outputId": "02c2155e-2e48-48e3-c625-fde105737a65"
      },
      "execution_count": null,
      "outputs": [
        {
          "output_type": "stream",
          "name": "stdout",
          "text": [
            "Executando a consulta...\n",
            "            cidade  COUNT(*)\n",
            "0  Duque de Caxias         2\n",
            "1          Niterói         1\n",
            "2         Campinas         1\n",
            "3        São Paulo         1\n"
          ]
        }
      ]
    },
    {
      "cell_type": "code",
      "source": [
        "'''\n",
        "62. Liste quantos carros há por marca.\n",
        "\n",
        "\n",
        "\n",
        "'''"
      ],
      "metadata": {
        "id": "1TtUg7XZydLI"
      },
      "execution_count": null,
      "outputs": []
    },
    {
      "cell_type": "code",
      "source": [
        "consulta_62 = '''\n",
        "SELECT marca.marca, COUNT(carro.codcarro) AS quantidade_carros\n",
        "FROM carro\n",
        "JOIN marca ON carro.codmarca = marca.codmarca\n",
        "GROUP BY marca.marca;\n",
        "'''\n",
        "\n",
        "# Chamada da função passando a consulta\n",
        "consulta(consulta_62)\n"
      ],
      "metadata": {
        "colab": {
          "base_uri": "https://localhost:8080/"
        },
        "id": "Gm1fhLQyWm8j",
        "outputId": "a17f3a41-fa24-44d6-b475-56eb7b37d83a"
      },
      "execution_count": null,
      "outputs": [
        {
          "output_type": "stream",
          "name": "stdout",
          "text": [
            "Executando a consulta...\n",
            "        marca  quantidade_carros\n",
            "0        Ford                  1\n",
            "1        Fiat                  1\n",
            "2   Chevrolet                  1\n",
            "3  Volkswagen                  1\n",
            "4     Renault                  1\n"
          ]
        }
      ]
    },
    {
      "cell_type": "code",
      "source": [
        "'''\n",
        "63. Exiba quantos aluguéis foram feitos por cliente.\n",
        "\n",
        "\n",
        "\n",
        "'''"
      ],
      "metadata": {
        "id": "6X3VwOxbyg0z"
      },
      "execution_count": null,
      "outputs": []
    },
    {
      "cell_type": "code",
      "source": [
        "consulta_63 = '''\n",
        "SELECT cliente.codcliente, cliente.nome, COUNT(aluguel.codaluguel) AS quantidade_alugueis\n",
        "FROM cliente\n",
        "JOIN aluguel ON cliente.codcliente = aluguel.codcliente\n",
        "GROUP BY cliente.codcliente;\n",
        "'''\n",
        "\n",
        "# Chamada da função passando a consulta\n",
        "consulta(consulta_63)\n"
      ],
      "metadata": {
        "colab": {
          "base_uri": "https://localhost:8080/"
        },
        "id": "mCei_dD0WtJU",
        "outputId": "25e94519-8b97-4f06-9e17-0c78ab756cc6"
      },
      "execution_count": null,
      "outputs": [
        {
          "output_type": "stream",
          "name": "stdout",
          "text": [
            "Executando a consulta...\n",
            "   codcliente              nome  quantidade_alugueis\n",
            "0           1         Ana Silva                    3\n",
            "1           2     Bruna Pereira                    3\n",
            "2           3  Túlio Nascimento                    2\n",
            "3           5     Lúcia Andrade                    2\n"
          ]
        }
      ]
    },
    {
      "cell_type": "code",
      "source": [
        "'''\n",
        "64. Mostre quantos aluguéis cada carro recebeu.\n",
        "\n",
        "\n",
        "\n",
        "'''"
      ],
      "metadata": {
        "id": "wcCl1Qe1yjxB"
      },
      "execution_count": null,
      "outputs": []
    },
    {
      "cell_type": "code",
      "source": [
        "consulta_64 = '''\n",
        "SELECT carro.codcarro, carro.modelo, COUNT(aluguel.codaluguel) AS quantidade_alugueis\n",
        "FROM carro\n",
        "JOIN aluguel ON carro.codcarro = aluguel.codcarro\n",
        "GROUP BY carro.codcarro;\n",
        "'''\n",
        "\n",
        "# Chamada da função passando a consulta\n",
        "consulta(consulta_64)\n"
      ],
      "metadata": {
        "colab": {
          "base_uri": "https://localhost:8080/"
        },
        "id": "ePsRVhAQWzgH",
        "outputId": "7bd83246-0e2e-43f3-cb39-fe087d4e8682"
      },
      "execution_count": null,
      "outputs": [
        {
          "output_type": "stream",
          "name": "stdout",
          "text": [
            "Executando a consulta...\n",
            "   codcarro modelo  quantidade_alugueis\n",
            "0         1     Ka                    4\n",
            "1         2   Argo                    3\n",
            "2         3   Onix                    1\n",
            "3         4   Polo                    2\n"
          ]
        }
      ]
    },
    {
      "cell_type": "markdown",
      "source": [
        "HAVING"
      ],
      "metadata": {
        "id": "ulJRFWNtypCl"
      }
    },
    {
      "cell_type": "code",
      "source": [
        "'''\n",
        "Cláusula HAVING em SQL\n",
        "A cláusula HAVING é usada para filtrar os resultados depois do agrupamento\n",
        "feito com GROUP BY. Ou seja, enquanto o WHERE filtra linhas individuais, o\n",
        "HAVING filtra grupos.\n",
        "\n",
        "Quando usar HAVING?\n",
        "Você usa HAVING junto com funções de agregação (SUM, AVG, COUNT, etc.) para\n",
        "manter apenas os grupos que atendem a uma condição específica.\n",
        "\n",
        "SELECT coluna_agrupada, FUNCAO_AGREGACAO(coluna)\n",
        "FROM nome_da_tabela\n",
        "GROUP BY coluna_agrupada\n",
        "HAVING condição_sobre_o_grupo;\n",
        "\n",
        "\n",
        "'''"
      ],
      "metadata": {
        "id": "W5BOn1I2yqgL"
      },
      "execution_count": null,
      "outputs": []
    },
    {
      "cell_type": "code",
      "source": [
        "'''\n",
        "65. Liste as cidades com mais de 1 cliente cadastrado.\n",
        "\n",
        "\n",
        "\n",
        "'''"
      ],
      "metadata": {
        "id": "tAnIO7hzyxYV"
      },
      "execution_count": null,
      "outputs": []
    },
    {
      "cell_type": "code",
      "source": [
        "consulta_65 = '''\n",
        "SELECT cidade, COUNT(*) AS quantidade_clientes\n",
        "FROM cliente\n",
        "GROUP BY cidade\n",
        "HAVING COUNT(*) > 1;\n",
        "'''\n",
        "\n",
        "# Chamada da função passando a consulta\n",
        "consulta(consulta_65)\n"
      ],
      "metadata": {
        "colab": {
          "base_uri": "https://localhost:8080/"
        },
        "id": "tP6YMMbUW7w_",
        "outputId": "de65f361-908f-427a-b91d-0db2a9b5118c"
      },
      "execution_count": null,
      "outputs": [
        {
          "output_type": "stream",
          "name": "stdout",
          "text": [
            "Executando a consulta...\n",
            "            cidade  quantidade_clientes\n",
            "0  Duque de Caxias                    2\n"
          ]
        }
      ]
    },
    {
      "cell_type": "code",
      "source": [
        "'''\n",
        "66. Mostre os clientes que fizeram mais de 2 aluguéis.\n",
        "\n",
        "\n",
        "\n",
        "'''"
      ],
      "metadata": {
        "id": "_LaZfv3ny1iD"
      },
      "execution_count": null,
      "outputs": []
    },
    {
      "cell_type": "code",
      "source": [
        "consulta_66 = '''\n",
        "SELECT c.codcliente, c.nome, COUNT(a.codaluguel) AS total_alugueis\n",
        "FROM cliente c\n",
        "JOIN aluguel a ON c.codcliente = a.codcliente\n",
        "GROUP BY c.codcliente, c.nome\n",
        "HAVING COUNT(a.codaluguel) > 2;\n",
        "'''\n",
        "\n",
        "# Chamada da função passando a consulta\n",
        "consulta(consulta_66)\n"
      ],
      "metadata": {
        "colab": {
          "base_uri": "https://localhost:8080/"
        },
        "id": "QytqhkszXEgc",
        "outputId": "bf4dcb27-e783-4141-c770-21e5d93ddb96"
      },
      "execution_count": null,
      "outputs": [
        {
          "output_type": "stream",
          "name": "stdout",
          "text": [
            "Executando a consulta...\n",
            "   codcliente           nome  total_alugueis\n",
            "0           1      Ana Silva               3\n",
            "1           2  Bruna Pereira               3\n"
          ]
        }
      ]
    },
    {
      "cell_type": "code",
      "source": [
        "'''\n",
        "67. Exiba as marcas que possuem mais de 1 modelo de carro.\n",
        "\n",
        "\n",
        "\n",
        "'''"
      ],
      "metadata": {
        "id": "FdqHtC4vy46e"
      },
      "execution_count": null,
      "outputs": []
    },
    {
      "cell_type": "code",
      "source": [
        "consulta_67 = '''\n",
        "SELECT m.codmarca, m.marca, COUNT(c.codcarro) AS total_modelos\n",
        "FROM marca m\n",
        "JOIN carro c ON m.codmarca = c.codmarca\n",
        "GROUP BY m.codmarca, m.marca\n",
        "HAVING COUNT(c.codcarro) > 1;\n",
        "'''\n",
        "\n",
        "# Chamada da função passando a consulta\n",
        "consulta(consulta_67)\n"
      ],
      "metadata": {
        "colab": {
          "base_uri": "https://localhost:8080/"
        },
        "id": "YCcULtBYXKhK",
        "outputId": "cd12f286-29a0-419d-b364-c5a121cec597"
      },
      "execution_count": null,
      "outputs": [
        {
          "output_type": "stream",
          "name": "stdout",
          "text": [
            "Executando a consulta...\n",
            "Nenhum dado encontrado.\n"
          ]
        }
      ]
    },
    {
      "cell_type": "code",
      "source": [
        "'''\n",
        "68. Mostre os carros que foram alugados mais de uma vez.\n",
        "\n",
        "\n",
        "\n",
        "'''"
      ],
      "metadata": {
        "id": "DlzQrpwvy8KL"
      },
      "execution_count": null,
      "outputs": []
    },
    {
      "cell_type": "code",
      "source": [
        "consulta_68 = '''\n",
        "SELECT c.codcarro, c.modelo, COUNT(a.codaluguel) AS total_alugueis\n",
        "FROM carro c\n",
        "JOIN aluguel a ON c.codcarro = a.codcarro\n",
        "GROUP BY c.codcarro, c.modelo\n",
        "HAVING COUNT(a.codaluguel) > 1;\n",
        "'''\n",
        "\n",
        "# Chamada da função passando a consulta\n",
        "consulta(consulta_68)\n"
      ],
      "metadata": {
        "colab": {
          "base_uri": "https://localhost:8080/"
        },
        "id": "hV153LRIXQhj",
        "outputId": "7063c63c-ccac-4625-fef1-393e0e6bacba"
      },
      "execution_count": null,
      "outputs": [
        {
          "output_type": "stream",
          "name": "stdout",
          "text": [
            "Executando a consulta...\n",
            "   codcarro modelo  total_alugueis\n",
            "0         1     Ka               4\n",
            "1         2   Argo               3\n",
            "2         4   Polo               2\n"
          ]
        }
      ]
    },
    {
      "cell_type": "code",
      "source": [
        "'''\n",
        "69. Liste os estados com mais de 2 clientes cadastrados.\n",
        "\n",
        "\n",
        "\n",
        "'''"
      ],
      "metadata": {
        "id": "JNtasD0ny_eL"
      },
      "execution_count": null,
      "outputs": []
    },
    {
      "cell_type": "code",
      "source": [
        "consulta_69 = '''\n",
        "SELECT estado, COUNT(*) AS total_clientes\n",
        "FROM cliente\n",
        "GROUP BY estado\n",
        "HAVING COUNT(*) > 2;\n",
        "'''\n",
        "\n",
        "# Chamada da função passando a consulta\n",
        "consulta(consulta_69)\n"
      ],
      "metadata": {
        "colab": {
          "base_uri": "https://localhost:8080/"
        },
        "id": "4aV3z3ugXVtm",
        "outputId": "78fbb457-1193-4ab4-96ef-c369da472989"
      },
      "execution_count": null,
      "outputs": [
        {
          "output_type": "stream",
          "name": "stdout",
          "text": [
            "Executando a consulta...\n",
            "  estado  total_clientes\n",
            "0     RJ               3\n"
          ]
        }
      ]
    },
    {
      "cell_type": "markdown",
      "source": [
        "CASE WHEN"
      ],
      "metadata": {
        "id": "6S8QPBJvzCjp"
      }
    },
    {
      "cell_type": "code",
      "source": [
        "'''\n",
        "A cláusula CASE WHEN funciona como uma estrutura condicional, parecida com um\n",
        "IF ou SE em outras linguagens. Ela permite criar colunas calculadas com base em\n",
        "condições dentro da consulta SQL.\n",
        "\n",
        "Sintaxe:\n",
        "\n",
        "SELECT\n",
        "  coluna1,\n",
        "  CASE\n",
        "    WHEN condição1 THEN resultado1\n",
        "    WHEN condição2 THEN resultado2\n",
        "    ...\n",
        "    ELSE resultado_padrão\n",
        "  END AS nome_da_coluna\n",
        "FROM nome_da_tabela;\n",
        "\n",
        "'''"
      ],
      "metadata": {
        "id": "Gar1NjaazFoR"
      },
      "execution_count": null,
      "outputs": []
    },
    {
      "cell_type": "code",
      "source": [
        "'''\n",
        "70. Liste os clientes e classifique o sexo como 'Feminino' ou 'Masculino'.\n",
        "\n",
        "\n",
        "\n",
        "'''"
      ],
      "metadata": {
        "id": "bL233huAzI1n"
      },
      "execution_count": null,
      "outputs": []
    },
    {
      "cell_type": "code",
      "source": [
        "consulta_70 = '''\n",
        "SELECT nome,\n",
        "       CASE\n",
        "           WHEN sexo = 'F' THEN 'Feminino'\n",
        "           WHEN sexo = 'M' THEN 'Masculino'\n",
        "           ELSE 'Outro'\n",
        "       END AS sexo\n",
        "FROM cliente;\n",
        "'''\n",
        "\n",
        "# Chamada da função passando a consulta\n",
        "consulta(consulta_70)\n"
      ],
      "metadata": {
        "colab": {
          "base_uri": "https://localhost:8080/"
        },
        "id": "WebI07VWXbzA",
        "outputId": "a09ddae4-fae7-4e9b-81f3-63fe782c50dc"
      },
      "execution_count": null,
      "outputs": [
        {
          "output_type": "stream",
          "name": "stdout",
          "text": [
            "Executando a consulta...\n",
            "               nome       sexo\n",
            "0         Ana Silva   Feminino\n",
            "1     Bruna Pereira   Feminino\n",
            "2  Túlio Nascimento  Masculino\n",
            "3    Fernando Souza  Masculino\n",
            "4     Lúcia Andrade   Feminino\n"
          ]
        }
      ]
    },
    {
      "cell_type": "code",
      "source": [
        "'''\n",
        "71. Mostre os carros e classifique o valor: 'Econômico' até 120, 'Padrão' até 150, 'Premium' acima de 150.\n",
        "\n",
        "\n",
        "'''"
      ],
      "metadata": {
        "id": "cQzJl0YazMLB"
      },
      "execution_count": null,
      "outputs": []
    },
    {
      "cell_type": "code",
      "source": [
        "consulta_71 = '''\n",
        "SELECT modelo, valor,\n",
        "       CASE\n",
        "           WHEN valor <= 120 THEN 'Econômico'\n",
        "           WHEN valor <= 150 THEN 'Padrão'\n",
        "           ELSE 'Premium'\n",
        "       END AS classificacao\n",
        "FROM carro;\n",
        "'''\n",
        "\n",
        "# Chamada da função passando a consulta\n",
        "consulta(consulta_71)\n"
      ],
      "metadata": {
        "colab": {
          "base_uri": "https://localhost:8080/"
        },
        "id": "VDnk_YAlXhUG",
        "outputId": "773fb2c7-db57-4fe7-e788-47d12c9c7e1d"
      },
      "execution_count": null,
      "outputs": [
        {
          "output_type": "stream",
          "name": "stdout",
          "text": [
            "Executando a consulta...\n",
            "  modelo  valor classificacao\n",
            "0     Ka  100.0     Econômico\n",
            "1   Argo  150.0        Padrão\n",
            "2   Onix  170.0       Premium\n",
            "3   Polo  150.0        Padrão\n",
            "4   Kwid  120.0     Econômico\n"
          ]
        }
      ]
    },
    {
      "cell_type": "code",
      "source": [
        "'''\n",
        "72. Liste os clientes com uma coluna adicional dizendo 'Casado(a)' se o estado civil for 'C', e 'Solteiro(a)' se for 'S'.\n",
        "\n",
        "\n",
        "\n",
        "'''"
      ],
      "metadata": {
        "id": "t-bkWLwNzPm_"
      },
      "execution_count": null,
      "outputs": []
    },
    {
      "cell_type": "code",
      "source": [
        "consulta_72 = '''\n",
        "SELECT nome,\n",
        "       cidade,\n",
        "       sexo,\n",
        "       CASE\n",
        "           WHEN estadocivil = 'C' THEN 'Casado(a)'\n",
        "           WHEN estadocivil = 'S' THEN 'Solteiro(a)'\n",
        "           ELSE 'Outro'\n",
        "       END AS estado_civil\n",
        "FROM cliente;\n",
        "'''\n",
        "\n",
        "# Chamada da função passando a consulta\n",
        "consulta(consulta_72)\n"
      ],
      "metadata": {
        "colab": {
          "base_uri": "https://localhost:8080/"
        },
        "id": "t3aEQmXOXmnG",
        "outputId": "8be9d088-b220-4b8a-f303-ce9e0553a91d"
      },
      "execution_count": null,
      "outputs": [
        {
          "output_type": "stream",
          "name": "stdout",
          "text": [
            "Executando a consulta...\n",
            "               nome           cidade sexo estado_civil\n",
            "0         Ana Silva  Duque de Caxias    F    Casado(a)\n",
            "1     Bruna Pereira          Niterói    F    Casado(a)\n",
            "2  Túlio Nascimento  Duque de Caxias    M  Solteiro(a)\n",
            "3    Fernando Souza         Campinas    M  Solteiro(a)\n",
            "4     Lúcia Andrade        São Paulo    F    Casado(a)\n"
          ]
        }
      ]
    },
    {
      "cell_type": "code",
      "source": [
        "'''\n",
        "73. Exiba os aluguéis com uma coluna dizendo 'Início do mês' se a data for entre\n",
        "os dias 1 e 10, e 'Final do mês' se for entre 21 e 31.\n",
        "\n",
        "\n",
        "\n",
        "'''"
      ],
      "metadata": {
        "id": "oBCCYkoTzTDi"
      },
      "execution_count": null,
      "outputs": []
    },
    {
      "cell_type": "code",
      "source": [
        "\n",
        "consulta_73 = '''\n",
        "SELECT codaluguel,\n",
        "       codcliente,\n",
        "       codcarro,\n",
        "       data_aluguel,\n",
        "       CASE\n",
        "           WHEN DAY(data_aluguel) BETWEEN 1 AND 10 THEN 'Início do mês'\n",
        "           WHEN DAY(data_aluguel) BETWEEN 21 AND 31 THEN 'Final do mês'\n",
        "           ELSE 'Meio do mês'\n",
        "       END AS periodo_aluguel\n",
        "FROM aluguel;\n",
        "'''\n",
        "\n",
        "# Chamada da função passando a consulta\n",
        "consulta(consulta_73)\n"
      ],
      "metadata": {
        "colab": {
          "base_uri": "https://localhost:8080/"
        },
        "id": "uw9G4vuRX_eF",
        "outputId": "f9f26229-6636-48b4-eb5b-087fb975c1ae"
      },
      "execution_count": null,
      "outputs": [
        {
          "output_type": "stream",
          "name": "stdout",
          "text": [
            "Executando a consulta...\n",
            "   codaluguel  codcliente  codcarro data_aluguel periodo_aluguel\n",
            "0           1           3         2   2023-04-01   Início do mês\n",
            "1           2           2         1   2023-04-02   Início do mês\n",
            "2           3           2         1   2023-04-03   Início do mês\n",
            "3           4           2         3   2023-04-04   Início do mês\n",
            "4           5           1         4   2023-04-05   Início do mês\n",
            "5           6           1         4   2023-04-13     Meio do mês\n",
            "6           7           1         1   2023-04-15     Meio do mês\n",
            "7           8           5         2   2023-04-19     Meio do mês\n",
            "8           9           5         2   2023-04-21    Final do mês\n",
            "9          10           3         1   2023-04-25    Final do mês\n"
          ]
        }
      ]
    },
    {
      "cell_type": "code",
      "source": [
        "'''\n",
        "74. Liste os modelos de carro com uma classificação: 'Popular' para carros da\n",
        "Renault e Fiat, 'Tradicional' para Ford e Volkswagen, e 'Outro' para os demais.\n",
        "\n",
        "\n",
        "\n",
        "'''"
      ],
      "metadata": {
        "id": "l2_dJlZnzWaF"
      },
      "execution_count": null,
      "outputs": []
    },
    {
      "cell_type": "code",
      "source": [
        "consulta_74 = '''\n",
        "SELECT c.modelo,\n",
        "       CASE\n",
        "           WHEN m.marca IN ('Renault', 'Fiat') THEN 'Popular'\n",
        "           WHEN m.marca IN ('Ford', 'Volkswagen') THEN 'Tradicional'\n",
        "           ELSE 'Outro'\n",
        "       END AS classificacao\n",
        "FROM carro c\n",
        "JOIN marca m ON c.codmarca = m.codmarca;\n",
        "'''\n",
        "\n",
        "# Chamada da função passando a consulta\n",
        "consulta(consulta_74)\n"
      ],
      "metadata": {
        "colab": {
          "base_uri": "https://localhost:8080/"
        },
        "id": "0x5DChGEYG-s",
        "outputId": "0fbe9548-09a4-44b9-e79a-3962d71d3dc1"
      },
      "execution_count": null,
      "outputs": [
        {
          "output_type": "stream",
          "name": "stdout",
          "text": [
            "Executando a consulta...\n",
            "  modelo classificacao\n",
            "0     Ka   Tradicional\n",
            "1   Argo       Popular\n",
            "2   Onix         Outro\n",
            "3   Polo   Tradicional\n",
            "4   Kwid       Popular\n"
          ]
        }
      ]
    },
    {
      "cell_type": "markdown",
      "source": [
        "JOINS"
      ],
      "metadata": {
        "id": "mTV42Bv9zbvR"
      }
    },
    {
      "cell_type": "code",
      "source": [
        "'''\n",
        "A cláusula JOIN é usada para combinar registros de duas ou mais tabelas com\n",
        "base em uma condição lógica — normalmente a igualdade entre colunas que têm uma\n",
        "relação, como chaves primárias e estrangeiras.\n",
        "\n",
        "SELECT tabela1.coluna, tabela2.coluna\n",
        "FROM tabela1\n",
        "JOIN tabela2\n",
        "ON tabela1.coluna_relacionada = tabela2.coluna_relacionada;\n",
        "\n",
        "\n",
        "\n",
        "Tipos principais de JOIN:\n",
        "Tipo de JOIN\tO que faz\n",
        "INNER JOIN\t  Retorna apenas os registros que têm correspondência em ambas as\n",
        "              tabelas\n",
        "LEFT JOIN\t    Retorna todos os registros da tabela da esquerda e os que casam\n",
        "              da direita (ou NULL se não houver)\n",
        "RIGHT JOIN\t  Retorna todos os registros da tabela da direita e os que casam\n",
        "              da esquerda (ou NULL se não houver)\n",
        "OUTER JOIN\t  Retorna todos os registros, com ou sem correspondência, das duas\n",
        "              tabelas (nem todos os bancos suportam nativamente)\n",
        "\n",
        "'''"
      ],
      "metadata": {
        "id": "Uvp-Pu8_zdCn"
      },
      "execution_count": null,
      "outputs": []
    },
    {
      "cell_type": "code",
      "source": [
        "'''\n",
        "75. Liste os nomes dos clientes e os modelos dos carros que eles alugaram.\n",
        "\n",
        "\n",
        "\n",
        "'''"
      ],
      "metadata": {
        "id": "RqhVBQmrzha3"
      },
      "execution_count": null,
      "outputs": []
    },
    {
      "cell_type": "code",
      "source": [
        "consulta_75 = '''\n",
        "SELECT c.nome AS cliente, car.modelo AS carro\n",
        "FROM aluguel a\n",
        "JOIN cliente c ON a.codcliente = c.codcliente\n",
        "JOIN carro car ON a.codcarro = car.codcarro;\n",
        "'''\n",
        "\n",
        "# Chamada da função passando a consulta\n",
        "consulta(consulta_75)\n"
      ],
      "metadata": {
        "colab": {
          "base_uri": "https://localhost:8080/"
        },
        "id": "--990kz5YqHM",
        "outputId": "fc149b2a-0d95-4f54-99d6-54d45c118087"
      },
      "execution_count": null,
      "outputs": [
        {
          "output_type": "stream",
          "name": "stdout",
          "text": [
            "Executando a consulta...\n",
            "            cliente carro\n",
            "0  Túlio Nascimento  Argo\n",
            "1     Bruna Pereira    Ka\n",
            "2     Bruna Pereira    Ka\n",
            "3     Bruna Pereira  Onix\n",
            "4         Ana Silva  Polo\n",
            "5         Ana Silva  Polo\n",
            "6         Ana Silva    Ka\n",
            "7     Lúcia Andrade  Argo\n",
            "8     Lúcia Andrade  Argo\n",
            "9  Túlio Nascimento    Ka\n"
          ]
        }
      ]
    },
    {
      "cell_type": "code",
      "source": [
        "'''\n",
        "76. Exiba o nome do cliente, o modelo do carro e a data do aluguel.\n",
        "\n",
        "\n",
        "\n",
        "'''"
      ],
      "metadata": {
        "id": "EsczE3v-zlhj"
      },
      "execution_count": null,
      "outputs": []
    },
    {
      "cell_type": "code",
      "source": [
        "consulta_76 = '''\n",
        "SELECT c.nome AS cliente, car.modelo AS carro, a.data_aluguel AS data\n",
        "FROM aluguel a\n",
        "JOIN cliente c ON a.codcliente = c.codcliente\n",
        "JOIN carro car ON a.codcarro = car.codcarro;\n",
        "'''\n",
        "\n",
        "# Chamada da função passando a consulta\n",
        "consulta(consulta_76)\n"
      ],
      "metadata": {
        "colab": {
          "base_uri": "https://localhost:8080/"
        },
        "id": "R1fQ6d8QYzJ7",
        "outputId": "78725c4b-7fca-493d-da72-18542f55eb12"
      },
      "execution_count": null,
      "outputs": [
        {
          "output_type": "stream",
          "name": "stdout",
          "text": [
            "Executando a consulta...\n",
            "            cliente carro        data\n",
            "0  Túlio Nascimento  Argo  2023-04-01\n",
            "1     Bruna Pereira    Ka  2023-04-02\n",
            "2     Bruna Pereira    Ka  2023-04-03\n",
            "3     Bruna Pereira  Onix  2023-04-04\n",
            "4         Ana Silva  Polo  2023-04-05\n",
            "5         Ana Silva  Polo  2023-04-13\n",
            "6         Ana Silva    Ka  2023-04-15\n",
            "7     Lúcia Andrade  Argo  2023-04-19\n",
            "8     Lúcia Andrade  Argo  2023-04-21\n",
            "9  Túlio Nascimento    Ka  2023-04-25\n"
          ]
        }
      ]
    },
    {
      "cell_type": "code",
      "source": [
        "'''\n",
        "77. Mostre o modelo do carro, a marca e seu valor.\n",
        "\n",
        "\n",
        "\n",
        "'''"
      ],
      "metadata": {
        "id": "Y-9Qzo4Ezoq5"
      },
      "execution_count": null,
      "outputs": []
    },
    {
      "cell_type": "code",
      "source": [
        "consulta_77 = '''\n",
        "SELECT ca.modelo, m.marca, ca.valor\n",
        "FROM carro ca\n",
        "JOIN marca m ON ca.codmarca = m.codmarca;\n",
        "'''\n",
        "\n",
        "# Chamada da função passando a consulta\n",
        "consulta(consulta_77)\n"
      ],
      "metadata": {
        "colab": {
          "base_uri": "https://localhost:8080/"
        },
        "id": "_h4kgx-5Y65Y",
        "outputId": "10d45087-4336-4119-f17f-ba2d21cc903a"
      },
      "execution_count": null,
      "outputs": [
        {
          "output_type": "stream",
          "name": "stdout",
          "text": [
            "Executando a consulta...\n",
            "  modelo       marca  valor\n",
            "0     Ka        Ford  100.0\n",
            "1   Argo        Fiat  150.0\n",
            "2   Onix   Chevrolet  170.0\n",
            "3   Polo  Volkswagen  150.0\n",
            "4   Kwid     Renault  120.0\n"
          ]
        }
      ]
    },
    {
      "cell_type": "code",
      "source": [
        "'''\n",
        "78. Liste os nomes dos clientes e os nomes das marcas dos carros que eles alugaram.\n",
        "\n",
        "\n",
        "\n",
        "'''"
      ],
      "metadata": {
        "id": "giqpOjARzrr6"
      },
      "execution_count": null,
      "outputs": []
    },
    {
      "cell_type": "code",
      "source": [
        "consulta_78 = '''\n",
        "SELECT c.nome AS cliente, m.marca AS marca\n",
        "FROM cliente c\n",
        "JOIN aluguel a ON c.codcliente = a.codcliente\n",
        "JOIN carro ca ON a.codcarro = ca.codcarro\n",
        "JOIN marca m ON ca.codmarca = m.codmarca;\n",
        "'''\n",
        "\n",
        "# Chamada da função passando a consulta\n",
        "consulta(consulta_78)\n"
      ],
      "metadata": {
        "colab": {
          "base_uri": "https://localhost:8080/"
        },
        "id": "Gjamj0EaaFWF",
        "outputId": "857ec059-2a21-4219-88e3-8d86d874d4ae"
      },
      "execution_count": null,
      "outputs": [
        {
          "output_type": "stream",
          "name": "stdout",
          "text": [
            "Executando a consulta...\n",
            "            cliente       marca\n",
            "0     Bruna Pereira        Ford\n",
            "1     Bruna Pereira        Ford\n",
            "2         Ana Silva        Ford\n",
            "3  Túlio Nascimento        Ford\n",
            "4  Túlio Nascimento        Fiat\n",
            "5     Lúcia Andrade        Fiat\n",
            "6     Lúcia Andrade        Fiat\n",
            "7     Bruna Pereira   Chevrolet\n",
            "8         Ana Silva  Volkswagen\n",
            "9         Ana Silva  Volkswagen\n"
          ]
        }
      ]
    },
    {
      "cell_type": "markdown",
      "source": [
        "VIEWS"
      ],
      "metadata": {
        "id": "Ctjk4pzWzu6I"
      }
    },
    {
      "cell_type": "code",
      "source": [
        "'''\n",
        "Uma VIEW (ou visão) é uma tabela virtual criada a partir de uma consulta\n",
        "(SELECT). Ela não armazena os dados fisicamente — apenas a lógica da consulta —\n",
        "mas permite que você acesse e consulte os dados como se fosse uma tabela real.\n",
        "\n",
        "Para que serve uma VIEW?\n",
        "Organizar consultas complexas de forma mais simples.\n",
        "Reutilizar lógica SQL sem reescrever.\n",
        "Restringir acesso a certos dados (ex: ocultar colunas sensíveis).\n",
        "Facilitar o consumo dos dados\n",
        "\n",
        "CREATE VIEW nome_da_view AS\n",
        "SELECT coluna1, coluna2, ...\n",
        "FROM nome_da_tabela\n",
        "WHERE condição;\n",
        "\n",
        "Consultando uma View:\n",
        "SELECT * FROM nome_da_view;\n",
        "\n",
        "\n",
        "Atualizar ou excluir uma VIEW:\n",
        "Atualizar (substituir):\n",
        "CREATE OR REPLACE VIEW nome_da_view AS\n",
        "SELECT ...;\n",
        "\n",
        "Excluir (remover):\n",
        "DROP VIEW nome_da_view;\n",
        "\n",
        "'''"
      ],
      "metadata": {
        "id": "ZJ2HNrmtzzGa"
      },
      "execution_count": null,
      "outputs": []
    },
    {
      "cell_type": "code",
      "source": [
        "'''\n",
        "79. Crie uma view chamada vw_clientes_rj que contenha os clientes do estado do RJ.\n",
        "\n",
        "\n",
        "\n",
        "'''"
      ],
      "metadata": {
        "id": "2rHYfUs6z3yp"
      },
      "execution_count": null,
      "outputs": []
    },
    {
      "cell_type": "code",
      "source": [
        "consulta_79 = '''\n",
        "CREATE VIEW vw_clientes_rj AS\n",
        "SELECT *\n",
        "FROM cliente\n",
        "WHERE estado = 'RJ';\n",
        "'''\n",
        "\n",
        "# Chamada da função passando a consulta\n",
        "consulta(consulta_79)\n"
      ],
      "metadata": {
        "colab": {
          "base_uri": "https://localhost:8080/"
        },
        "id": "cTpsLVXxaO0G",
        "outputId": "cec2960d-1386-4109-c2ff-7db2bef51dc3"
      },
      "execution_count": null,
      "outputs": [
        {
          "output_type": "stream",
          "name": "stdout",
          "text": [
            "Executando a consulta...\n",
            "Nenhum dado encontrado.\n"
          ]
        }
      ]
    },
    {
      "cell_type": "code",
      "source": [
        "'''\n",
        "80. Crie uma view chamada vw_alugueis_detalhados que exibe: nome do cliente,\n",
        "modelo do carro e data do aluguel.\n",
        "\n",
        "\n",
        "\n",
        "'''"
      ],
      "metadata": {
        "id": "i4HMbLj6z7hq"
      },
      "execution_count": null,
      "outputs": []
    },
    {
      "cell_type": "code",
      "source": [
        "consulta_80 = '''\n",
        "CREATE VIEW vw_alugueis_detalhados AS\n",
        "SELECT c.nome AS nome_cliente, ca.modelo AS modelo_carro, a.data_aluguel\n",
        "FROM aluguel a\n",
        "JOIN cliente c ON a.codcliente = c.codcliente\n",
        "JOIN carro ca ON a.codcarro = ca.codcarro;\n",
        "'''\n",
        "\n",
        "# Chamada da função passando a consulta\n",
        "consulta(consulta_80)\n"
      ],
      "metadata": {
        "colab": {
          "base_uri": "https://localhost:8080/"
        },
        "id": "cs0PpCmcaXFs",
        "outputId": "cb971b64-913f-4feb-f5c4-ed8095fabf1d"
      },
      "execution_count": null,
      "outputs": [
        {
          "output_type": "stream",
          "name": "stdout",
          "text": [
            "Executando a consulta...\n",
            "Nenhum dado encontrado.\n"
          ]
        }
      ]
    },
    {
      "cell_type": "markdown",
      "source": [
        "SUBCONSULTAS"
      ],
      "metadata": {
        "id": "mDPBhi62z_D8"
      }
    },
    {
      "cell_type": "code",
      "source": [
        "'''\n",
        "81. Liste os clientes que já alugaram o carro mais caro.\n",
        "\n",
        "\n",
        "\n",
        "'''"
      ],
      "metadata": {
        "id": "U3eXiPhP0Cqi"
      },
      "execution_count": null,
      "outputs": []
    },
    {
      "cell_type": "code",
      "source": [
        "consulta_81 = '''\n",
        "SELECT c.nome\n",
        "FROM cliente c\n",
        "JOIN aluguel a ON c.codcliente = a.codcliente\n",
        "JOIN carro ca ON a.codcarro = ca.codcarro\n",
        "WHERE ca.valor = (SELECT MAX(valor) FROM carro);\n",
        "'''\n",
        "\n",
        "# Chamada da função passando a consulta\n",
        "consulta(consulta_81)\n"
      ],
      "metadata": {
        "colab": {
          "base_uri": "https://localhost:8080/"
        },
        "id": "SNhDO3t6afbn",
        "outputId": "9a143b40-8aa6-440d-c76f-367fe63ab03b"
      },
      "execution_count": null,
      "outputs": [
        {
          "output_type": "stream",
          "name": "stdout",
          "text": [
            "Executando a consulta...\n",
            "            nome\n",
            "0  Bruna Pereira\n"
          ]
        }
      ]
    },
    {
      "cell_type": "code",
      "source": [
        "'''\n",
        "82. Mostre os modelos de carros que nunca foram alugados.\n",
        "\n",
        "\n",
        "'''"
      ],
      "metadata": {
        "id": "IPezHXXV0Fj0"
      },
      "execution_count": null,
      "outputs": []
    },
    {
      "cell_type": "code",
      "source": [
        "consulta_82 = '''\n",
        "SELECT ca.modelo\n",
        "FROM carro ca\n",
        "LEFT JOIN aluguel a ON ca.codcarro = a.codcarro\n",
        "WHERE a.codcarro IS NULL;\n",
        "'''\n",
        "\n",
        "# Chamada da função passando a consulta\n",
        "consulta(consulta_82)\n"
      ],
      "metadata": {
        "colab": {
          "base_uri": "https://localhost:8080/"
        },
        "id": "usg168zEalX2",
        "outputId": "b73ff1f5-2cbf-47a6-ec7d-3a6775779023"
      },
      "execution_count": null,
      "outputs": [
        {
          "output_type": "stream",
          "name": "stdout",
          "text": [
            "Executando a consulta...\n",
            "  modelo\n",
            "0   Kwid\n"
          ]
        }
      ]
    },
    {
      "cell_type": "code",
      "source": [
        "'''\n",
        "83. Use uma CTE para calcular quantos aluguéis cada cliente fez e mostre\n",
        "apenas os que fizeram mais de 2 aluguéis.\n",
        "\n",
        "\n",
        "'''"
      ],
      "metadata": {
        "id": "UeGhG95L0Ixk"
      },
      "execution_count": null,
      "outputs": []
    },
    {
      "cell_type": "code",
      "source": [
        "consulta_83 = '''\n",
        "WITH AlugueisPorCliente AS (\n",
        "    SELECT codcliente, COUNT(*) AS total_alugueis\n",
        "    FROM aluguel\n",
        "    GROUP BY codcliente\n",
        ")\n",
        "SELECT c.nome, a.total_alugueis\n",
        "FROM AlugueisPorCliente a\n",
        "JOIN cliente c ON a.codcliente = c.codcliente\n",
        "WHERE a.total_alugueis > 2;\n",
        "'''\n",
        "\n",
        "# Chamada da função passando a consulta\n",
        "consulta(consulta_83)\n"
      ],
      "metadata": {
        "colab": {
          "base_uri": "https://localhost:8080/"
        },
        "id": "kfCPYwHDargL",
        "outputId": "4885ad30-8d83-43c6-d14f-8202445f8ee2"
      },
      "execution_count": null,
      "outputs": [
        {
          "output_type": "stream",
          "name": "stdout",
          "text": [
            "Executando a consulta...\n",
            "            nome  total_alugueis\n",
            "0      Ana Silva               3\n",
            "1  Bruna Pereira               3\n"
          ]
        }
      ]
    },
    {
      "cell_type": "code",
      "source": [
        "'''\n",
        "84. Use uma CTE para calcular a média de valor dos carros e listar apenas os que\n",
        " estão acima da média.\n",
        "\n",
        "\n",
        "\n",
        "'''"
      ],
      "metadata": {
        "id": "aPECTQ5k0L46"
      },
      "execution_count": null,
      "outputs": []
    },
    {
      "cell_type": "code",
      "source": [
        "consulta_84 = '''\n",
        "WITH MediaCarros AS (\n",
        "    SELECT AVG(valor) AS media_valor\n",
        "    FROM carro\n",
        ")\n",
        "SELECT ca.modelo, ca.valor\n",
        "FROM carro ca, MediaCarros mc\n",
        "WHERE ca.valor > mc.media_valor;\n",
        "'''\n",
        "\n",
        "# Chamada da função passando a consulta\n",
        "consulta(consulta_84)\n"
      ],
      "metadata": {
        "id": "5wsJoc_RaxsR",
        "outputId": "368c6274-b28f-44c9-fc75-af94efd2c797",
        "colab": {
          "base_uri": "https://localhost:8080/"
        }
      },
      "execution_count": null,
      "outputs": [
        {
          "output_type": "stream",
          "name": "stdout",
          "text": [
            "Executando a consulta...\n",
            "  modelo  valor\n",
            "0   Argo  150.0\n",
            "1   Onix  170.0\n",
            "2   Polo  150.0\n"
          ]
        }
      ]
    },
    {
      "cell_type": "code",
      "source": [
        "'''\n",
        "Mini-Projeto SQL: Análise de Aluguéis de Carros\n",
        "Contexto\n",
        "A locadora deseja entender melhor o perfil dos clientes, o desempenho dos carros\n",
        "e o comportamento de aluguéis para tomar decisões mais estratégicas. Seu objetivo é gerar insights úteis com base nos dados já existentes.\n",
        "'''"
      ],
      "metadata": {
        "id": "-CnC36HP0Php"
      },
      "execution_count": null,
      "outputs": []
    },
    {
      "cell_type": "code",
      "source": [
        "'''\n",
        "1. Quantos aluguéis cada cliente fez? (Agregação + GROUP BY)\n",
        "\n",
        "\n",
        "\n",
        "\n",
        "2.\n",
        "Quais carros foram alugados mais de 2 vezes? (GROUP BY + HAVING)\n",
        "\n",
        "\n",
        "\n",
        "3. Quem são os clientes que alugaram o carro mais caro? (SUBCONSULTA + JOIN)\n",
        "\n",
        "\n",
        "\n",
        "4. Quais modelos de carros nunca foram alugados? (SUBCONSULTA NOT IN)\n",
        "\n",
        "\n",
        "\n",
        "\n",
        "5. Classifique os carros como 'Econômico', 'Padrão' ou 'Premium' com base no valor. (CASE)\n",
        "\n",
        "\n",
        "\n",
        "6. Crie uma CTE que retorne os clientes com mais de 2 aluguéis.\n",
        "\n",
        "\n",
        "\n",
        "7. Crie uma VIEW chamada vw_resumo_alugueis com nome do cliente, modelo do carro e data do aluguel.\n",
        "\n",
        "\n",
        "\n",
        "\n",
        "8. Use a vw_resumo_alugueis para consultar todos os aluguéis feitos por 'Ana Silva'.\n",
        "\n",
        "\n",
        "\n",
        "\n",
        "9. Mostre a média de valor dos carros alugados por cliente. (JOIN + GROUP BY + AVG)\n",
        "\n",
        "\n",
        "\n",
        "10. Encontre a cidade com o maior número de clientes. (GROUP BY + ORDER BY + LIMIT)\n",
        "\n",
        "\n",
        "\n",
        "\n",
        "Entrega do Projeto\n",
        "Criem uma sequência de consultas em um notebook.\n",
        "\n",
        "'''"
      ],
      "metadata": {
        "id": "bj66E0TV0S1_"
      },
      "execution_count": null,
      "outputs": []
    },
    {
      "cell_type": "markdown",
      "source": [
        "1. Quantos aluguéis cada cliente fez? (Agregação + GROUP BY)"
      ],
      "metadata": {
        "id": "DqC12APXlPmj"
      }
    },
    {
      "cell_type": "code",
      "source": [
        "import mysql.connector\n",
        "import pandas as pd\n",
        "\n",
        "# Definindo os dados de conexão\n",
        "host = '34.170.104.203'  # IP público da sua instância MySQL na GCP\n",
        "user = 'root'  # Usuário padrão ou o nome do usuário configurado\n",
        "password = ''  # Senha do seu banco de dados MySQL\n",
        "\n",
        "# Criando a conexão com o banco de dados\n",
        "connection = mysql.connector.connect(\n",
        "    host=host,\n",
        "    user=user,\n",
        "    password=password\n",
        ")\n",
        "\n",
        "# Criando o cursor para executar comandos SQL\n",
        "cursor = connection.cursor()\n",
        "\n",
        "# Consulta SQL para listar os bancos de dados\n",
        "query = 'SHOW DATABASES;'\n",
        "cursor.execute(query)\n",
        "\n",
        "# Armazenando os resultados\n",
        "result = cursor.fetchall()\n",
        "\n",
        "# Convertendo os resultados para um DataFrame do Pandas\n",
        "bancos = pd.DataFrame(result, columns=[\"Databases\"])  # Nomeando a coluna corretamente\n",
        "\n",
        "# Exibindo a tabela Pandas\n",
        "display(bancos)\n",
        "\n",
        "# Fechando cursor e conexão\n",
        "cursor.close()\n",
        "connection.close()\n",
        "\n"
      ],
      "metadata": {
        "colab": {
          "base_uri": "https://localhost:8080/",
          "height": 206
        },
        "id": "qVlg3RcblRHL",
        "outputId": "f0211208-d4e1-4460-be59-49c39de9af2f"
      },
      "execution_count": 167,
      "outputs": [
        {
          "output_type": "display_data",
          "data": {
            "text/plain": [
              "            Databases\n",
              "0  information_schema\n",
              "1            locadora\n",
              "2               mysql\n",
              "3  performance_schema\n",
              "4                 sys"
            ],
            "text/html": [
              "\n",
              "  <div id=\"df-aa5b1060-d64d-49fc-8e76-63cac8202e78\" class=\"colab-df-container\">\n",
              "    <div>\n",
              "<style scoped>\n",
              "    .dataframe tbody tr th:only-of-type {\n",
              "        vertical-align: middle;\n",
              "    }\n",
              "\n",
              "    .dataframe tbody tr th {\n",
              "        vertical-align: top;\n",
              "    }\n",
              "\n",
              "    .dataframe thead th {\n",
              "        text-align: right;\n",
              "    }\n",
              "</style>\n",
              "<table border=\"1\" class=\"dataframe\">\n",
              "  <thead>\n",
              "    <tr style=\"text-align: right;\">\n",
              "      <th></th>\n",
              "      <th>Databases</th>\n",
              "    </tr>\n",
              "  </thead>\n",
              "  <tbody>\n",
              "    <tr>\n",
              "      <th>0</th>\n",
              "      <td>information_schema</td>\n",
              "    </tr>\n",
              "    <tr>\n",
              "      <th>1</th>\n",
              "      <td>locadora</td>\n",
              "    </tr>\n",
              "    <tr>\n",
              "      <th>2</th>\n",
              "      <td>mysql</td>\n",
              "    </tr>\n",
              "    <tr>\n",
              "      <th>3</th>\n",
              "      <td>performance_schema</td>\n",
              "    </tr>\n",
              "    <tr>\n",
              "      <th>4</th>\n",
              "      <td>sys</td>\n",
              "    </tr>\n",
              "  </tbody>\n",
              "</table>\n",
              "</div>\n",
              "    <div class=\"colab-df-buttons\">\n",
              "\n",
              "  <div class=\"colab-df-container\">\n",
              "    <button class=\"colab-df-convert\" onclick=\"convertToInteractive('df-aa5b1060-d64d-49fc-8e76-63cac8202e78')\"\n",
              "            title=\"Convert this dataframe to an interactive table.\"\n",
              "            style=\"display:none;\">\n",
              "\n",
              "  <svg xmlns=\"http://www.w3.org/2000/svg\" height=\"24px\" viewBox=\"0 -960 960 960\">\n",
              "    <path d=\"M120-120v-720h720v720H120Zm60-500h600v-160H180v160Zm220 220h160v-160H400v160Zm0 220h160v-160H400v160ZM180-400h160v-160H180v160Zm440 0h160v-160H620v160ZM180-180h160v-160H180v160Zm440 0h160v-160H620v160Z\"/>\n",
              "  </svg>\n",
              "    </button>\n",
              "\n",
              "  <style>\n",
              "    .colab-df-container {\n",
              "      display:flex;\n",
              "      gap: 12px;\n",
              "    }\n",
              "\n",
              "    .colab-df-convert {\n",
              "      background-color: #E8F0FE;\n",
              "      border: none;\n",
              "      border-radius: 50%;\n",
              "      cursor: pointer;\n",
              "      display: none;\n",
              "      fill: #1967D2;\n",
              "      height: 32px;\n",
              "      padding: 0 0 0 0;\n",
              "      width: 32px;\n",
              "    }\n",
              "\n",
              "    .colab-df-convert:hover {\n",
              "      background-color: #E2EBFA;\n",
              "      box-shadow: 0px 1px 2px rgba(60, 64, 67, 0.3), 0px 1px 3px 1px rgba(60, 64, 67, 0.15);\n",
              "      fill: #174EA6;\n",
              "    }\n",
              "\n",
              "    .colab-df-buttons div {\n",
              "      margin-bottom: 4px;\n",
              "    }\n",
              "\n",
              "    [theme=dark] .colab-df-convert {\n",
              "      background-color: #3B4455;\n",
              "      fill: #D2E3FC;\n",
              "    }\n",
              "\n",
              "    [theme=dark] .colab-df-convert:hover {\n",
              "      background-color: #434B5C;\n",
              "      box-shadow: 0px 1px 3px 1px rgba(0, 0, 0, 0.15);\n",
              "      filter: drop-shadow(0px 1px 2px rgba(0, 0, 0, 0.3));\n",
              "      fill: #FFFFFF;\n",
              "    }\n",
              "  </style>\n",
              "\n",
              "    <script>\n",
              "      const buttonEl =\n",
              "        document.querySelector('#df-aa5b1060-d64d-49fc-8e76-63cac8202e78 button.colab-df-convert');\n",
              "      buttonEl.style.display =\n",
              "        google.colab.kernel.accessAllowed ? 'block' : 'none';\n",
              "\n",
              "      async function convertToInteractive(key) {\n",
              "        const element = document.querySelector('#df-aa5b1060-d64d-49fc-8e76-63cac8202e78');\n",
              "        const dataTable =\n",
              "          await google.colab.kernel.invokeFunction('convertToInteractive',\n",
              "                                                    [key], {});\n",
              "        if (!dataTable) return;\n",
              "\n",
              "        const docLinkHtml = 'Like what you see? Visit the ' +\n",
              "          '<a target=\"_blank\" href=https://colab.research.google.com/notebooks/data_table.ipynb>data table notebook</a>'\n",
              "          + ' to learn more about interactive tables.';\n",
              "        element.innerHTML = '';\n",
              "        dataTable['output_type'] = 'display_data';\n",
              "        await google.colab.output.renderOutput(dataTable, element);\n",
              "        const docLink = document.createElement('div');\n",
              "        docLink.innerHTML = docLinkHtml;\n",
              "        element.appendChild(docLink);\n",
              "      }\n",
              "    </script>\n",
              "  </div>\n",
              "\n",
              "\n",
              "<div id=\"df-905075b7-4f59-47dd-8fa3-d3dd6447a65a\">\n",
              "  <button class=\"colab-df-quickchart\" onclick=\"quickchart('df-905075b7-4f59-47dd-8fa3-d3dd6447a65a')\"\n",
              "            title=\"Suggest charts\"\n",
              "            style=\"display:none;\">\n",
              "\n",
              "<svg xmlns=\"http://www.w3.org/2000/svg\" height=\"24px\"viewBox=\"0 0 24 24\"\n",
              "     width=\"24px\">\n",
              "    <g>\n",
              "        <path d=\"M19 3H5c-1.1 0-2 .9-2 2v14c0 1.1.9 2 2 2h14c1.1 0 2-.9 2-2V5c0-1.1-.9-2-2-2zM9 17H7v-7h2v7zm4 0h-2V7h2v10zm4 0h-2v-4h2v4z\"/>\n",
              "    </g>\n",
              "</svg>\n",
              "  </button>\n",
              "\n",
              "<style>\n",
              "  .colab-df-quickchart {\n",
              "      --bg-color: #E8F0FE;\n",
              "      --fill-color: #1967D2;\n",
              "      --hover-bg-color: #E2EBFA;\n",
              "      --hover-fill-color: #174EA6;\n",
              "      --disabled-fill-color: #AAA;\n",
              "      --disabled-bg-color: #DDD;\n",
              "  }\n",
              "\n",
              "  [theme=dark] .colab-df-quickchart {\n",
              "      --bg-color: #3B4455;\n",
              "      --fill-color: #D2E3FC;\n",
              "      --hover-bg-color: #434B5C;\n",
              "      --hover-fill-color: #FFFFFF;\n",
              "      --disabled-bg-color: #3B4455;\n",
              "      --disabled-fill-color: #666;\n",
              "  }\n",
              "\n",
              "  .colab-df-quickchart {\n",
              "    background-color: var(--bg-color);\n",
              "    border: none;\n",
              "    border-radius: 50%;\n",
              "    cursor: pointer;\n",
              "    display: none;\n",
              "    fill: var(--fill-color);\n",
              "    height: 32px;\n",
              "    padding: 0;\n",
              "    width: 32px;\n",
              "  }\n",
              "\n",
              "  .colab-df-quickchart:hover {\n",
              "    background-color: var(--hover-bg-color);\n",
              "    box-shadow: 0 1px 2px rgba(60, 64, 67, 0.3), 0 1px 3px 1px rgba(60, 64, 67, 0.15);\n",
              "    fill: var(--button-hover-fill-color);\n",
              "  }\n",
              "\n",
              "  .colab-df-quickchart-complete:disabled,\n",
              "  .colab-df-quickchart-complete:disabled:hover {\n",
              "    background-color: var(--disabled-bg-color);\n",
              "    fill: var(--disabled-fill-color);\n",
              "    box-shadow: none;\n",
              "  }\n",
              "\n",
              "  .colab-df-spinner {\n",
              "    border: 2px solid var(--fill-color);\n",
              "    border-color: transparent;\n",
              "    border-bottom-color: var(--fill-color);\n",
              "    animation:\n",
              "      spin 1s steps(1) infinite;\n",
              "  }\n",
              "\n",
              "  @keyframes spin {\n",
              "    0% {\n",
              "      border-color: transparent;\n",
              "      border-bottom-color: var(--fill-color);\n",
              "      border-left-color: var(--fill-color);\n",
              "    }\n",
              "    20% {\n",
              "      border-color: transparent;\n",
              "      border-left-color: var(--fill-color);\n",
              "      border-top-color: var(--fill-color);\n",
              "    }\n",
              "    30% {\n",
              "      border-color: transparent;\n",
              "      border-left-color: var(--fill-color);\n",
              "      border-top-color: var(--fill-color);\n",
              "      border-right-color: var(--fill-color);\n",
              "    }\n",
              "    40% {\n",
              "      border-color: transparent;\n",
              "      border-right-color: var(--fill-color);\n",
              "      border-top-color: var(--fill-color);\n",
              "    }\n",
              "    60% {\n",
              "      border-color: transparent;\n",
              "      border-right-color: var(--fill-color);\n",
              "    }\n",
              "    80% {\n",
              "      border-color: transparent;\n",
              "      border-right-color: var(--fill-color);\n",
              "      border-bottom-color: var(--fill-color);\n",
              "    }\n",
              "    90% {\n",
              "      border-color: transparent;\n",
              "      border-bottom-color: var(--fill-color);\n",
              "    }\n",
              "  }\n",
              "</style>\n",
              "\n",
              "  <script>\n",
              "    async function quickchart(key) {\n",
              "      const quickchartButtonEl =\n",
              "        document.querySelector('#' + key + ' button');\n",
              "      quickchartButtonEl.disabled = true;  // To prevent multiple clicks.\n",
              "      quickchartButtonEl.classList.add('colab-df-spinner');\n",
              "      try {\n",
              "        const charts = await google.colab.kernel.invokeFunction(\n",
              "            'suggestCharts', [key], {});\n",
              "      } catch (error) {\n",
              "        console.error('Error during call to suggestCharts:', error);\n",
              "      }\n",
              "      quickchartButtonEl.classList.remove('colab-df-spinner');\n",
              "      quickchartButtonEl.classList.add('colab-df-quickchart-complete');\n",
              "    }\n",
              "    (() => {\n",
              "      let quickchartButtonEl =\n",
              "        document.querySelector('#df-905075b7-4f59-47dd-8fa3-d3dd6447a65a button');\n",
              "      quickchartButtonEl.style.display =\n",
              "        google.colab.kernel.accessAllowed ? 'block' : 'none';\n",
              "    })();\n",
              "  </script>\n",
              "</div>\n",
              "\n",
              "  <div id=\"id_db785236-1d7d-4faa-9983-1561f6947486\">\n",
              "    <style>\n",
              "      .colab-df-generate {\n",
              "        background-color: #E8F0FE;\n",
              "        border: none;\n",
              "        border-radius: 50%;\n",
              "        cursor: pointer;\n",
              "        display: none;\n",
              "        fill: #1967D2;\n",
              "        height: 32px;\n",
              "        padding: 0 0 0 0;\n",
              "        width: 32px;\n",
              "      }\n",
              "\n",
              "      .colab-df-generate:hover {\n",
              "        background-color: #E2EBFA;\n",
              "        box-shadow: 0px 1px 2px rgba(60, 64, 67, 0.3), 0px 1px 3px 1px rgba(60, 64, 67, 0.15);\n",
              "        fill: #174EA6;\n",
              "      }\n",
              "\n",
              "      [theme=dark] .colab-df-generate {\n",
              "        background-color: #3B4455;\n",
              "        fill: #D2E3FC;\n",
              "      }\n",
              "\n",
              "      [theme=dark] .colab-df-generate:hover {\n",
              "        background-color: #434B5C;\n",
              "        box-shadow: 0px 1px 3px 1px rgba(0, 0, 0, 0.15);\n",
              "        filter: drop-shadow(0px 1px 2px rgba(0, 0, 0, 0.3));\n",
              "        fill: #FFFFFF;\n",
              "      }\n",
              "    </style>\n",
              "    <button class=\"colab-df-generate\" onclick=\"generateWithVariable('bancos')\"\n",
              "            title=\"Generate code using this dataframe.\"\n",
              "            style=\"display:none;\">\n",
              "\n",
              "  <svg xmlns=\"http://www.w3.org/2000/svg\" height=\"24px\"viewBox=\"0 0 24 24\"\n",
              "       width=\"24px\">\n",
              "    <path d=\"M7,19H8.4L18.45,9,17,7.55,7,17.6ZM5,21V16.75L18.45,3.32a2,2,0,0,1,2.83,0l1.4,1.43a1.91,1.91,0,0,1,.58,1.4,1.91,1.91,0,0,1-.58,1.4L9.25,21ZM18.45,9,17,7.55Zm-12,3A5.31,5.31,0,0,0,4.9,8.1,5.31,5.31,0,0,0,1,6.5,5.31,5.31,0,0,0,4.9,4.9,5.31,5.31,0,0,0,6.5,1,5.31,5.31,0,0,0,8.1,4.9,5.31,5.31,0,0,0,12,6.5,5.46,5.46,0,0,0,6.5,12Z\"/>\n",
              "  </svg>\n",
              "    </button>\n",
              "    <script>\n",
              "      (() => {\n",
              "      const buttonEl =\n",
              "        document.querySelector('#id_db785236-1d7d-4faa-9983-1561f6947486 button.colab-df-generate');\n",
              "      buttonEl.style.display =\n",
              "        google.colab.kernel.accessAllowed ? 'block' : 'none';\n",
              "\n",
              "      buttonEl.onclick = () => {\n",
              "        google.colab.notebook.generateWithVariable('bancos');\n",
              "      }\n",
              "      })();\n",
              "    </script>\n",
              "  </div>\n",
              "\n",
              "    </div>\n",
              "  </div>\n"
            ],
            "application/vnd.google.colaboratory.intrinsic+json": {
              "type": "dataframe",
              "variable_name": "bancos",
              "summary": "{\n  \"name\": \"bancos\",\n  \"rows\": 5,\n  \"fields\": [\n    {\n      \"column\": \"Databases\",\n      \"properties\": {\n        \"dtype\": \"string\",\n        \"num_unique_values\": 5,\n        \"samples\": [\n          \"locadora\",\n          \"sys\",\n          \"mysql\"\n        ],\n        \"semantic_type\": \"\",\n        \"description\": \"\"\n      }\n    }\n  ]\n}"
            }
          },
          "metadata": {}
        }
      ]
    },
    {
      "cell_type": "code",
      "source": [
        "import mysql.connector\n",
        "import pandas as pd\n",
        "\n",
        "# Dados de conexão\n",
        "host = '34.170.104.203'  # IP da sua instância MySQL na GCP\n",
        "user = 'root'  # Seu nome de usuário do MySQL\n",
        "password = ''  # Senha do seu banco de dados MySQL\n",
        "\n",
        "# Conectando-se ao banco de dados\n",
        "connection = mysql.connector.connect(\n",
        "    host=host,\n",
        "    user=user,\n",
        "    password=password,\n",
        "    database='locadora'  # Substitua pelo nome do seu banco de dados\n",
        ")\n",
        "\n",
        "# Criando o cursor\n",
        "cursor = connection.cursor()\n",
        "\n",
        "# Consulta SQL\n",
        "query = '''\n",
        "SELECT codcliente, COUNT(*) AS total_alugueis\n",
        "FROM aluguel\n",
        "GROUP BY codcliente;\n",
        "'''\n",
        "\n",
        "# Executando a consulta\n",
        "cursor.execute(query)\n",
        "\n",
        "# Recuperando os resultados\n",
        "result = cursor.fetchall()\n",
        "\n",
        "# Convertendo para DataFrame do Pandas\n",
        "df = pd.DataFrame(result, columns=[\"codcliente\", \"total_alugueis\"])\n",
        "\n",
        "# Exibindo os resultados\n",
        "print(df)\n",
        "\n",
        "# Fechando cursor e conexão\n",
        "cursor.close()\n",
        "connection.close()\n",
        "\n"
      ],
      "metadata": {
        "colab": {
          "base_uri": "https://localhost:8080/"
        },
        "id": "tQr3I_2Jm0yH",
        "outputId": "8dbe679d-62a4-4ac3-962f-2617847a20b8"
      },
      "execution_count": 170,
      "outputs": [
        {
          "output_type": "stream",
          "name": "stdout",
          "text": [
            "   codcliente  total_alugueis\n",
            "0           1               3\n",
            "1           2               3\n",
            "2           3               2\n",
            "3           5               2\n"
          ]
        }
      ]
    },
    {
      "cell_type": "markdown",
      "source": [
        "Quais carros foram alugados mais de 2 vezes? (GROUP BY + HAVING)"
      ],
      "metadata": {
        "id": "6qE-ZELinVaf"
      }
    },
    {
      "cell_type": "code",
      "source": [
        "import mysql.connector\n",
        "import pandas as pd\n",
        "\n",
        "# Dados de conexão\n",
        "host = '34.170.104.203'  # IP da sua instância MySQL na GCP\n",
        "user = 'root'  # Seu nome de usuário do MySQL\n",
        "password = ''  # Senha do seu banco de dados MySQL\n",
        "database = 'locadora'  # Nome do seu banco de dados\n",
        "\n",
        "# Conectando-se ao banco de dados\n",
        "connection = mysql.connector.connect(\n",
        "    host=host,\n",
        "    user=user,\n",
        "    password=password,\n",
        "    database=database  # Nome do banco de dados\n",
        ")\n",
        "\n",
        "# Criando o cursor\n",
        "cursor = connection.cursor()\n",
        "\n",
        "# Consulta SQL corretamente como uma string\n",
        "query = '''\n",
        "SELECT codcarro, COUNT(*) AS total_alugueis\n",
        "FROM aluguel\n",
        "GROUP BY codcarro\n",
        "HAVING COUNT(*) > 2;\n",
        "'''\n",
        "\n",
        "# Executando a consulta\n",
        "cursor.execute(query)\n",
        "\n",
        "# Recuperando os resultados\n",
        "result = cursor.fetchall()\n",
        "\n",
        "# Convertendo para DataFrame do Pandas para melhor visualização\n",
        "df = pd.DataFrame(result, columns=[\"codcarro\", \"total_alugueis\"])\n",
        "\n",
        "# Exibindo os resultados\n",
        "print(df)\n",
        "\n",
        "# Fechando cursor e conexão\n",
        "cursor.close()\n",
        "connection.close()\n",
        "\n"
      ],
      "metadata": {
        "colab": {
          "base_uri": "https://localhost:8080/"
        },
        "id": "YacgKmX6nWjh",
        "outputId": "a7067971-8b89-4772-c7a8-4452f766f899"
      },
      "execution_count": 172,
      "outputs": [
        {
          "output_type": "stream",
          "name": "stdout",
          "text": [
            "   codcarro  total_alugueis\n",
            "0         1               4\n",
            "1         2               3\n"
          ]
        }
      ]
    },
    {
      "cell_type": "markdown",
      "source": [
        ". Quem são os clientes que alugaram o carro mais caro? (SUBCONSULTA + JOIN)"
      ],
      "metadata": {
        "id": "YrnfMUfLoW1a"
      }
    },
    {
      "cell_type": "code",
      "source": [
        "import mysql.connector\n",
        "import pandas as pd\n",
        "\n",
        "# Dados de conexão\n",
        "host = '34.170.104.203'  # IP da sua instância MySQL na GCP\n",
        "user = 'root'  # Seu nome de usuário do MySQL\n",
        "password = ''  # Senha do seu banco de dados MySQL\n",
        "database = 'locadora'  # Nome do seu banco de dados\n",
        "\n",
        "# Conectando-se ao banco de dados\n",
        "connection = mysql.connector.connect(\n",
        "    host=host,\n",
        "    user=user,\n",
        "    password=password,\n",
        "    database=database  # Nome do banco de dados\n",
        ")\n",
        "\n",
        "# Criando o cursor\n",
        "cursor = connection.cursor()\n",
        "\n",
        "# Consulta SQL para encontrar os clientes que alugaram o carro mais caro\n",
        "query = '''\n",
        "SELECT c.nome\n",
        "FROM cliente c\n",
        "JOIN aluguel a ON c.codcliente = a.codcliente\n",
        "JOIN carro ca ON a.codcarro = ca.codcarro\n",
        "WHERE ca.valor = (SELECT MAX(valor) FROM carro);\n",
        "'''\n",
        "\n",
        "# Executando a consulta\n",
        "cursor.execute(query)\n",
        "\n",
        "# Recuperando os resultados\n",
        "result = cursor.fetchall()\n",
        "\n",
        "# Convertendo para DataFrame do Pandas para melhor visualização\n",
        "df = pd.DataFrame(result, columns=[\"Nome do Cliente\"])\n",
        "\n",
        "# Exibindo os resultados\n",
        "print(df)\n",
        "\n",
        "# Fechando cursor e conexão\n",
        "cursor.close()\n",
        "connection.close()\n",
        "\n",
        "\n"
      ],
      "metadata": {
        "colab": {
          "base_uri": "https://localhost:8080/"
        },
        "id": "c-EayAqWnr8V",
        "outputId": "1d265f7d-eb94-40c8-a93e-e746313d2aba"
      },
      "execution_count": 176,
      "outputs": [
        {
          "output_type": "stream",
          "name": "stdout",
          "text": [
            "  Nome do Cliente\n",
            "0   Bruna Pereira\n"
          ]
        }
      ]
    },
    {
      "cell_type": "markdown",
      "source": [
        " Quais modelos de carros nunca foram alugados? (SUBCONSULTA NOT IN)"
      ],
      "metadata": {
        "id": "6raAlnOpob8n"
      }
    },
    {
      "cell_type": "code",
      "source": [
        "import mysql.connector\n",
        "import pandas as pd\n",
        "\n",
        "# Dados de conexão\n",
        "host = '34.170.104.203'  # IP da sua instância MySQL na GCP\n",
        "user = 'root'  # Seu nome de usuário do MySQL\n",
        "password = ''  # Senha do seu banco de dados MySQL\n",
        "database = 'locadora'  # Nome do seu banco de dados\n",
        "\n",
        "# Conectando-se ao banco de dados\n",
        "connection = mysql.connector.connect(\n",
        "    host=host,\n",
        "    user=user,\n",
        "    password=password,\n",
        "    database=database  # Nome do banco de dados\n",
        ")\n",
        "\n",
        "# Criando o cursor\n",
        "cursor = connection.cursor()\n",
        "\n",
        "# Consulta SQL para encontrar os modelos de carros que nunca foram alugados\n",
        "query = '''\n",
        "SELECT ca.modelo\n",
        "FROM carro ca\n",
        "WHERE ca.codcarro NOT IN (SELECT a.codcarro FROM aluguel a);\n",
        "'''\n",
        "\n",
        "# Executando a consulta\n",
        "cursor.execute(query)\n",
        "\n",
        "# Recuperando os resultados\n",
        "result = cursor.fetchall()\n",
        "\n",
        "# Convertendo para DataFrame do Pandas para melhor visualização\n",
        "df = pd.DataFrame(result, columns=[\"Modelo do Carro\"])\n",
        "\n",
        "# Exibindo os resultados\n",
        "print(df)\n",
        "\n",
        "# Fechando cursor e conexão\n",
        "cursor.close()\n",
        "connection.close()\n"
      ],
      "metadata": {
        "colab": {
          "base_uri": "https://localhost:8080/"
        },
        "id": "0EW8I9EpojKD",
        "outputId": "fffc5e06-baba-4d25-ae28-eb3dc8f27e42"
      },
      "execution_count": 177,
      "outputs": [
        {
          "output_type": "stream",
          "name": "stdout",
          "text": [
            "  Modelo do Carro\n",
            "0            Kwid\n"
          ]
        }
      ]
    },
    {
      "cell_type": "markdown",
      "source": [
        "Classifique os carros como 'Econômico', 'Padrão' ou 'Premium' com base no valor. (CASE)"
      ],
      "metadata": {
        "id": "hsz3WS5roliQ"
      }
    },
    {
      "cell_type": "code",
      "source": [
        "import mysql.connector\n",
        "import pandas as pd\n",
        "\n",
        "# Dados de conexão\n",
        "host = '34.170.104.203'  # IP da sua instância MySQL na GCP\n",
        "user = 'root'  # Seu nome de usuário do MySQL\n",
        "password = ''  # Senha do seu banco de dados MySQL\n",
        "database = 'locadora'  # Nome do seu banco de dados\n",
        "\n",
        "# Conectando-se ao banco de dados\n",
        "connection = mysql.connector.connect(\n",
        "    host=host,\n",
        "    user=user,\n",
        "    password=password,\n",
        "    database=database  # Nome do banco de dados\n",
        ")\n",
        "\n",
        "# Criando o cursor\n",
        "cursor = connection.cursor()\n",
        "\n",
        "# Consulta SQL para classificar os carros com base no valor\n",
        "query = '''\n",
        "SELECT ca.modelo,\n",
        "       CASE\n",
        "           WHEN ca.valor <= 120 THEN 'Econômico'\n",
        "           WHEN ca.valor <= 150 THEN 'Padrão'\n",
        "           ELSE 'Premium'\n",
        "       END AS classificacao\n",
        "FROM carro ca;\n",
        "'''\n",
        "\n",
        "# Executando a consulta\n",
        "cursor.execute(query)\n",
        "\n",
        "# Recuperando os resultados\n",
        "result = cursor.fetchall()\n",
        "\n",
        "# Convertendo para DataFrame do Pandas para melhor visualização\n",
        "df = pd.DataFrame(result, columns=[\"Modelo do Carro\", \"Classificação\"])\n",
        "\n",
        "# Exibindo os resultados\n",
        "print(df)\n",
        "\n",
        "# Fechando cursor e conexão\n",
        "cursor.close()\n",
        "connection.close()\n"
      ],
      "metadata": {
        "colab": {
          "base_uri": "https://localhost:8080/"
        },
        "id": "faPH4RZeowqg",
        "outputId": "e43cb6eb-aad3-49ef-a9dc-fa6d72e311bc"
      },
      "execution_count": 178,
      "outputs": [
        {
          "output_type": "stream",
          "name": "stdout",
          "text": [
            "  Modelo do Carro Classificação\n",
            "0              Ka     Econômico\n",
            "1            Argo        Padrão\n",
            "2            Onix       Premium\n",
            "3            Polo        Padrão\n",
            "4            Kwid     Econômico\n"
          ]
        }
      ]
    },
    {
      "cell_type": "markdown",
      "source": [
        " Crie uma CTE que retorne os clientes com mais de 2 aluguéis.\n"
      ],
      "metadata": {
        "id": "QmbNFyDroy15"
      }
    },
    {
      "cell_type": "code",
      "source": [
        "import mysql.connector\n",
        "import pandas as pd\n",
        "\n",
        "# Dados de conexão\n",
        "host = '34.170.104.203'  # IP da sua instância MySQL na GCP\n",
        "user = 'root'  # Seu nome de usuário do MySQL\n",
        "password = ''  # Senha do seu banco de dados MySQL\n",
        "database = 'locadora'  # Nome do seu banco de dados\n",
        "\n",
        "# Conectando-se ao banco de dados\n",
        "connection = mysql.connector.connect(\n",
        "    host=host,\n",
        "    user=user,\n",
        "    password=password,\n",
        "    database=database  # Nome do banco de dados\n",
        ")\n",
        "\n",
        "# Criando o cursor\n",
        "cursor = connection.cursor()\n",
        "\n",
        "# Consulta SQL para encontrar os clientes com mais de 2 aluguéis\n",
        "query = '''\n",
        "WITH ClientesAlugueis AS (\n",
        "    SELECT a.codcliente, COUNT(*) AS total_alugueis\n",
        "    FROM aluguel a\n",
        "    GROUP BY a.codcliente\n",
        ")\n",
        "SELECT c.nome\n",
        "FROM cliente c\n",
        "JOIN ClientesAlugueis ca ON c.codcliente = ca.codcliente\n",
        "WHERE ca.total_alugueis > 2;\n",
        "'''\n",
        "\n",
        "# Executando a consulta\n",
        "cursor.execute(query)\n",
        "\n",
        "# Recuperando os resultados\n",
        "result = cursor.fetchall()\n",
        "\n",
        "# Convertendo para DataFrame do Pandas para melhor visualização\n",
        "df = pd.DataFrame(result, columns=[\"Nome do Cliente\"])\n",
        "\n",
        "# Exibindo os resultados\n",
        "print(df)\n",
        "\n",
        "# Fechando cursor e conexão\n",
        "cursor.close()\n",
        "connection.close()\n",
        "\n"
      ],
      "metadata": {
        "colab": {
          "base_uri": "https://localhost:8080/"
        },
        "id": "w7rfowA1o_wA",
        "outputId": "c48ce0de-9879-41c9-b68a-bc391b0231f0"
      },
      "execution_count": 180,
      "outputs": [
        {
          "output_type": "stream",
          "name": "stdout",
          "text": [
            "  Nome do Cliente\n",
            "0       Ana Silva\n",
            "1   Bruna Pereira\n"
          ]
        }
      ]
    },
    {
      "cell_type": "markdown",
      "source": [
        "Crie uma VIEW chamada vw_resumo_alugueis com nome do cliente, modelo do carro e data do aluguel."
      ],
      "metadata": {
        "id": "97AU9xiMpHrq"
      }
    },
    {
      "cell_type": "code",
      "source": [
        "import mysql.connector\n",
        "\n",
        "# Dados de conexão\n",
        "host = '34.170.104.203'  # IP da sua instância MySQL na GCP\n",
        "user = 'root'  # Seu nome de usuário do MySQL\n",
        "password = ''  # Senha do seu banco de dados MySQL\n",
        "database = 'locadora'  # Nome do seu banco de dados\n",
        "\n",
        "# Conectando-se ao banco de dados\n",
        "connection = mysql.connector.connect(\n",
        "    host=host,\n",
        "    user=user,\n",
        "    password=password,\n",
        "    database=database  # Nome do banco de dados\n",
        ")\n",
        "\n",
        "# Criando o cursor\n",
        "cursor = connection.cursor()\n",
        "\n",
        "# Consulta SQL para criar a VIEW\n",
        "query = '''\n",
        "CREATE VIEW vw_resumo_alugueis AS\n",
        "SELECT\n",
        "    c.nome AS nome_cliente,\n",
        "    ca.modelo AS modelo_carro,\n",
        "    a.data_aluguel\n",
        "FROM\n",
        "    aluguel a\n",
        "JOIN\n",
        "    cliente c ON a.codcliente = c.codcliente\n",
        "JOIN\n",
        "    carro ca ON a.codcarro = ca.codcarro;\n",
        "'''\n",
        "\n",
        "# Executando a consulta\n",
        "cursor.execute(query)\n",
        "\n",
        "# Confirmando que a VIEW foi criada\n",
        "print(\"VIEW 'vw_resumo_alugueis' criada com sucesso!\")\n",
        "\n",
        "# Fechando cursor e conexão\n",
        "cursor.close()\n",
        "connection.close()\n"
      ],
      "metadata": {
        "colab": {
          "base_uri": "https://localhost:8080/"
        },
        "id": "0swW1CXzpNbo",
        "outputId": "86ea9a73-a268-47bb-9fe5-3ddde78543ae"
      },
      "execution_count": 181,
      "outputs": [
        {
          "output_type": "stream",
          "name": "stdout",
          "text": [
            "VIEW 'vw_resumo_alugueis' criada com sucesso!\n"
          ]
        }
      ]
    },
    {
      "cell_type": "markdown",
      "source": [
        " Use a vw_resumo_alugueis para consultar todos os aluguéis feitos por 'Ana Silva'."
      ],
      "metadata": {
        "id": "kpDE3BEwpS4x"
      }
    },
    {
      "cell_type": "code",
      "source": [
        "import mysql.connector\n",
        "import pandas as pd\n",
        "\n",
        "# Dados de conexão\n",
        "host = '34.170.104.203'  # IP da sua instância MySQL na GCP\n",
        "user = 'root'  # Seu nome de usuário do MySQL\n",
        "password = ''  # Senha do seu banco de dados MySQL\n",
        "database = 'locadora'  # Nome do seu banco de dados\n",
        "\n",
        "# Conectando-se ao banco de dados\n",
        "connection = mysql.connector.connect(\n",
        "    host=host,\n",
        "    user=user,\n",
        "    password=password,\n",
        "    database=database  # Nome do banco de dados\n",
        ")\n",
        "\n",
        "# Criando o cursor\n",
        "cursor = connection.cursor()\n",
        "\n",
        "# Consulta SQL para consultar os aluguéis feitos por 'Ana Silva'\n",
        "query = '''\n",
        "SELECT *\n",
        "FROM vw_resumo_alugueis\n",
        "WHERE nome_cliente = 'Ana Silva';\n",
        "'''\n",
        "\n",
        "# Executando a consulta\n",
        "cursor.execute(query)\n",
        "\n",
        "# Recuperando os resultados\n",
        "result = cursor.fetchall()\n",
        "\n",
        "# Convertendo para DataFrame do Pandas para melhor visualização\n",
        "df = pd.DataFrame(result, columns=[\"nome_cliente\", \"modelo_carro\", \"data_aluguel\"])\n",
        "\n",
        "# Exibindo os resultados\n",
        "print(df)\n",
        "\n",
        "# Fechando cursor e conexão\n",
        "cursor.close()\n",
        "connection.close()\n"
      ],
      "metadata": {
        "colab": {
          "base_uri": "https://localhost:8080/"
        },
        "id": "1sYpem4WpdYf",
        "outputId": "db1c4b12-0619-4d1d-e58b-423c72e0a310"
      },
      "execution_count": 182,
      "outputs": [
        {
          "output_type": "stream",
          "name": "stdout",
          "text": [
            "  nome_cliente modelo_carro data_aluguel\n",
            "0    Ana Silva         Polo   2023-04-05\n",
            "1    Ana Silva         Polo   2023-04-13\n",
            "2    Ana Silva           Ka   2023-04-15\n"
          ]
        }
      ]
    },
    {
      "cell_type": "markdown",
      "source": [
        "Mostre a média de valor dos carros alugados por cliente. (JOIN + GROUP BY + AVG)\n"
      ],
      "metadata": {
        "id": "xdj63Hvkphrc"
      }
    },
    {
      "cell_type": "code",
      "source": [
        "import mysql.connector\n",
        "import pandas as pd\n",
        "\n",
        "# Dados de conexão\n",
        "host = '34.170.104.203'  # IP da sua instância MySQL na GCP\n",
        "user = 'root'  # Seu nome de usuário do MySQL\n",
        "password = ''  # Senha do seu banco de dados MySQL\n",
        "database = 'locadora'  # Nome do seu banco de dados\n",
        "\n",
        "# Conectando-se ao banco de dados\n",
        "connection = mysql.connector.connect(\n",
        "    host=host,\n",
        "    user=user,\n",
        "    password=password,\n",
        "    database=database  # Nome do banco de dados\n",
        ")\n",
        "\n",
        "# Criando o cursor\n",
        "cursor = connection.cursor()\n",
        "\n",
        "# Consulta SQL para calcular a média de valor dos carros alugados por cliente\n",
        "query = '''\n",
        "SELECT c.nome AS nome_cliente, AVG(ca.valor) AS media_valor\n",
        "FROM cliente c\n",
        "JOIN aluguel a ON c.codcliente = a.codcliente\n",
        "JOIN carro ca ON a.codcarro = ca.codcarro\n",
        "GROUP BY c.codcliente;\n",
        "'''\n",
        "\n",
        "# Executando a consulta\n",
        "cursor.execute(query)\n",
        "\n",
        "# Recuperando os resultados\n",
        "result = cursor.fetchall()\n",
        "\n",
        "# Convertendo para DataFrame do Pandas para melhor visualização\n",
        "df = pd.DataFrame(result, columns=[\"Nome do Cliente\", \"Média Valor\"])\n",
        "\n",
        "# Exibindo os resultados\n",
        "print(df)\n",
        "\n",
        "# Fechando cursor e conexão\n",
        "cursor.close()\n",
        "connection.close()\n"
      ],
      "metadata": {
        "colab": {
          "base_uri": "https://localhost:8080/"
        },
        "id": "2d-lntzVplym",
        "outputId": "6b93827e-9d06-4e03-a4e9-7349d245939f"
      },
      "execution_count": 183,
      "outputs": [
        {
          "output_type": "stream",
          "name": "stdout",
          "text": [
            "    Nome do Cliente  Média Valor\n",
            "0  Túlio Nascimento   125.000000\n",
            "1     Bruna Pereira   123.333333\n",
            "2         Ana Silva   133.333333\n",
            "3     Lúcia Andrade   150.000000\n"
          ]
        }
      ]
    },
    {
      "cell_type": "markdown",
      "source": [
        " Encontre a cidade com o maior número de clientes. (GROUP BY + ORDER BY + LIMIT)\n",
        ""
      ],
      "metadata": {
        "id": "V5ZW9cACpxQm"
      }
    },
    {
      "cell_type": "code",
      "source": [
        "import mysql.connector\n",
        "import pandas as pd\n",
        "\n",
        "# Dados de conexão\n",
        "host = '34.170.104.203'  # IP da sua instância MySQL na GCP\n",
        "user = 'root'  # Seu nome de usuário do MySQL\n",
        "password = ''  # Senha do seu banco de dados MySQL\n",
        "database = 'locadora'  # Nome do seu banco de dados\n",
        "\n",
        "# Conectando-se ao banco de dados\n",
        "connection = mysql.connector.connect(\n",
        "    host=host,\n",
        "    user=user,\n",
        "    password=password,\n",
        "    database=database  # Nome do banco de dados\n",
        ")\n",
        "\n",
        "# Criando o cursor\n",
        "cursor = connection.cursor()\n",
        "\n",
        "# Consulta SQL para encontrar a cidade com o maior número de clientes\n",
        "query = '''\n",
        "SELECT cidade, COUNT(*) AS total_clientes\n",
        "FROM cliente\n",
        "GROUP BY cidade\n",
        "ORDER BY total_clientes DESC\n",
        "LIMIT 1;\n",
        "'''\n",
        "\n",
        "try:\n",
        "    # Executando a consulta\n",
        "    cursor.execute(query)\n",
        "\n",
        "    # Recuperando os resultados\n",
        "    result = cursor.fetchall()\n",
        "\n",
        "    # Verifica se algum resultado foi retornado\n",
        "    if result:\n",
        "        # Convertendo para DataFrame do Pandas para melhor visualização\n",
        "        df = pd.DataFrame(result, columns=[\"Cidade\", \"Total de Clientes\"])\n",
        "        # Exibindo os resultados\n",
        "        print(df)\n",
        "    else:\n",
        "        print(\"Nenhum resultado encontrado para a consulta.\")\n",
        "\n",
        "except mysql.connector.Error as err:\n",
        "    print(f\"Erro ao executar a consulta: {err}\")\n",
        "\n",
        "finally:\n",
        "    # Fechando cursor e conexão\n",
        "    cursor.close()\n",
        "    connection.close()\n"
      ],
      "metadata": {
        "colab": {
          "base_uri": "https://localhost:8080/"
        },
        "id": "1OzCDJSVpyzB",
        "outputId": "17052ea4-ccea-453e-a8e7-34b4410fa8cc"
      },
      "execution_count": 186,
      "outputs": [
        {
          "output_type": "stream",
          "name": "stdout",
          "text": [
            "            Cidade  Total de Clientes\n",
            "0  Duque de Caxias                  2\n"
          ]
        }
      ]
    }
  ]
}